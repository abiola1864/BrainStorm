{
  "cells": [
    {
      "cell_type": "code",
      "execution_count": null,
      "metadata": {
        "colab": {
          "base_uri": "https://localhost:8080/"
        },
        "id": "CXBNb27YsP53",
        "outputId": "6c400b94-709c-4db7-f49a-05723f43c37e"
      },
      "outputs": [
        {
          "name": "stdout",
          "output_type": "stream",
          "text": [
            "Requirement already satisfied: torch in /usr/local/lib/python3.7/dist-packages (1.10.0+cu111)\n",
            "Requirement already satisfied: typing-extensions in /usr/local/lib/python3.7/dist-packages (from torch) (3.10.0.2)\n",
            "Collecting transformers\n",
            "  Downloading transformers-4.16.2-py3-none-any.whl (3.5 MB)\n",
            "\u001b[K     |████████████████████████████████| 3.5 MB 14.6 MB/s \n",
            "\u001b[?25hRequirement already satisfied: regex!=2019.12.17 in /usr/local/lib/python3.7/dist-packages (from transformers) (2019.12.20)\n",
            "Requirement already satisfied: importlib-metadata in /usr/local/lib/python3.7/dist-packages (from transformers) (4.11.1)\n",
            "Requirement already satisfied: numpy>=1.17 in /usr/local/lib/python3.7/dist-packages (from transformers) (1.21.5)\n",
            "Requirement already satisfied: filelock in /usr/local/lib/python3.7/dist-packages (from transformers) (3.6.0)\n",
            "Requirement already satisfied: requests in /usr/local/lib/python3.7/dist-packages (from transformers) (2.23.0)\n",
            "Collecting huggingface-hub<1.0,>=0.1.0\n",
            "  Downloading huggingface_hub-0.4.0-py3-none-any.whl (67 kB)\n",
            "\u001b[K     |████████████████████████████████| 67 kB 2.6 MB/s \n",
            "\u001b[?25hRequirement already satisfied: tqdm>=4.27 in /usr/local/lib/python3.7/dist-packages (from transformers) (4.62.3)\n",
            "Collecting pyyaml>=5.1\n",
            "  Downloading PyYAML-6.0-cp37-cp37m-manylinux_2_5_x86_64.manylinux1_x86_64.manylinux_2_12_x86_64.manylinux2010_x86_64.whl (596 kB)\n",
            "\u001b[K     |████████████████████████████████| 596 kB 37.3 MB/s \n",
            "\u001b[?25hCollecting sacremoses\n",
            "  Downloading sacremoses-0.0.47-py2.py3-none-any.whl (895 kB)\n",
            "\u001b[K     |████████████████████████████████| 895 kB 39.5 MB/s \n",
            "\u001b[?25hRequirement already satisfied: packaging>=20.0 in /usr/local/lib/python3.7/dist-packages (from transformers) (21.3)\n",
            "Collecting tokenizers!=0.11.3,>=0.10.1\n",
            "  Downloading tokenizers-0.11.6-cp37-cp37m-manylinux_2_12_x86_64.manylinux2010_x86_64.whl (6.5 MB)\n",
            "\u001b[K     |████████████████████████████████| 6.5 MB 38.0 MB/s \n",
            "\u001b[?25hRequirement already satisfied: typing-extensions>=3.7.4.3 in /usr/local/lib/python3.7/dist-packages (from huggingface-hub<1.0,>=0.1.0->transformers) (3.10.0.2)\n",
            "Requirement already satisfied: pyparsing!=3.0.5,>=2.0.2 in /usr/local/lib/python3.7/dist-packages (from packaging>=20.0->transformers) (3.0.7)\n",
            "Requirement already satisfied: zipp>=0.5 in /usr/local/lib/python3.7/dist-packages (from importlib-metadata->transformers) (3.7.0)\n",
            "Requirement already satisfied: certifi>=2017.4.17 in /usr/local/lib/python3.7/dist-packages (from requests->transformers) (2021.10.8)\n",
            "Requirement already satisfied: chardet<4,>=3.0.2 in /usr/local/lib/python3.7/dist-packages (from requests->transformers) (3.0.4)\n",
            "Requirement already satisfied: urllib3!=1.25.0,!=1.25.1,<1.26,>=1.21.1 in /usr/local/lib/python3.7/dist-packages (from requests->transformers) (1.24.3)\n",
            "Requirement already satisfied: idna<3,>=2.5 in /usr/local/lib/python3.7/dist-packages (from requests->transformers) (2.10)\n",
            "Requirement already satisfied: click in /usr/local/lib/python3.7/dist-packages (from sacremoses->transformers) (7.1.2)\n",
            "Requirement already satisfied: joblib in /usr/local/lib/python3.7/dist-packages (from sacremoses->transformers) (1.1.0)\n",
            "Requirement already satisfied: six in /usr/local/lib/python3.7/dist-packages (from sacremoses->transformers) (1.15.0)\n",
            "Installing collected packages: pyyaml, tokenizers, sacremoses, huggingface-hub, transformers\n",
            "  Attempting uninstall: pyyaml\n",
            "    Found existing installation: PyYAML 3.13\n",
            "    Uninstalling PyYAML-3.13:\n",
            "      Successfully uninstalled PyYAML-3.13\n",
            "Successfully installed huggingface-hub-0.4.0 pyyaml-6.0 sacremoses-0.0.47 tokenizers-0.11.6 transformers-4.16.2\n"
          ]
        }
      ],
      "source": [
        "!pip install torch\n",
        "!pip install transformers"
      ]
    },
    {
      "cell_type": "code",
      "execution_count": null,
      "metadata": {
        "colab": {
          "base_uri": "https://localhost:8080/"
        },
        "id": "ph7HclSSsB40",
        "outputId": "7aeaf11f-8cb3-4a21-c874-0cd212a002d0"
      },
      "outputs": [
        {
          "name": "stdout",
          "output_type": "stream",
          "text": [
            "[nltk_data] Downloading package wordnet to /root/nltk_data...\n",
            "[nltk_data]   Unzipping corpora/wordnet.zip.\n"
          ]
        },
        {
          "data": {
            "text/plain": [
              "True"
            ]
          },
          "execution_count": 10,
          "metadata": {},
          "output_type": "execute_result"
        }
      ],
      "source": [
        "## for data\n",
        "import json\n",
        "import pandas as pd\n",
        "import numpy as np\n",
        "from sklearn import metrics, manifold\n",
        "## for processing\n",
        "import re\n",
        "import nltk\n",
        "## for plotting\n",
        "import matplotlib.pyplot as plt\n",
        "import seaborn as sns\n",
        "## for w2v\n",
        "import gensim\n",
        "import gensim.downloader as gensim_api\n",
        "## for bert\n",
        "import transformers\n",
        "\n",
        "import nltk\n",
        "nltk.download('wordnet')\n"
      ]
    },
    {
      "cell_type": "code",
      "execution_count": null,
      "metadata": {
        "colab": {
          "base_uri": "https://localhost:8080/"
        },
        "id": "pGNN3WFwsRz4",
        "outputId": "8d7d095d-0f3e-4238-8ae8-6e870b38819c"
      },
      "outputs": [
        {
          "name": "stdout",
          "output_type": "stream",
          "text": [
            "Mounted at /content/drive\n"
          ]
        }
      ],
      "source": [
        "from google.colab import drive\n",
        "drive.mount('/content/drive')\n"
      ]
    },
    {
      "cell_type": "code",
      "execution_count": null,
      "metadata": {
        "id": "IlE-D3xB4kOJ"
      },
      "outputs": [],
      "source": [
        "nlp = gensim_api.load(\"glove-wiki-gigaword-300\")#The gensim package has a very convenient function that returns the most similar words for any given word into the vocabulary."
      ]
    },
    {
      "cell_type": "code",
      "execution_count": null,
      "metadata": {
        "colab": {
          "base_uri": "https://localhost:8080/",
          "height": 206
        },
        "id": "xnYaAHdLWV-Q",
        "outputId": "2ae415f3-f27b-4ad6-d6e9-ba16c94dc905"
      },
      "outputs": [
        {
          "data": {
            "text/html": [
              "\n",
              "  <div id=\"df-44db7614-83c7-45c3-a148-f0e798b1c412\">\n",
              "    <div class=\"colab-df-container\">\n",
              "      <div>\n",
              "<style scoped>\n",
              "    .dataframe tbody tr th:only-of-type {\n",
              "        vertical-align: middle;\n",
              "    }\n",
              "\n",
              "    .dataframe tbody tr th {\n",
              "        vertical-align: top;\n",
              "    }\n",
              "\n",
              "    .dataframe thead th {\n",
              "        text-align: right;\n",
              "    }\n",
              "</style>\n",
              "<table border=\"1\" class=\"dataframe\">\n",
              "  <thead>\n",
              "    <tr style=\"text-align: right;\">\n",
              "      <th></th>\n",
              "      <th>Date</th>\n",
              "      <th>Query</th>\n",
              "      <th>IsImplicitIntent</th>\n",
              "      <th>State</th>\n",
              "      <th>Country</th>\n",
              "      <th>PopularityScore</th>\n",
              "    </tr>\n",
              "  </thead>\n",
              "  <tbody>\n",
              "    <tr>\n",
              "      <th>0</th>\n",
              "      <td>2020-05-01</td>\n",
              "      <td>coronavirus uk</td>\n",
              "      <td>False</td>\n",
              "      <td>Cambridgeshire</td>\n",
              "      <td>United Kingdom</td>\n",
              "      <td>18</td>\n",
              "    </tr>\n",
              "    <tr>\n",
              "      <th>1</th>\n",
              "      <td>2020-05-01</td>\n",
              "      <td>coronavirus en canarias</td>\n",
              "      <td>False</td>\n",
              "      <td>Canary Islands</td>\n",
              "      <td>Spain</td>\n",
              "      <td>3</td>\n",
              "    </tr>\n",
              "    <tr>\n",
              "      <th>2</th>\n",
              "      <td>2020-05-01</td>\n",
              "      <td>face mask pattern free</td>\n",
              "      <td>True</td>\n",
              "      <td>Missouri</td>\n",
              "      <td>United States</td>\n",
              "      <td>4</td>\n",
              "    </tr>\n",
              "    <tr>\n",
              "      <th>3</th>\n",
              "      <td>2020-05-01</td>\n",
              "      <td>coronavirus latest</td>\n",
              "      <td>False</td>\n",
              "      <td>Cambridgeshire</td>\n",
              "      <td>United Kingdom</td>\n",
              "      <td>1</td>\n",
              "    </tr>\n",
              "    <tr>\n",
              "      <th>4</th>\n",
              "      <td>2020-05-01</td>\n",
              "      <td>face mask pattern</td>\n",
              "      <td>True</td>\n",
              "      <td>Missouri</td>\n",
              "      <td>United States</td>\n",
              "      <td>4</td>\n",
              "    </tr>\n",
              "  </tbody>\n",
              "</table>\n",
              "</div>\n",
              "      <button class=\"colab-df-convert\" onclick=\"convertToInteractive('df-44db7614-83c7-45c3-a148-f0e798b1c412')\"\n",
              "              title=\"Convert this dataframe to an interactive table.\"\n",
              "              style=\"display:none;\">\n",
              "        \n",
              "  <svg xmlns=\"http://www.w3.org/2000/svg\" height=\"24px\"viewBox=\"0 0 24 24\"\n",
              "       width=\"24px\">\n",
              "    <path d=\"M0 0h24v24H0V0z\" fill=\"none\"/>\n",
              "    <path d=\"M18.56 5.44l.94 2.06.94-2.06 2.06-.94-2.06-.94-.94-2.06-.94 2.06-2.06.94zm-11 1L8.5 8.5l.94-2.06 2.06-.94-2.06-.94L8.5 2.5l-.94 2.06-2.06.94zm10 10l.94 2.06.94-2.06 2.06-.94-2.06-.94-.94-2.06-.94 2.06-2.06.94z\"/><path d=\"M17.41 7.96l-1.37-1.37c-.4-.4-.92-.59-1.43-.59-.52 0-1.04.2-1.43.59L10.3 9.45l-7.72 7.72c-.78.78-.78 2.05 0 2.83L4 21.41c.39.39.9.59 1.41.59.51 0 1.02-.2 1.41-.59l7.78-7.78 2.81-2.81c.8-.78.8-2.07 0-2.86zM5.41 20L4 18.59l7.72-7.72 1.47 1.35L5.41 20z\"/>\n",
              "  </svg>\n",
              "      </button>\n",
              "      \n",
              "  <style>\n",
              "    .colab-df-container {\n",
              "      display:flex;\n",
              "      flex-wrap:wrap;\n",
              "      gap: 12px;\n",
              "    }\n",
              "\n",
              "    .colab-df-convert {\n",
              "      background-color: #E8F0FE;\n",
              "      border: none;\n",
              "      border-radius: 50%;\n",
              "      cursor: pointer;\n",
              "      display: none;\n",
              "      fill: #1967D2;\n",
              "      height: 32px;\n",
              "      padding: 0 0 0 0;\n",
              "      width: 32px;\n",
              "    }\n",
              "\n",
              "    .colab-df-convert:hover {\n",
              "      background-color: #E2EBFA;\n",
              "      box-shadow: 0px 1px 2px rgba(60, 64, 67, 0.3), 0px 1px 3px 1px rgba(60, 64, 67, 0.15);\n",
              "      fill: #174EA6;\n",
              "    }\n",
              "\n",
              "    [theme=dark] .colab-df-convert {\n",
              "      background-color: #3B4455;\n",
              "      fill: #D2E3FC;\n",
              "    }\n",
              "\n",
              "    [theme=dark] .colab-df-convert:hover {\n",
              "      background-color: #434B5C;\n",
              "      box-shadow: 0px 1px 3px 1px rgba(0, 0, 0, 0.15);\n",
              "      filter: drop-shadow(0px 1px 2px rgba(0, 0, 0, 0.3));\n",
              "      fill: #FFFFFF;\n",
              "    }\n",
              "  </style>\n",
              "\n",
              "      <script>\n",
              "        const buttonEl =\n",
              "          document.querySelector('#df-44db7614-83c7-45c3-a148-f0e798b1c412 button.colab-df-convert');\n",
              "        buttonEl.style.display =\n",
              "          google.colab.kernel.accessAllowed ? 'block' : 'none';\n",
              "\n",
              "        async function convertToInteractive(key) {\n",
              "          const element = document.querySelector('#df-44db7614-83c7-45c3-a148-f0e798b1c412');\n",
              "          const dataTable =\n",
              "            await google.colab.kernel.invokeFunction('convertToInteractive',\n",
              "                                                     [key], {});\n",
              "          if (!dataTable) return;\n",
              "\n",
              "          const docLinkHtml = 'Like what you see? Visit the ' +\n",
              "            '<a target=\"_blank\" href=https://colab.research.google.com/notebooks/data_table.ipynb>data table notebook</a>'\n",
              "            + ' to learn more about interactive tables.';\n",
              "          element.innerHTML = '';\n",
              "          dataTable['output_type'] = 'display_data';\n",
              "          await google.colab.output.renderOutput(dataTable, element);\n",
              "          const docLink = document.createElement('div');\n",
              "          docLink.innerHTML = docLinkHtml;\n",
              "          element.appendChild(docLink);\n",
              "        }\n",
              "      </script>\n",
              "    </div>\n",
              "  </div>\n",
              "  "
            ],
            "text/plain": [
              "         Date                    Query  ...         Country PopularityScore\n",
              "0  2020-05-01           coronavirus uk  ...  United Kingdom              18\n",
              "1  2020-05-01  coronavirus en canarias  ...           Spain               3\n",
              "2  2020-05-01   face mask pattern free  ...   United States               4\n",
              "3  2020-05-01       coronavirus latest  ...  United Kingdom               1\n",
              "4  2020-05-01        face mask pattern  ...   United States               4\n",
              "\n",
              "[5 rows x 6 columns]"
            ]
          },
          "execution_count": 68,
          "metadata": {},
          "output_type": "execute_result"
        }
      ],
      "source": [
        "#jan = pd.read_csv(\"https://raw.githubusercontent.com/microsoft/BingCoronavirusQuerySet/master/data/2020/QueriesByState_2020-01-01_2020-01-31.tsv\", sep='\\t', header=0)\n",
        "\n",
        "#feb = pd.read_csv(\"https://raw.githubusercontent.com/microsoft/BingCoronavirusQuerySet/master/data/2020/QueriesByCountry_2020-02-01_2020-02-29.tsv\", sep='\\t', header=0)\n",
        "\n",
        "#mar = pd.read_csv(\"https://raw.githubusercontent.com/microsoft/BingCoronavirusQuerySet/master/data/2020/QueriesByState_2020-03-01_2020-03-31.tsv\", sep='\\t', header=0)\n",
        "\n",
        "#apr = pd.read_csv(\"https://raw.githubusercontent.com/microsoft/BingCoronavirusQuerySet/master/data/2020/QueriesByState_2020-04-01_2020-04-30.tsv\", sep='\\t', header=0)\n",
        "\n",
        "may = pd.read_csv(\"https://raw.githubusercontent.com/microsoft/BingCoronavirusQuerySet/master/data/2020/QueriesByState_2020-05-01_2020-05-31.tsv\", sep='\\t', header=0)\n",
        "\n",
        "jun = pd.read_csv(\"https://raw.githubusercontent.com/microsoft/BingCoronavirusQuerySet/master/data/2020/QueriesByState_2020-06-01_2020-06-30.tsv\", sep='\\t', header=0)\n",
        "\n",
        "#jul =pd.read_csv(\"https://raw.githubusercontent.com/microsoft/BingCoronavirusQuerySet/master/data/2020/QueriesByState_2020-07-01_2020-07-31.tsv\", sep='\\t', header=0)\n",
        "\n",
        "#aug = pd.read_csv(\"https://raw.githubusercontent.com/microsoft/BingCoronavirusQuerySet/master/data/2020/QueriesByState_2020-08-01_2020-08-31.tsv\", sep='\\t', header=0)\n",
        "\n",
        "#sep = pd.read_csv(\"https://raw.githubusercontent.com/microsoft/BingCoronavirusQuerySet/master/data/2020/QueriesByState_2020-09-01_2020-09-30.tsv\", sep='\\t', header=0)\n",
        "\n",
        "#oct = pd.read_csv(\"https://raw.githubusercontent.com/microsoft/BingCoronavirusQuerySet/master/data/2020/QueriesByState_2020-10-01_2020-10-31.tsv\", sep='\\t', header=0)\n",
        "\n",
        "#nov = pd.read_csv(\"https://raw.githubusercontent.com/microsoft/BingCoronavirusQuerySet/master/data/2020/QueriesByState_2020-11-01_2020-11-30.tsv\", sep='\\t', header=0)\n",
        "\n",
        "#dec = pd.read_csv(\"https://raw.githubusercontent.com/microsoft/BingCoronavirusQuerySet/master/data/2020/QueriesByState_2020-12-01_2020-12-31.tsv\", sep='\\t', header=0)\n",
        "\n",
        "#jan21= pd.read_csv(\"https://raw.githubusercontent.com/microsoft/BingCoronavirusQuerySet/master/data/2021/QueriesByState_2021-01-01_2021-01-31.tsv\", sep='\\t', header=0)\n",
        "\n",
        "dtf = pd.concat([may, jun], ignore_index=True)\n",
        "\n",
        "\n",
        "dtf.to_csv(\"df.csv\")\n",
        "dtf.head()\n",
        "\n"
      ]
    },
    {
      "cell_type": "code",
      "execution_count": null,
      "metadata": {
        "id": "3G9kquPf2T-t"
      },
      "outputs": [],
      "source": [
        "def standardize_text(df, text_field):\n",
        "      df[text_field] = df[text_field].str.replace(r\"http\\S+\", \"\") #http matches literal characters \\S+ matches all non-whitespace characters (the end of the url)\n",
        "      df[text_field] = df[text_field].str.replace(r\"http\", \"\")#http matches literal characters\n",
        "      df[text_field] = df[text_field].str.replace(r\"@\\S+\", \"\") #matches all non-whitespace characters (the end of the url)\n",
        "      df[text_field] = df[text_field].str.replace(r\"[^A-Za-z0-9(),!?@\\'\\`\\\"\\_\\n]\", \" \") #force the first letter to be alphabetic and the remaining characters to be \n",
        "      #alphanumeric or any of the following special characters:\n",
        "      df[text_field] = df[text_field].str.replace(r\"@\", \"at\")\n",
        "      df[text_field] = df[text_field].str.lower()\n",
        "      df[text_field] = df[text_field].str.replace(r\"[^a-zA-Z]\", \" \")# Search for all non-letters,  Replace all non-letters with spaces\n",
        "      return df\n"
      ]
    },
    {
      "cell_type": "code",
      "execution_count": null,
      "metadata": {
        "colab": {
          "base_uri": "https://localhost:8080/",
          "height": 345
        },
        "id": "T1JaPRIH2mK2",
        "outputId": "f1facbcd-3776-4760-8d8b-764ad520bf0d"
      },
      "outputs": [
        {
          "name": "stderr",
          "output_type": "stream",
          "text": [
            "/usr/local/lib/python3.7/dist-packages/ipykernel_launcher.py:2: FutureWarning: The default value of regex will change from True to False in a future version.\n",
            "  \n",
            "/usr/local/lib/python3.7/dist-packages/ipykernel_launcher.py:4: FutureWarning: The default value of regex will change from True to False in a future version.\n",
            "  after removing the cwd from sys.path.\n",
            "/usr/local/lib/python3.7/dist-packages/ipykernel_launcher.py:5: FutureWarning: The default value of regex will change from True to False in a future version.\n",
            "  \"\"\"\n",
            "/usr/local/lib/python3.7/dist-packages/ipykernel_launcher.py:8: FutureWarning: The default value of regex will change from True to False in a future version.\n",
            "  \n"
          ]
        },
        {
          "data": {
            "text/html": [
              "\n",
              "  <div id=\"df-0ad20209-cea6-4f4d-b9ad-bbbda51f25bf\">\n",
              "    <div class=\"colab-df-container\">\n",
              "      <div>\n",
              "<style scoped>\n",
              "    .dataframe tbody tr th:only-of-type {\n",
              "        vertical-align: middle;\n",
              "    }\n",
              "\n",
              "    .dataframe tbody tr th {\n",
              "        vertical-align: top;\n",
              "    }\n",
              "\n",
              "    .dataframe thead th {\n",
              "        text-align: right;\n",
              "    }\n",
              "</style>\n",
              "<table border=\"1\" class=\"dataframe\">\n",
              "  <thead>\n",
              "    <tr style=\"text-align: right;\">\n",
              "      <th></th>\n",
              "      <th>Unnamed: 0</th>\n",
              "      <th>Date</th>\n",
              "      <th>Query</th>\n",
              "      <th>IsImplicitIntent</th>\n",
              "      <th>State</th>\n",
              "      <th>Country</th>\n",
              "      <th>PopularityScore</th>\n",
              "    </tr>\n",
              "  </thead>\n",
              "  <tbody>\n",
              "    <tr>\n",
              "      <th>1003475</th>\n",
              "      <td>1003475</td>\n",
              "      <td>2020-06-30</td>\n",
              "      <td>nzta</td>\n",
              "      <td>True</td>\n",
              "      <td>Waikato</td>\n",
              "      <td>New Zealand</td>\n",
              "      <td>1</td>\n",
              "    </tr>\n",
              "    <tr>\n",
              "      <th>1003476</th>\n",
              "      <td>1003476</td>\n",
              "      <td>2020-06-30</td>\n",
              "      <td>virginia coronavirus</td>\n",
              "      <td>False</td>\n",
              "      <td>Virginia</td>\n",
              "      <td>United States</td>\n",
              "      <td>46</td>\n",
              "    </tr>\n",
              "    <tr>\n",
              "      <th>1003477</th>\n",
              "      <td>1003477</td>\n",
              "      <td>2020-06-30</td>\n",
              "      <td>de morgen</td>\n",
              "      <td>True</td>\n",
              "      <td>Brussels Region</td>\n",
              "      <td>Belgium</td>\n",
              "      <td>26</td>\n",
              "    </tr>\n",
              "    <tr>\n",
              "      <th>1003478</th>\n",
              "      <td>1003478</td>\n",
              "      <td>2020-06-30</td>\n",
              "      <td>kdhe covid</td>\n",
              "      <td>False</td>\n",
              "      <td>Kansas</td>\n",
              "      <td>United States</td>\n",
              "      <td>2</td>\n",
              "    </tr>\n",
              "    <tr>\n",
              "      <th>1003479</th>\n",
              "      <td>1003479</td>\n",
              "      <td>2020-06-30</td>\n",
              "      <td>nationwide building society</td>\n",
              "      <td>True</td>\n",
              "      <td>Lanarkshire</td>\n",
              "      <td>United Kingdom</td>\n",
              "      <td>13</td>\n",
              "    </tr>\n",
              "  </tbody>\n",
              "</table>\n",
              "</div>\n",
              "      <button class=\"colab-df-convert\" onclick=\"convertToInteractive('df-0ad20209-cea6-4f4d-b9ad-bbbda51f25bf')\"\n",
              "              title=\"Convert this dataframe to an interactive table.\"\n",
              "              style=\"display:none;\">\n",
              "        \n",
              "  <svg xmlns=\"http://www.w3.org/2000/svg\" height=\"24px\"viewBox=\"0 0 24 24\"\n",
              "       width=\"24px\">\n",
              "    <path d=\"M0 0h24v24H0V0z\" fill=\"none\"/>\n",
              "    <path d=\"M18.56 5.44l.94 2.06.94-2.06 2.06-.94-2.06-.94-.94-2.06-.94 2.06-2.06.94zm-11 1L8.5 8.5l.94-2.06 2.06-.94-2.06-.94L8.5 2.5l-.94 2.06-2.06.94zm10 10l.94 2.06.94-2.06 2.06-.94-2.06-.94-.94-2.06-.94 2.06-2.06.94z\"/><path d=\"M17.41 7.96l-1.37-1.37c-.4-.4-.92-.59-1.43-.59-.52 0-1.04.2-1.43.59L10.3 9.45l-7.72 7.72c-.78.78-.78 2.05 0 2.83L4 21.41c.39.39.9.59 1.41.59.51 0 1.02-.2 1.41-.59l7.78-7.78 2.81-2.81c.8-.78.8-2.07 0-2.86zM5.41 20L4 18.59l7.72-7.72 1.47 1.35L5.41 20z\"/>\n",
              "  </svg>\n",
              "      </button>\n",
              "      \n",
              "  <style>\n",
              "    .colab-df-container {\n",
              "      display:flex;\n",
              "      flex-wrap:wrap;\n",
              "      gap: 12px;\n",
              "    }\n",
              "\n",
              "    .colab-df-convert {\n",
              "      background-color: #E8F0FE;\n",
              "      border: none;\n",
              "      border-radius: 50%;\n",
              "      cursor: pointer;\n",
              "      display: none;\n",
              "      fill: #1967D2;\n",
              "      height: 32px;\n",
              "      padding: 0 0 0 0;\n",
              "      width: 32px;\n",
              "    }\n",
              "\n",
              "    .colab-df-convert:hover {\n",
              "      background-color: #E2EBFA;\n",
              "      box-shadow: 0px 1px 2px rgba(60, 64, 67, 0.3), 0px 1px 3px 1px rgba(60, 64, 67, 0.15);\n",
              "      fill: #174EA6;\n",
              "    }\n",
              "\n",
              "    [theme=dark] .colab-df-convert {\n",
              "      background-color: #3B4455;\n",
              "      fill: #D2E3FC;\n",
              "    }\n",
              "\n",
              "    [theme=dark] .colab-df-convert:hover {\n",
              "      background-color: #434B5C;\n",
              "      box-shadow: 0px 1px 3px 1px rgba(0, 0, 0, 0.15);\n",
              "      filter: drop-shadow(0px 1px 2px rgba(0, 0, 0, 0.3));\n",
              "      fill: #FFFFFF;\n",
              "    }\n",
              "  </style>\n",
              "\n",
              "      <script>\n",
              "        const buttonEl =\n",
              "          document.querySelector('#df-0ad20209-cea6-4f4d-b9ad-bbbda51f25bf button.colab-df-convert');\n",
              "        buttonEl.style.display =\n",
              "          google.colab.kernel.accessAllowed ? 'block' : 'none';\n",
              "\n",
              "        async function convertToInteractive(key) {\n",
              "          const element = document.querySelector('#df-0ad20209-cea6-4f4d-b9ad-bbbda51f25bf');\n",
              "          const dataTable =\n",
              "            await google.colab.kernel.invokeFunction('convertToInteractive',\n",
              "                                                     [key], {});\n",
              "          if (!dataTable) return;\n",
              "\n",
              "          const docLinkHtml = 'Like what you see? Visit the ' +\n",
              "            '<a target=\"_blank\" href=https://colab.research.google.com/notebooks/data_table.ipynb>data table notebook</a>'\n",
              "            + ' to learn more about interactive tables.';\n",
              "          element.innerHTML = '';\n",
              "          dataTable['output_type'] = 'display_data';\n",
              "          await google.colab.output.renderOutput(dataTable, element);\n",
              "          const docLink = document.createElement('div');\n",
              "          docLink.innerHTML = docLinkHtml;\n",
              "          element.appendChild(docLink);\n",
              "        }\n",
              "      </script>\n",
              "    </div>\n",
              "  </div>\n",
              "  "
            ],
            "text/plain": [
              "         Unnamed: 0        Date  ...         Country  PopularityScore\n",
              "1003475     1003475  2020-06-30  ...     New Zealand                1\n",
              "1003476     1003476  2020-06-30  ...   United States               46\n",
              "1003477     1003477  2020-06-30  ...         Belgium               26\n",
              "1003478     1003478  2020-06-30  ...   United States                2\n",
              "1003479     1003479  2020-06-30  ...  United Kingdom               13\n",
              "\n",
              "[5 rows x 7 columns]"
            ]
          },
          "execution_count": 70,
          "metadata": {},
          "output_type": "execute_result"
        }
      ],
      "source": [
        "questions = standardize_text(dtf, \"Query\")\n",
        "\n",
        "questions.to_csv(\"clean_data.csv\")\n",
        "questions.head()\n",
        "clean_questions1= pd.read_csv(\"clean_data.csv\")\n",
        "clean_questions1.tail()\n"
      ]
    },
    {
      "cell_type": "markdown",
      "metadata": {
        "id": "cSr0G59YmZT1"
      },
      "source": [
        "**Choose the \"how\" question to have a more specific nuances related to enquires that are different from pleaces (where) or methods (what)**"
      ]
    },
    {
      "cell_type": "code",
      "execution_count": null,
      "metadata": {
        "colab": {
          "base_uri": "https://localhost:8080/"
        },
        "id": "lRe3-WPemHGG",
        "outputId": "c9c6fad1-9c7e-4bd4-fa55-3ef0dd1ca729"
      },
      "outputs": [
        {
          "name": "stderr",
          "output_type": "stream",
          "text": [
            "/usr/local/lib/python3.7/dist-packages/ipykernel_launcher.py:2: SettingWithCopyWarning: \n",
            "A value is trying to be set on a copy of a slice from a DataFrame.\n",
            "Try using .loc[row_indexer,col_indexer] = value instead\n",
            "\n",
            "See the caveats in the documentation: https://pandas.pydata.org/pandas-docs/stable/user_guide/indexing.html#returning-a-view-versus-a-copy\n",
            "  \n"
          ]
        }
      ],
      "source": [
        "clean_questions = clean_questions1.loc[clean_questions1.Query.str.contains(\"how\", na=False)]\n",
        "clean_questions['Query']=clean_questions['Query'].apply(str)"
      ]
    },
    {
      "cell_type": "code",
      "execution_count": null,
      "metadata": {
        "colab": {
          "base_uri": "https://localhost:8080/"
        },
        "id": "5dLxtdCA2mSS",
        "outputId": "0abb0e24-d07b-4bbb-e8c3-d0ed2553e483"
      },
      "outputs": [
        {
          "data": {
            "text/plain": [
              "[('coronaviruses', 0.441336989402771),\n",
              " ('immunodeficiency', 0.4139547348022461),\n",
              " ('paramyxovirus', 0.3901909589767456),\n",
              " ('hiv-1', 0.38030534982681274),\n",
              " ('adenovirus', 0.3731868267059326),\n",
              " ('virus', 0.361333429813385),\n",
              " ('bacterium', 0.3576411008834839),\n",
              " ('mutated', 0.3575042486190796),\n",
              " ('malady', 0.35230788588523865),\n",
              " ('sars', 0.3522961735725403)]"
            ]
          },
          "execution_count": 76,
          "metadata": {},
          "output_type": "execute_result"
        }
      ],
      "source": [
        "nlp.most_similar([\"coronavirus\"], topn=10) # get the most similar top 1o words to coronavirus"
      ]
    },
    {
      "cell_type": "markdown",
      "metadata": {
        "id": "YjVVkRNgnQ46"
      },
      "source": [
        "**I created a function that get the the most similar top 1o words to coronavirus to the most important words founds in the data using Tfidf_vectorizer**\n"
      ]
    },
    {
      "cell_type": "code",
      "execution_count": null,
      "metadata": {
        "colab": {
          "base_uri": "https://localhost:8080/"
        },
        "id": "wJEKk1M1_YBR",
        "outputId": "781566ba-3afa-49f9-abf2-aae371c67ddc"
      },
      "outputs": [
        {
          "data": {
            "text/plain": [
              "dict_items([('JOBS', ['programs', 'program', 'plan', 'budget', 'keep', 'jobs', 'costs', 'checks', 'government', 'require', 'must', 'provide', 'if', 'check', 'money', 'benefits', 'data', 'help', 'pay', 'file', 'spending', 'tax', 'even', 'those', 'need', 'payments', 'stimulus', 'schools', 'unemployment', 'required', 'should', 'employment', 'taxes', 'additional', 'measures']), ('HEALTH', ['deadly', 'hands', 'die', 'strain', 'outbreak', 'respiratory', 'symptoms', 'influenza', 'dying', 'h5n1', 'dead', 'pneumonia', 'cholera', 'deaths', 'sars', 'sanitizers', 'cases', 'infected', 'outbreaks', 'flu', 'corona', 'swine', 'come', 'hand', 'infection', 'could', 'virus', 'disease', 'chickens', 'epidemic', 'treat', 'infections', 'fingers', 'bird', 'h1n1']), ('POLITICAL', ['reopening', 'lifted', 'temporarily', 'close', 'day', 'reopen', 'closure', 'monday', 'lockdown', 'halted', 'curfew', 'locked', 'after', 'reopened', 'shutdown', 'thursday', 'midday', 'sealed', 'open', 'precaution', 'shut', 'closed', 'opened', 'shuttered', 'wednesday', 'following', 'doors', 'friday', 'closing', 'ended', 'week', 'closes'])])"
            ]
          },
          "execution_count": 77,
          "metadata": {},
          "output_type": "execute_result"
        }
      ],
      "source": [
        "## Function to apply\n",
        "def get_similar_words(lst_words, top, nlp):\n",
        "    lst_out = lst_words\n",
        "    for tupla in nlp.most_similar(lst_words, topn=top):\n",
        "        lst_out.append(tupla[0])\n",
        "    return list(set(lst_out)) # return list as a set which is an unordered collection of unique elements,\n",
        "## Create Dictionary {category:[keywords]}\n",
        "dic_clusters = {}\n",
        "dic_clusters[\"JOBS\"] = get_similar_words(['stimulus','check','unemployment', 'schools', 'file'], \n",
        "                  top=30, nlp=nlp)\n",
        "dic_clusters[\"HEALTH\"] = get_similar_words(['flu','die','sanitizers','hand', 'corona']\n",
        "                  , top=30, nlp=nlp)\n",
        "dic_clusters[\"POLITICAL\"] = get_similar_words(['lockdown','closed'], \n",
        "                   top=30, nlp=nlp)\n",
        "## print some\n",
        "#for k,v in dic_clusters.items():\n",
        " #   print(k, \": \", v[0:7], \"...\", len(v))\n",
        "\n",
        "dic_clusters.items()"
      ]
    },
    {
      "cell_type": "code",
      "execution_count": null,
      "metadata": {
        "colab": {
          "base_uri": "https://localhost:8080/"
        },
        "id": "FndRPAl0L8e_",
        "outputId": "e634b6ab-5633-47c3-8795-7576fc7928ec"
      },
      "outputs": [
        {
          "name": "stderr",
          "output_type": "stream",
          "text": [
            "/usr/local/lib/python3.7/dist-packages/sklearn/manifold/_t_sne.py:793: FutureWarning: The default learning rate in TSNE will change from 200.0 to 'auto' in 1.2.\n",
            "  FutureWarning,\n",
            "/usr/local/lib/python3.7/dist-packages/sklearn/manifold/_t_sne.py:986: FutureWarning: The PCA initialization in TSNE will change to have the standard deviation of PC1 equal to 1e-4 in 1.2. This will ensure better convergence.\n",
            "  FutureWarning,\n"
          ]
        },
        {
          "data": {
            "text/plain": [
              "array([[ 8.100802  , -7.266762  ],\n",
              "       [ 8.097875  , -7.2452526 ],\n",
              "       [ 5.0658674 , -6.8455024 ],\n",
              "       [ 4.773064  , -8.821496  ],\n",
              "       [ 5.2295356 , -5.568136  ],\n",
              "       [ 7.615343  , -8.539742  ],\n",
              "       [ 6.1461897 , -8.167426  ],\n",
              "       [ 7.3996234 , -5.6024895 ],\n",
              "       [ 4.658882  , -6.403742  ],\n",
              "       [ 6.6494217 , -6.2804894 ],\n",
              "       [ 5.9195843 , -5.715265  ],\n",
              "       [ 6.473149  , -6.5987315 ],\n",
              "       [ 5.647887  , -5.2660327 ],\n",
              "       [ 7.1700253 , -5.566574  ],\n",
              "       [ 5.802705  , -7.236906  ],\n",
              "       [ 6.975573  , -8.151012  ],\n",
              "       [ 8.234128  , -6.242857  ],\n",
              "       [ 5.684226  , -6.2024903 ],\n",
              "       [ 6.23084   , -7.699856  ],\n",
              "       [ 8.200084  , -5.4801307 ],\n",
              "       [ 4.984854  , -8.567656  ],\n",
              "       [ 5.8428335 , -9.2438135 ],\n",
              "       [ 5.4408646 , -5.045415  ],\n",
              "       [ 6.0462074 , -4.9720893 ],\n",
              "       [ 5.969482  , -5.9079423 ],\n",
              "       [ 6.4278207 , -8.010836  ],\n",
              "       [ 4.5938454 , -8.24852   ],\n",
              "       [ 3.8241448 , -7.218911  ],\n",
              "       [ 7.6577463 , -9.072119  ],\n",
              "       [ 6.6356297 , -6.264372  ],\n",
              "       [ 5.6643896 , -5.626535  ],\n",
              "       [ 7.612789  , -8.651527  ],\n",
              "       [ 5.8894587 , -9.159912  ],\n",
              "       [ 6.5997596 , -6.715009  ],\n",
              "       [ 4.812808  , -7.3464103 ],\n",
              "       [ 8.436455  , -3.0968812 ],\n",
              "       [ 5.0405755 , -3.5455806 ],\n",
              "       [ 6.4455805 , -3.137578  ],\n",
              "       [ 8.66529   ,  0.04085282],\n",
              "       [ 9.411079  , -1.8994795 ],\n",
              "       [ 7.7847805 , -1.1805611 ],\n",
              "       [ 7.3600965 , -1.3599564 ],\n",
              "       [ 9.914334  , -0.75783455],\n",
              "       [ 6.413108  , -3.220647  ],\n",
              "       [10.055759  , -0.20265575],\n",
              "       [ 6.4312654 , -3.2486446 ],\n",
              "       [ 7.9551644 , -1.0211785 ],\n",
              "       [ 9.328202  , -2.1396768 ],\n",
              "       [ 7.6661057 , -3.334009  ],\n",
              "       [10.0082035 , -1.6356571 ],\n",
              "       [ 5.06865   , -2.238792  ],\n",
              "       [ 7.4701467 , -3.98622   ],\n",
              "       [ 8.847782  , -0.48628297],\n",
              "       [ 9.323782  , -1.9359943 ],\n",
              "       [ 9.880864  , -0.71756625],\n",
              "       [ 3.7706726 , -1.8234218 ],\n",
              "       [10.143089  , -0.95356685],\n",
              "       [ 5.4758735 , -5.060126  ],\n",
              "       [ 5.1448975 , -3.62958   ],\n",
              "       [ 8.367553  , -0.9491792 ],\n",
              "       [ 5.5935483 , -5.243286  ],\n",
              "       [ 9.313527  , -0.5363184 ],\n",
              "       [ 8.371608  , -1.5688176 ],\n",
              "       [ 9.342656  ,  0.60680056],\n",
              "       [ 9.192148  , -1.9597133 ],\n",
              "       [ 6.7463193 , -4.2568183 ],\n",
              "       [ 8.3197365 , -0.97740555],\n",
              "       [ 5.0690928 , -3.171687  ],\n",
              "       [ 9.821259  ,  0.08115086],\n",
              "       [10.310671  , -0.8434438 ],\n",
              "       [ 0.7126702 , -4.546001  ],\n",
              "       [ 2.733961  , -6.163231  ],\n",
              "       [ 2.0755994 , -5.917595  ],\n",
              "       [ 4.096531  , -4.1075425 ],\n",
              "       [ 4.184002  , -4.931871  ],\n",
              "       [ 0.78580004, -4.5228615 ],\n",
              "       [ 0.95167255, -5.50461   ],\n",
              "       [ 3.4090097 , -4.710812  ],\n",
              "       [ 1.126625  , -6.922853  ],\n",
              "       [ 2.0960834 , -5.7418785 ],\n",
              "       [ 1.3052357 , -7.289224  ],\n",
              "       [ 3.2909229 , -3.0879319 ],\n",
              "       [ 3.7279153 , -5.3771243 ],\n",
              "       [ 0.9425902 , -4.478049  ],\n",
              "       [ 1.074122  , -5.914075  ],\n",
              "       [ 3.41116   , -4.693388  ],\n",
              "       [ 2.7367787 , -4.404977  ],\n",
              "       [ 3.141171  , -3.048234  ],\n",
              "       [ 2.0733323 , -2.8488421 ],\n",
              "       [ 2.1533601 , -6.8705134 ],\n",
              "       [ 1.4538659 , -5.439912  ],\n",
              "       [ 1.8923138 , -4.1956086 ],\n",
              "       [ 2.162224  , -3.659757  ],\n",
              "       [ 0.7773025 , -5.2280383 ],\n",
              "       [ 3.4238124 , -4.7017155 ],\n",
              "       [ 3.819043  , -5.6110125 ],\n",
              "       [ 2.6202056 , -3.0070295 ],\n",
              "       [ 3.3853693 , -4.704584  ],\n",
              "       [ 2.1426263 , -4.255468  ],\n",
              "       [ 3.159125  , -5.4068637 ],\n",
              "       [ 3.9386384 , -5.093482  ],\n",
              "       [ 1.3537468 , -3.6304798 ]], dtype=float32)"
            ]
          },
          "execution_count": 81,
          "metadata": {},
          "output_type": "execute_result"
        }
      ],
      "source": [
        " ## word embedding\n",
        "tot_words = [word for v in dic_clusters.values() for word in v]\n",
        "X = nlp[tot_words]\n",
        "        \n",
        "## pca\n",
        "pca = manifold.TSNE(perplexity=40, n_components=2, init='pca') #Principal Component Analysis (PCA) is a linear dimensionality reduction technique for extracting information from \n",
        "#a high-dimensional space by projecting it into a lower-dimensional sub-space.\n",
        "X = pca.fit_transform(X)\n",
        "\n"
      ]
    },
    {
      "cell_type": "code",
      "execution_count": null,
      "metadata": {
        "id": "6tkcXzNkeD2a"
      },
      "outputs": [],
      "source": [
        "\n",
        "## create dtf\n",
        "dtf = pd.DataFrame()\n",
        "for k,v in dic_clusters.items():\n",
        "    size = len(dtf) + len(v)\n",
        "    dtf_group = pd.DataFrame(X[len(dtf):size], columns=[\"x\",\"y\"], \n",
        "                             index=v)\n",
        "    dtf_group[\"cluster\"] = k\n",
        "    dtf = dtf.append(dtf_group)\n",
        "\n"
      ]
    },
    {
      "cell_type": "code",
      "execution_count": null,
      "metadata": {
        "colab": {
          "base_uri": "https://localhost:8080/",
          "height": 343
        },
        "id": "G-lw3DgICccr",
        "outputId": "0d2fda36-344e-4d36-f9d9-6d018397bc15"
      },
      "outputs": [
        {
          "name": "stderr",
          "output_type": "stream",
          "text": [
            "/usr/local/lib/python3.7/dist-packages/sklearn/manifold/_t_sne.py:793: FutureWarning: The default learning rate in TSNE will change from 200.0 to 'auto' in 1.2.\n",
            "  FutureWarning,\n",
            "/usr/local/lib/python3.7/dist-packages/sklearn/manifold/_t_sne.py:986: FutureWarning: The PCA initialization in TSNE will change to have the standard deviation of PC1 equal to 1e-4 in 1.2. This will ensure better convergence.\n",
            "  FutureWarning,\n"
          ]
        },
        {
          "data": {
            "image/png": "[encoded data removed]",
            "text/plain": [
              "<Figure size 432x288 with 1 Axes>"
            ]
          },
          "metadata": {},
          "output_type": "display_data"
        }
      ],
      "source": [
        "## word embedding\n",
        "tot_words = [word for v in dic_clusters.values() for word in v]\n",
        "X = nlp[tot_words]\n",
        "        \n",
        "## pca\n",
        "pca = manifold.TSNE(perplexity=40, n_components=2, init='pca')\n",
        "X = pca.fit_transform(X)\n",
        "\n",
        "        \n",
        "## plot\n",
        "fig, ax = plt.subplots()\n",
        "sns.scatterplot(data=dtf, x=\"x\", y=\"y\", hue=\"cluster\", ax=ax)\n",
        "ax.legend().texts[0].set_text(None)\n",
        "\n",
        "ax.set(xlabel=None, ylabel=None, xticks=[], xticklabels=[], \n",
        "       yticks=[], yticklabels=[])\n",
        "for i in range(len(dtf)):\n",
        "    ax.annotate(dtf.index[i], \n",
        "               xy=(dtf[\"x\"].iloc[i],dtf[\"y\"].iloc[i]), \n",
        "               xytext=(5,2), textcoords='offset points', # displays the texts\n",
        "               ha='right', va='bottom')\n",
        "    \n"
      ]
    },
    {
      "cell_type": "code",
      "execution_count": null,
      "metadata": {
        "colab": {
          "base_uri": "https://localhost:8080/"
        },
        "id": "oP2j8eU7om1j",
        "outputId": "e21bc4bc-ee6a-4500-8816-1a551567c3e7"
      },
      "outputs": [
        {
          "name": "stdout",
          "output_type": "stream",
          "text": [
            "Mounted at /content/drive\n"
          ]
        }
      ],
      "source": [
        "from google.colab import drive\n",
        "drive.mount('/content/drive')"
      ]
    },
    {
      "cell_type": "markdown",
      "metadata": {
        "id": "WswzDgJkNn6_"
      },
      "source": [
        "# I use corpus I preprocessed and the target clusters created in the same vector space - using BERT WHICH looks at the entire sentence and then assigns an embedding to each word\n",
        "\n",
        "\n",
        "\n"
      ]
    },
    {
      "cell_type": "markdown",
      "metadata": {
        "id": "QjYhrLGSM-y4"
      },
      "source": [
        ""
      ]
    },
    {
      "cell_type": "code",
      "execution_count": null,
      "metadata": {
        "colab": {
          "base_uri": "https://localhost:8080/"
        },
        "id": "dTRZ1PpFMsL2",
        "outputId": "b37899ca-136d-4ddf-895f-68a22653daa7"
      },
      "outputs": [
        {
          "name": "stderr",
          "output_type": "stream",
          "text": [
            "Some layers from the model checkpoint at bert-base-uncased were not used when initializing TFBertModel: ['mlm___cls', 'nsp___cls']\n",
            "- This IS expected if you are initializing TFBertModel from the checkpoint of a model trained on another task or with another architecture (e.g. initializing a BertForSequenceClassification model from a BertForPreTraining model).\n",
            "- This IS NOT expected if you are initializing TFBertModel from the checkpoint of a model that you expect to be exactly identical (initializing a BertForSequenceClassification model from a BertForSequenceClassification model).\n",
            "All the layers of TFBertModel were initialized from the model checkpoint at bert-base-uncased.\n",
            "If your task is similar to the task the model of the checkpoint was trained on, you can already use TFBertModel for predictions without further training.\n"
          ]
        }
      ],
      "source": [
        "tokenizer = transformers.BertTokenizer.from_pretrained('bert-base-uncased', do_lower_case=True)\n",
        "nlp = transformers.TFBertModel.from_pretrained('bert-base-uncased')"
      ]
    },
    {
      "cell_type": "markdown",
      "metadata": {
        "id": "wWoCsjcqfaYp"
      },
      "source": [
        "**I use BERT Word Embedding to represent each text with an array (shape: number of tokens x 768) and then summarize each search result into a mean vector.**\n"
      ]
    },
    {
      "cell_type": "code",
      "execution_count": null,
      "metadata": {
        "colab": {
          "background_save": true,
          "base_uri": "https://localhost:8080/"
        },
        "id": "Rtoz7VVtNQao",
        "outputId": "e2a95d3c-3ba7-4954-bb7f-8c29e85c2317"
      },
      "outputs": [
        {
          "name": "stderr",
          "output_type": "stream",
          "text": [
            "/usr/local/lib/python3.7/dist-packages/ipykernel_launcher.py:10: RuntimeWarning: Mean of empty slice.\n",
            "  # Remove the CWD from sys.path while we load stuff.\n",
            "/usr/local/lib/python3.7/dist-packages/numpy/core/_methods.py:182: RuntimeWarning: invalid value encountered in true_divide\n",
            "  ret, rcount, out=ret, casting='unsafe', subok=False)\n"
          ]
        },
        {
          "ename": "ValueError",
          "evalue": "ignored",
          "output_type": "error",
          "traceback": [
            "\u001b[0;31m---------------------------------------------------------------------------\u001b[0m",
            "\u001b[0;31mValueError\u001b[0m                                Traceback (most recent call last)",
            "\u001b[0;32m<ipython-input-88-4b1d377da6f0>\u001b[0m in \u001b[0;36m<module>\u001b[0;34m()\u001b[0m\n\u001b[1;32m      8\u001b[0m \u001b[0;31m## create list of search vector\u001b[0m\u001b[0;34m\u001b[0m\u001b[0;34m\u001b[0m\u001b[0;34m\u001b[0m\u001b[0m\n\u001b[1;32m      9\u001b[0m lst_mean_vecs = [utils_bert_embedding(txt, tokenizer, nlp).mean(0) \n\u001b[0;32m---> 10\u001b[0;31m                  for txt in clean_questions1[\"Query\"]]\n\u001b[0m\u001b[1;32m     11\u001b[0m \u001b[0;31m## create the feature matrix (n news x 768)\u001b[0m\u001b[0;34m\u001b[0m\u001b[0;34m\u001b[0m\u001b[0;34m\u001b[0m\u001b[0m\n\u001b[1;32m     12\u001b[0m \u001b[0mX\u001b[0m \u001b[0;34m=\u001b[0m \u001b[0mnp\u001b[0m\u001b[0;34m.\u001b[0m\u001b[0marray\u001b[0m\u001b[0;34m(\u001b[0m\u001b[0mlst_mean_vecs\u001b[0m\u001b[0;34m)\u001b[0m\u001b[0;34m\u001b[0m\u001b[0;34m\u001b[0m\u001b[0m\n",
            "\u001b[0;32m<ipython-input-88-4b1d377da6f0>\u001b[0m in \u001b[0;36m<listcomp>\u001b[0;34m(.0)\u001b[0m\n\u001b[1;32m      8\u001b[0m \u001b[0;31m## create list of search vector\u001b[0m\u001b[0;34m\u001b[0m\u001b[0;34m\u001b[0m\u001b[0;34m\u001b[0m\u001b[0m\n\u001b[1;32m      9\u001b[0m lst_mean_vecs = [utils_bert_embedding(txt, tokenizer, nlp).mean(0) \n\u001b[0;32m---> 10\u001b[0;31m                  for txt in clean_questions1[\"Query\"]]\n\u001b[0m\u001b[1;32m     11\u001b[0m \u001b[0;31m## create the feature matrix (n news x 768)\u001b[0m\u001b[0;34m\u001b[0m\u001b[0;34m\u001b[0m\u001b[0;34m\u001b[0m\u001b[0m\n\u001b[1;32m     12\u001b[0m \u001b[0mX\u001b[0m \u001b[0;34m=\u001b[0m \u001b[0mnp\u001b[0m\u001b[0;34m.\u001b[0m\u001b[0marray\u001b[0m\u001b[0;34m(\u001b[0m\u001b[0mlst_mean_vecs\u001b[0m\u001b[0;34m)\u001b[0m\u001b[0;34m\u001b[0m\u001b[0;34m\u001b[0m\u001b[0m\n",
            "\u001b[0;32m<ipython-input-88-4b1d377da6f0>\u001b[0m in \u001b[0;36mutils_bert_embedding\u001b[0;34m(txt, tokenizer, nlp)\u001b[0m\n\u001b[1;32m      1\u001b[0m \u001b[0;31m## function to apply\u001b[0m\u001b[0;34m\u001b[0m\u001b[0;34m\u001b[0m\u001b[0;34m\u001b[0m\u001b[0m\n\u001b[1;32m      2\u001b[0m \u001b[0;32mdef\u001b[0m \u001b[0mutils_bert_embedding\u001b[0m\u001b[0;34m(\u001b[0m\u001b[0mtxt\u001b[0m\u001b[0;34m,\u001b[0m \u001b[0mtokenizer\u001b[0m\u001b[0;34m,\u001b[0m \u001b[0mnlp\u001b[0m\u001b[0;34m)\u001b[0m\u001b[0;34m:\u001b[0m\u001b[0;34m\u001b[0m\u001b[0;34m\u001b[0m\u001b[0m\n\u001b[0;32m----> 3\u001b[0;31m     \u001b[0midx\u001b[0m \u001b[0;34m=\u001b[0m \u001b[0mtokenizer\u001b[0m\u001b[0;34m.\u001b[0m\u001b[0mencode\u001b[0m\u001b[0;34m(\u001b[0m\u001b[0mtxt\u001b[0m\u001b[0;34m)\u001b[0m \u001b[0;31m#Returns a dictionary containing the encoded sequence or sequence pair\u001b[0m\u001b[0;34m\u001b[0m\u001b[0;34m\u001b[0m\u001b[0m\n\u001b[0m\u001b[1;32m      4\u001b[0m     \u001b[0midx\u001b[0m \u001b[0;34m=\u001b[0m \u001b[0mnp\u001b[0m\u001b[0;34m.\u001b[0m\u001b[0marray\u001b[0m\u001b[0;34m(\u001b[0m\u001b[0midx\u001b[0m\u001b[0;34m)\u001b[0m\u001b[0;34m[\u001b[0m\u001b[0;32mNone\u001b[0m\u001b[0;34m,\u001b[0m\u001b[0;34m:\u001b[0m\u001b[0;34m]\u001b[0m  \u001b[0;31m# creating an array which is a fixed-size container of items of the same type and size, and asks NumPy to add a new dimension of size 1 for the associated axis.\u001b[0m\u001b[0;34m\u001b[0m\u001b[0;34m\u001b[0m\u001b[0m\n\u001b[1;32m      5\u001b[0m     \u001b[0membedding\u001b[0m \u001b[0;34m=\u001b[0m \u001b[0mnlp\u001b[0m\u001b[0;34m(\u001b[0m\u001b[0midx\u001b[0m\u001b[0;34m)\u001b[0m\u001b[0;34m\u001b[0m\u001b[0;34m\u001b[0m\u001b[0m\n",
            "\u001b[0;32m/usr/local/lib/python3.7/dist-packages/transformers/tokenization_utils_base.py\u001b[0m in \u001b[0;36mencode\u001b[0;34m(self, text, text_pair, add_special_tokens, padding, truncation, max_length, stride, return_tensors, **kwargs)\u001b[0m\n\u001b[1;32m   2213\u001b[0m             \u001b[0mstride\u001b[0m\u001b[0;34m=\u001b[0m\u001b[0mstride\u001b[0m\u001b[0;34m,\u001b[0m\u001b[0;34m\u001b[0m\u001b[0;34m\u001b[0m\u001b[0m\n\u001b[1;32m   2214\u001b[0m             \u001b[0mreturn_tensors\u001b[0m\u001b[0;34m=\u001b[0m\u001b[0mreturn_tensors\u001b[0m\u001b[0;34m,\u001b[0m\u001b[0;34m\u001b[0m\u001b[0;34m\u001b[0m\u001b[0m\n\u001b[0;32m-> 2215\u001b[0;31m             \u001b[0;34m**\u001b[0m\u001b[0mkwargs\u001b[0m\u001b[0;34m,\u001b[0m\u001b[0;34m\u001b[0m\u001b[0;34m\u001b[0m\u001b[0m\n\u001b[0m\u001b[1;32m   2216\u001b[0m         )\n\u001b[1;32m   2217\u001b[0m \u001b[0;34m\u001b[0m\u001b[0m\n",
            "\u001b[0;32m/usr/local/lib/python3.7/dist-packages/transformers/tokenization_utils_base.py\u001b[0m in \u001b[0;36mencode_plus\u001b[0;34m(self, text, text_pair, add_special_tokens, padding, truncation, max_length, stride, is_split_into_words, pad_to_multiple_of, return_tensors, return_token_type_ids, return_attention_mask, return_overflowing_tokens, return_special_tokens_mask, return_offsets_mapping, return_length, verbose, **kwargs)\u001b[0m\n\u001b[1;32m   2552\u001b[0m             \u001b[0mreturn_length\u001b[0m\u001b[0;34m=\u001b[0m\u001b[0mreturn_length\u001b[0m\u001b[0;34m,\u001b[0m\u001b[0;34m\u001b[0m\u001b[0;34m\u001b[0m\u001b[0m\n\u001b[1;32m   2553\u001b[0m             \u001b[0mverbose\u001b[0m\u001b[0;34m=\u001b[0m\u001b[0mverbose\u001b[0m\u001b[0;34m,\u001b[0m\u001b[0;34m\u001b[0m\u001b[0;34m\u001b[0m\u001b[0m\n\u001b[0;32m-> 2554\u001b[0;31m             \u001b[0;34m**\u001b[0m\u001b[0mkwargs\u001b[0m\u001b[0;34m,\u001b[0m\u001b[0;34m\u001b[0m\u001b[0;34m\u001b[0m\u001b[0m\n\u001b[0m\u001b[1;32m   2555\u001b[0m         )\n\u001b[1;32m   2556\u001b[0m \u001b[0;34m\u001b[0m\u001b[0m\n",
            "\u001b[0;32m/usr/local/lib/python3.7/dist-packages/transformers/tokenization_utils.py\u001b[0m in \u001b[0;36m_encode_plus\u001b[0;34m(self, text, text_pair, add_special_tokens, padding_strategy, truncation_strategy, max_length, stride, is_split_into_words, pad_to_multiple_of, return_tensors, return_token_type_ids, return_attention_mask, return_overflowing_tokens, return_special_tokens_mask, return_offsets_mapping, return_length, verbose, **kwargs)\u001b[0m\n\u001b[1;32m    645\u001b[0m             )\n\u001b[1;32m    646\u001b[0m \u001b[0;34m\u001b[0m\u001b[0m\n\u001b[0;32m--> 647\u001b[0;31m         \u001b[0mfirst_ids\u001b[0m \u001b[0;34m=\u001b[0m \u001b[0mget_input_ids\u001b[0m\u001b[0;34m(\u001b[0m\u001b[0mtext\u001b[0m\u001b[0;34m)\u001b[0m\u001b[0;34m\u001b[0m\u001b[0;34m\u001b[0m\u001b[0m\n\u001b[0m\u001b[1;32m    648\u001b[0m         \u001b[0msecond_ids\u001b[0m \u001b[0;34m=\u001b[0m \u001b[0mget_input_ids\u001b[0m\u001b[0;34m(\u001b[0m\u001b[0mtext_pair\u001b[0m\u001b[0;34m)\u001b[0m \u001b[0;32mif\u001b[0m \u001b[0mtext_pair\u001b[0m \u001b[0;32mis\u001b[0m \u001b[0;32mnot\u001b[0m \u001b[0;32mNone\u001b[0m \u001b[0;32melse\u001b[0m \u001b[0;32mNone\u001b[0m\u001b[0;34m\u001b[0m\u001b[0;34m\u001b[0m\u001b[0m\n\u001b[1;32m    649\u001b[0m \u001b[0;34m\u001b[0m\u001b[0m\n",
            "\u001b[0;32m/usr/local/lib/python3.7/dist-packages/transformers/tokenization_utils.py\u001b[0m in \u001b[0;36mget_input_ids\u001b[0;34m(text)\u001b[0m\n\u001b[1;32m    633\u001b[0m                 \u001b[0;32melse\u001b[0m\u001b[0;34m:\u001b[0m\u001b[0;34m\u001b[0m\u001b[0;34m\u001b[0m\u001b[0m\n\u001b[1;32m    634\u001b[0m                     raise ValueError(\n\u001b[0;32m--> 635\u001b[0;31m                         \u001b[0;34mf\"Input {text} is not valid. Should be a string, a list/tuple of strings or a list/tuple of integers.\"\u001b[0m\u001b[0;34m\u001b[0m\u001b[0;34m\u001b[0m\u001b[0m\n\u001b[0m\u001b[1;32m    636\u001b[0m                     )\n\u001b[1;32m    637\u001b[0m \u001b[0;34m\u001b[0m\u001b[0m\n",
            "\u001b[0;31mValueError\u001b[0m: Input nan is not valid. Should be a string, a list/tuple of strings or a list/tuple of integers."
          ]
        }
      ],
      "source": [
        "## function to apply\n",
        "def utils_bert_embedding(txt, tokenizer, nlp):\n",
        "    idx = tokenizer.encode(txt) #Returns a dictionary containing the encoded sequence or sequence pair\n",
        "    idx = np.array(idx)[None,:]  # creating an array which is a fixed-size container of items of the same type and size, and asks NumPy to add a new dimension of size 1 for the associated axis.\n",
        "    embedding = nlp(idx)\n",
        "    X = np.array(embedding[0][0][1:-1])  # returns string of length one and character one \n",
        "    return X\n",
        "## create list of search vector\n",
        "lst_mean_vecs = [utils_bert_embedding(txt, tokenizer, nlp).mean(0) \n",
        "                 for txt in clean_questions1[\"Query\"]]\n",
        "## create the feature matrix (n news x 768)\n",
        "X = np.array(lst_mean_vecs)"
      ]
    },
    {
      "cell_type": "markdown",
      "metadata": {
        "id": "ujNzmLrOqtRS"
      },
      "source": [
        "**I have to rescale the scores in each row so that they sum to 1 and decide a category to label. I have to choose the one with the highest score, set minimum thresholds and leave out predictions with really low scores.**"
      ]
    },
    {
      "cell_type": "code",
      "execution_count": null,
      "metadata": {
        "id": "cHfz-8k7qbe-"
      },
      "outputs": [],
      "source": [
        "#--- Model Algorithm ---#\n",
        "## compute cosine similarities\n",
        "similarities = np.array(\n",
        "            [metrics.pairwise.cosine_similarity(X, y).T.tolist()[0] \n",
        "             for y in dic_y.values()]\n",
        "            ).T\n",
        "## adjust and rescale\n",
        "labels = list(dic_y.keys())\n",
        "for i in range(len(similarities)):\n",
        "    ### assign randomly if there is no similarity\n",
        "    if sum(similarities[i]) == 0:\n",
        "       similarities[i] = [0]*len(labels)\n",
        "       similarities[i][np.random.choice(range(len(labels)))] = 1\n",
        "    ### rescale so they sum = 1\n",
        "    similarities[i] = similarities[i] / sum(similarities[i])\n",
        "\n",
        "## classify the label with highest similarity score\n",
        "predicted_prob = similarities\n",
        "predicted = [labels[np.argmax(pred)] for pred in predicted_prob]"
      ]
    },
    {
      "cell_type": "code",
      "execution_count": null,
      "metadata": {
        "id": "E_5hrPniq8o5"
      },
      "outputs": [],
      "source": [
        "y_test = dtf[\"y\"].values\n",
        "classes = np.unique(y_test)\n",
        "y_test_array = pd.get_dummies(y_test, drop_first=False).values\n",
        "\n",
        "## Accuracy, Precision, Recall\n",
        "accuracy = metrics.accuracy_score(y_test, predicted)\n",
        "auc = metrics.roc_auc_score(y_test, predicted_prob, \n",
        "                            multi_class=\"ovr\")\n",
        "print(\"Accuracy:\",  round(accuracy,2))\n",
        "print(\"Auc:\", round(auc,2))\n",
        "print(\"Detail:\")\n",
        "print(metrics.classification_report(y_test, predicted))\n",
        "    "
      ]
    }
  ],
  "metadata": {
    "accelerator": "GPU",
    "colab": {
      "collapsed_sections": [],
      "name": "Brainstorm_with_BERT.ipynb",
      "provenance": []
    },
    "kernelspec": {
      "display_name": "Python 3",
      "name": "python3"
    },
    "language_info": {
      "name": "python"
    }
  },
  "nbformat": 4,
  "nbformat_minor": 0
}