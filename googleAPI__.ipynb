{
  "nbformat": 4,
  "nbformat_minor": 0,
  "metadata": {
    "colab": {
      "name": "googleAPI__.ipynb",
      "provenance": [],
      "collapsed_sections": []
    },
    "kernelspec": {
      "display_name": "Python 3",
      "language": "python",
      "name": "python3"
    },
    "language_info": {
      "codemirror_mode": {
        "name": "ipython",
        "version": 3
      },
      "file_extension": ".py",
      "mimetype": "text/x-python",
      "name": "python",
      "nbconvert_exporter": "python",
      "pygments_lexer": "ipython3",
      "version": "3.8.3"
    },
    "widgets": {
      "application/vnd.jupyter.widget-state+json": {
        "9f2f2182e59a40b7aae0d439ea257f80": {
          "model_module": "@jupyter-widgets/controls",
          "model_name": "HBoxModel",
          "state": {
            "_dom_classes": [],
            "_model_module": "@jupyter-widgets/controls",
            "_model_module_version": "1.5.0",
            "_model_name": "HBoxModel",
            "_view_count": null,
            "_view_module": "@jupyter-widgets/controls",
            "_view_module_version": "1.5.0",
            "_view_name": "HBoxView",
            "box_style": "",
            "children": [
              "IPY_MODEL_63a354022847486887356c575fbabe72",
              "IPY_MODEL_b3f0d29f4e1e4a328f68fb22e5f8e8e1"
            ],
            "layout": "IPY_MODEL_171a5ef3345e49ecb15f6f86618395b4"
          }
        },
        "63a354022847486887356c575fbabe72": {
          "model_module": "@jupyter-widgets/controls",
          "model_name": "FloatProgressModel",
          "state": {
            "_dom_classes": [],
            "_model_module": "@jupyter-widgets/controls",
            "_model_module_version": "1.5.0",
            "_model_name": "FloatProgressModel",
            "_view_count": null,
            "_view_module": "@jupyter-widgets/controls",
            "_view_module_version": "1.5.0",
            "_view_name": "ProgressView",
            "bar_style": "success",
            "description": "Downloading: 100%",
            "description_tooltip": null,
            "layout": "IPY_MODEL_4aa0643db0cc4256a5f1916925c30aea",
            "max": 570,
            "min": 0,
            "orientation": "horizontal",
            "style": "IPY_MODEL_d81cfcb698c740bbb7e7f9d9bc68bed5",
            "value": 570
          }
        },
        "b3f0d29f4e1e4a328f68fb22e5f8e8e1": {
          "model_module": "@jupyter-widgets/controls",
          "model_name": "HTMLModel",
          "state": {
            "_dom_classes": [],
            "_model_module": "@jupyter-widgets/controls",
            "_model_module_version": "1.5.0",
            "_model_name": "HTMLModel",
            "_view_count": null,
            "_view_module": "@jupyter-widgets/controls",
            "_view_module_version": "1.5.0",
            "_view_name": "HTMLView",
            "description": "",
            "description_tooltip": null,
            "layout": "IPY_MODEL_8351e63a08484bedadbf0ef16591bc8f",
            "placeholder": "​",
            "style": "IPY_MODEL_dd647fdd87ae4e43a4d2406a12f6d8c2",
            "value": " 570/570 [00:19&lt;00:00, 29.9B/s]"
          }
        },
        "171a5ef3345e49ecb15f6f86618395b4": {
          "model_module": "@jupyter-widgets/base",
          "model_name": "LayoutModel",
          "state": {
            "_model_module": "@jupyter-widgets/base",
            "_model_module_version": "1.2.0",
            "_model_name": "LayoutModel",
            "_view_count": null,
            "_view_module": "@jupyter-widgets/base",
            "_view_module_version": "1.2.0",
            "_view_name": "LayoutView",
            "align_content": null,
            "align_items": null,
            "align_self": null,
            "border": null,
            "bottom": null,
            "display": null,
            "flex": null,
            "flex_flow": null,
            "grid_area": null,
            "grid_auto_columns": null,
            "grid_auto_flow": null,
            "grid_auto_rows": null,
            "grid_column": null,
            "grid_gap": null,
            "grid_row": null,
            "grid_template_areas": null,
            "grid_template_columns": null,
            "grid_template_rows": null,
            "height": null,
            "justify_content": null,
            "justify_items": null,
            "left": null,
            "margin": null,
            "max_height": null,
            "max_width": null,
            "min_height": null,
            "min_width": null,
            "object_fit": null,
            "object_position": null,
            "order": null,
            "overflow": null,
            "overflow_x": null,
            "overflow_y": null,
            "padding": null,
            "right": null,
            "top": null,
            "visibility": null,
            "width": null
          }
        },
        "4aa0643db0cc4256a5f1916925c30aea": {
          "model_module": "@jupyter-widgets/base",
          "model_name": "LayoutModel",
          "state": {
            "_model_module": "@jupyter-widgets/base",
            "_model_module_version": "1.2.0",
            "_model_name": "LayoutModel",
            "_view_count": null,
            "_view_module": "@jupyter-widgets/base",
            "_view_module_version": "1.2.0",
            "_view_name": "LayoutView",
            "align_content": null,
            "align_items": null,
            "align_self": null,
            "border": null,
            "bottom": null,
            "display": null,
            "flex": null,
            "flex_flow": null,
            "grid_area": null,
            "grid_auto_columns": null,
            "grid_auto_flow": null,
            "grid_auto_rows": null,
            "grid_column": null,
            "grid_gap": null,
            "grid_row": null,
            "grid_template_areas": null,
            "grid_template_columns": null,
            "grid_template_rows": null,
            "height": null,
            "justify_content": null,
            "justify_items": null,
            "left": null,
            "margin": null,
            "max_height": null,
            "max_width": null,
            "min_height": null,
            "min_width": null,
            "object_fit": null,
            "object_position": null,
            "order": null,
            "overflow": null,
            "overflow_x": null,
            "overflow_y": null,
            "padding": null,
            "right": null,
            "top": null,
            "visibility": null,
            "width": null
          }
        },
        "d81cfcb698c740bbb7e7f9d9bc68bed5": {
          "model_module": "@jupyter-widgets/controls",
          "model_name": "ProgressStyleModel",
          "state": {
            "_model_module": "@jupyter-widgets/controls",
            "_model_module_version": "1.5.0",
            "_model_name": "ProgressStyleModel",
            "_view_count": null,
            "_view_module": "@jupyter-widgets/base",
            "_view_module_version": "1.2.0",
            "_view_name": "StyleView",
            "bar_color": null,
            "description_width": "initial"
          }
        },
        "8351e63a08484bedadbf0ef16591bc8f": {
          "model_module": "@jupyter-widgets/base",
          "model_name": "LayoutModel",
          "state": {
            "_model_module": "@jupyter-widgets/base",
            "_model_module_version": "1.2.0",
            "_model_name": "LayoutModel",
            "_view_count": null,
            "_view_module": "@jupyter-widgets/base",
            "_view_module_version": "1.2.0",
            "_view_name": "LayoutView",
            "align_content": null,
            "align_items": null,
            "align_self": null,
            "border": null,
            "bottom": null,
            "display": null,
            "flex": null,
            "flex_flow": null,
            "grid_area": null,
            "grid_auto_columns": null,
            "grid_auto_flow": null,
            "grid_auto_rows": null,
            "grid_column": null,
            "grid_gap": null,
            "grid_row": null,
            "grid_template_areas": null,
            "grid_template_columns": null,
            "grid_template_rows": null,
            "height": null,
            "justify_content": null,
            "justify_items": null,
            "left": null,
            "margin": null,
            "max_height": null,
            "max_width": null,
            "min_height": null,
            "min_width": null,
            "object_fit": null,
            "object_position": null,
            "order": null,
            "overflow": null,
            "overflow_x": null,
            "overflow_y": null,
            "padding": null,
            "right": null,
            "top": null,
            "visibility": null,
            "width": null
          }
        },
        "dd647fdd87ae4e43a4d2406a12f6d8c2": {
          "model_module": "@jupyter-widgets/controls",
          "model_name": "DescriptionStyleModel",
          "state": {
            "_model_module": "@jupyter-widgets/controls",
            "_model_module_version": "1.5.0",
            "_model_name": "DescriptionStyleModel",
            "_view_count": null,
            "_view_module": "@jupyter-widgets/base",
            "_view_module_version": "1.2.0",
            "_view_name": "StyleView",
            "description_width": ""
          }
        },
        "36f30174580a41da83b58ed68ac5815a": {
          "model_module": "@jupyter-widgets/controls",
          "model_name": "HBoxModel",
          "state": {
            "_dom_classes": [],
            "_model_module": "@jupyter-widgets/controls",
            "_model_module_version": "1.5.0",
            "_model_name": "HBoxModel",
            "_view_count": null,
            "_view_module": "@jupyter-widgets/controls",
            "_view_module_version": "1.5.0",
            "_view_name": "HBoxView",
            "box_style": "",
            "children": [
              "IPY_MODEL_1497fb4804fa43f0bdcb5eb67a498c69",
              "IPY_MODEL_d469fa6d5f7f43c1b07b9aed0d35b615"
            ],
            "layout": "IPY_MODEL_63c34c07cecf4806899b93606eeccb1a"
          }
        },
        "1497fb4804fa43f0bdcb5eb67a498c69": {
          "model_module": "@jupyter-widgets/controls",
          "model_name": "FloatProgressModel",
          "state": {
            "_dom_classes": [],
            "_model_module": "@jupyter-widgets/controls",
            "_model_module_version": "1.5.0",
            "_model_name": "FloatProgressModel",
            "_view_count": null,
            "_view_module": "@jupyter-widgets/controls",
            "_view_module_version": "1.5.0",
            "_view_name": "ProgressView",
            "bar_style": "success",
            "description": "Downloading: 100%",
            "description_tooltip": null,
            "layout": "IPY_MODEL_31333711d6d5437a912d209915140847",
            "max": 440473133,
            "min": 0,
            "orientation": "horizontal",
            "style": "IPY_MODEL_d7e1aa5e20574823b5941f89f55789ac",
            "value": 440473133
          }
        },
        "d469fa6d5f7f43c1b07b9aed0d35b615": {
          "model_module": "@jupyter-widgets/controls",
          "model_name": "HTMLModel",
          "state": {
            "_dom_classes": [],
            "_model_module": "@jupyter-widgets/controls",
            "_model_module_version": "1.5.0",
            "_model_name": "HTMLModel",
            "_view_count": null,
            "_view_module": "@jupyter-widgets/controls",
            "_view_module_version": "1.5.0",
            "_view_name": "HTMLView",
            "description": "",
            "description_tooltip": null,
            "layout": "IPY_MODEL_8774b9d9a3494760b2f2854169afaf85",
            "placeholder": "​",
            "style": "IPY_MODEL_f24c300f1fb14ae98f90aa2020bdae31",
            "value": " 440M/440M [00:18&lt;00:00, 23.6MB/s]"
          }
        },
        "63c34c07cecf4806899b93606eeccb1a": {
          "model_module": "@jupyter-widgets/base",
          "model_name": "LayoutModel",
          "state": {
            "_model_module": "@jupyter-widgets/base",
            "_model_module_version": "1.2.0",
            "_model_name": "LayoutModel",
            "_view_count": null,
            "_view_module": "@jupyter-widgets/base",
            "_view_module_version": "1.2.0",
            "_view_name": "LayoutView",
            "align_content": null,
            "align_items": null,
            "align_self": null,
            "border": null,
            "bottom": null,
            "display": null,
            "flex": null,
            "flex_flow": null,
            "grid_area": null,
            "grid_auto_columns": null,
            "grid_auto_flow": null,
            "grid_auto_rows": null,
            "grid_column": null,
            "grid_gap": null,
            "grid_row": null,
            "grid_template_areas": null,
            "grid_template_columns": null,
            "grid_template_rows": null,
            "height": null,
            "justify_content": null,
            "justify_items": null,
            "left": null,
            "margin": null,
            "max_height": null,
            "max_width": null,
            "min_height": null,
            "min_width": null,
            "object_fit": null,
            "object_position": null,
            "order": null,
            "overflow": null,
            "overflow_x": null,
            "overflow_y": null,
            "padding": null,
            "right": null,
            "top": null,
            "visibility": null,
            "width": null
          }
        },
        "31333711d6d5437a912d209915140847": {
          "model_module": "@jupyter-widgets/base",
          "model_name": "LayoutModel",
          "state": {
            "_model_module": "@jupyter-widgets/base",
            "_model_module_version": "1.2.0",
            "_model_name": "LayoutModel",
            "_view_count": null,
            "_view_module": "@jupyter-widgets/base",
            "_view_module_version": "1.2.0",
            "_view_name": "LayoutView",
            "align_content": null,
            "align_items": null,
            "align_self": null,
            "border": null,
            "bottom": null,
            "display": null,
            "flex": null,
            "flex_flow": null,
            "grid_area": null,
            "grid_auto_columns": null,
            "grid_auto_flow": null,
            "grid_auto_rows": null,
            "grid_column": null,
            "grid_gap": null,
            "grid_row": null,
            "grid_template_areas": null,
            "grid_template_columns": null,
            "grid_template_rows": null,
            "height": null,
            "justify_content": null,
            "justify_items": null,
            "left": null,
            "margin": null,
            "max_height": null,
            "max_width": null,
            "min_height": null,
            "min_width": null,
            "object_fit": null,
            "object_position": null,
            "order": null,
            "overflow": null,
            "overflow_x": null,
            "overflow_y": null,
            "padding": null,
            "right": null,
            "top": null,
            "visibility": null,
            "width": null
          }
        },
        "d7e1aa5e20574823b5941f89f55789ac": {
          "model_module": "@jupyter-widgets/controls",
          "model_name": "ProgressStyleModel",
          "state": {
            "_model_module": "@jupyter-widgets/controls",
            "_model_module_version": "1.5.0",
            "_model_name": "ProgressStyleModel",
            "_view_count": null,
            "_view_module": "@jupyter-widgets/base",
            "_view_module_version": "1.2.0",
            "_view_name": "StyleView",
            "bar_color": null,
            "description_width": "initial"
          }
        },
        "8774b9d9a3494760b2f2854169afaf85": {
          "model_module": "@jupyter-widgets/base",
          "model_name": "LayoutModel",
          "state": {
            "_model_module": "@jupyter-widgets/base",
            "_model_module_version": "1.2.0",
            "_model_name": "LayoutModel",
            "_view_count": null,
            "_view_module": "@jupyter-widgets/base",
            "_view_module_version": "1.2.0",
            "_view_name": "LayoutView",
            "align_content": null,
            "align_items": null,
            "align_self": null,
            "border": null,
            "bottom": null,
            "display": null,
            "flex": null,
            "flex_flow": null,
            "grid_area": null,
            "grid_auto_columns": null,
            "grid_auto_flow": null,
            "grid_auto_rows": null,
            "grid_column": null,
            "grid_gap": null,
            "grid_row": null,
            "grid_template_areas": null,
            "grid_template_columns": null,
            "grid_template_rows": null,
            "height": null,
            "justify_content": null,
            "justify_items": null,
            "left": null,
            "margin": null,
            "max_height": null,
            "max_width": null,
            "min_height": null,
            "min_width": null,
            "object_fit": null,
            "object_position": null,
            "order": null,
            "overflow": null,
            "overflow_x": null,
            "overflow_y": null,
            "padding": null,
            "right": null,
            "top": null,
            "visibility": null,
            "width": null
          }
        },
        "f24c300f1fb14ae98f90aa2020bdae31": {
          "model_module": "@jupyter-widgets/controls",
          "model_name": "DescriptionStyleModel",
          "state": {
            "_model_module": "@jupyter-widgets/controls",
            "_model_module_version": "1.5.0",
            "_model_name": "DescriptionStyleModel",
            "_view_count": null,
            "_view_module": "@jupyter-widgets/base",
            "_view_module_version": "1.2.0",
            "_view_name": "StyleView",
            "description_width": ""
          }
        },
        "8a1c97c11e6c43659e4b2de56f58141f": {
          "model_module": "@jupyter-widgets/controls",
          "model_name": "HBoxModel",
          "state": {
            "_dom_classes": [],
            "_model_module": "@jupyter-widgets/controls",
            "_model_module_version": "1.5.0",
            "_model_name": "HBoxModel",
            "_view_count": null,
            "_view_module": "@jupyter-widgets/controls",
            "_view_module_version": "1.5.0",
            "_view_name": "HBoxView",
            "box_style": "",
            "children": [
              "IPY_MODEL_0aa02c93ef594b9ba35126e58d67069d",
              "IPY_MODEL_cc6318bb172f48fab05b7a0c3de30fce"
            ],
            "layout": "IPY_MODEL_8c543be543b746da90d0e17be224f09a"
          }
        },
        "0aa02c93ef594b9ba35126e58d67069d": {
          "model_module": "@jupyter-widgets/controls",
          "model_name": "FloatProgressModel",
          "state": {
            "_dom_classes": [],
            "_model_module": "@jupyter-widgets/controls",
            "_model_module_version": "1.5.0",
            "_model_name": "FloatProgressModel",
            "_view_count": null,
            "_view_module": "@jupyter-widgets/controls",
            "_view_module_version": "1.5.0",
            "_view_name": "ProgressView",
            "bar_style": "success",
            "description": "Downloading: 100%",
            "description_tooltip": null,
            "layout": "IPY_MODEL_75adab823df04c0dbb2ac051cb6694f3",
            "max": 231508,
            "min": 0,
            "orientation": "horizontal",
            "style": "IPY_MODEL_666f5145ccac4228a81e4d68f5680627",
            "value": 231508
          }
        },
        "cc6318bb172f48fab05b7a0c3de30fce": {
          "model_module": "@jupyter-widgets/controls",
          "model_name": "HTMLModel",
          "state": {
            "_dom_classes": [],
            "_model_module": "@jupyter-widgets/controls",
            "_model_module_version": "1.5.0",
            "_model_name": "HTMLModel",
            "_view_count": null,
            "_view_module": "@jupyter-widgets/controls",
            "_view_module_version": "1.5.0",
            "_view_name": "HTMLView",
            "description": "",
            "description_tooltip": null,
            "layout": "IPY_MODEL_f6fd9aade2b24f3dbb723433119ff9bb",
            "placeholder": "​",
            "style": "IPY_MODEL_df1f8d9f2c714a02b290daa00b4ca126",
            "value": " 232k/232k [00:00&lt;00:00, 396kB/s]"
          }
        },
        "8c543be543b746da90d0e17be224f09a": {
          "model_module": "@jupyter-widgets/base",
          "model_name": "LayoutModel",
          "state": {
            "_model_module": "@jupyter-widgets/base",
            "_model_module_version": "1.2.0",
            "_model_name": "LayoutModel",
            "_view_count": null,
            "_view_module": "@jupyter-widgets/base",
            "_view_module_version": "1.2.0",
            "_view_name": "LayoutView",
            "align_content": null,
            "align_items": null,
            "align_self": null,
            "border": null,
            "bottom": null,
            "display": null,
            "flex": null,
            "flex_flow": null,
            "grid_area": null,
            "grid_auto_columns": null,
            "grid_auto_flow": null,
            "grid_auto_rows": null,
            "grid_column": null,
            "grid_gap": null,
            "grid_row": null,
            "grid_template_areas": null,
            "grid_template_columns": null,
            "grid_template_rows": null,
            "height": null,
            "justify_content": null,
            "justify_items": null,
            "left": null,
            "margin": null,
            "max_height": null,
            "max_width": null,
            "min_height": null,
            "min_width": null,
            "object_fit": null,
            "object_position": null,
            "order": null,
            "overflow": null,
            "overflow_x": null,
            "overflow_y": null,
            "padding": null,
            "right": null,
            "top": null,
            "visibility": null,
            "width": null
          }
        },
        "75adab823df04c0dbb2ac051cb6694f3": {
          "model_module": "@jupyter-widgets/base",
          "model_name": "LayoutModel",
          "state": {
            "_model_module": "@jupyter-widgets/base",
            "_model_module_version": "1.2.0",
            "_model_name": "LayoutModel",
            "_view_count": null,
            "_view_module": "@jupyter-widgets/base",
            "_view_module_version": "1.2.0",
            "_view_name": "LayoutView",
            "align_content": null,
            "align_items": null,
            "align_self": null,
            "border": null,
            "bottom": null,
            "display": null,
            "flex": null,
            "flex_flow": null,
            "grid_area": null,
            "grid_auto_columns": null,
            "grid_auto_flow": null,
            "grid_auto_rows": null,
            "grid_column": null,
            "grid_gap": null,
            "grid_row": null,
            "grid_template_areas": null,
            "grid_template_columns": null,
            "grid_template_rows": null,
            "height": null,
            "justify_content": null,
            "justify_items": null,
            "left": null,
            "margin": null,
            "max_height": null,
            "max_width": null,
            "min_height": null,
            "min_width": null,
            "object_fit": null,
            "object_position": null,
            "order": null,
            "overflow": null,
            "overflow_x": null,
            "overflow_y": null,
            "padding": null,
            "right": null,
            "top": null,
            "visibility": null,
            "width": null
          }
        },
        "666f5145ccac4228a81e4d68f5680627": {
          "model_module": "@jupyter-widgets/controls",
          "model_name": "ProgressStyleModel",
          "state": {
            "_model_module": "@jupyter-widgets/controls",
            "_model_module_version": "1.5.0",
            "_model_name": "ProgressStyleModel",
            "_view_count": null,
            "_view_module": "@jupyter-widgets/base",
            "_view_module_version": "1.2.0",
            "_view_name": "StyleView",
            "bar_color": null,
            "description_width": "initial"
          }
        },
        "f6fd9aade2b24f3dbb723433119ff9bb": {
          "model_module": "@jupyter-widgets/base",
          "model_name": "LayoutModel",
          "state": {
            "_model_module": "@jupyter-widgets/base",
            "_model_module_version": "1.2.0",
            "_model_name": "LayoutModel",
            "_view_count": null,
            "_view_module": "@jupyter-widgets/base",
            "_view_module_version": "1.2.0",
            "_view_name": "LayoutView",
            "align_content": null,
            "align_items": null,
            "align_self": null,
            "border": null,
            "bottom": null,
            "display": null,
            "flex": null,
            "flex_flow": null,
            "grid_area": null,
            "grid_auto_columns": null,
            "grid_auto_flow": null,
            "grid_auto_rows": null,
            "grid_column": null,
            "grid_gap": null,
            "grid_row": null,
            "grid_template_areas": null,
            "grid_template_columns": null,
            "grid_template_rows": null,
            "height": null,
            "justify_content": null,
            "justify_items": null,
            "left": null,
            "margin": null,
            "max_height": null,
            "max_width": null,
            "min_height": null,
            "min_width": null,
            "object_fit": null,
            "object_position": null,
            "order": null,
            "overflow": null,
            "overflow_x": null,
            "overflow_y": null,
            "padding": null,
            "right": null,
            "top": null,
            "visibility": null,
            "width": null
          }
        },
        "df1f8d9f2c714a02b290daa00b4ca126": {
          "model_module": "@jupyter-widgets/controls",
          "model_name": "DescriptionStyleModel",
          "state": {
            "_model_module": "@jupyter-widgets/controls",
            "_model_module_version": "1.5.0",
            "_model_name": "DescriptionStyleModel",
            "_view_count": null,
            "_view_module": "@jupyter-widgets/base",
            "_view_module_version": "1.2.0",
            "_view_name": "StyleView",
            "description_width": ""
          }
        },
        "5bcf24e42034460cb1df1d140b483fea": {
          "model_module": "@jupyter-widgets/controls",
          "model_name": "HBoxModel",
          "state": {
            "_dom_classes": [],
            "_model_module": "@jupyter-widgets/controls",
            "_model_module_version": "1.5.0",
            "_model_name": "HBoxModel",
            "_view_count": null,
            "_view_module": "@jupyter-widgets/controls",
            "_view_module_version": "1.5.0",
            "_view_name": "HBoxView",
            "box_style": "",
            "children": [
              "IPY_MODEL_bb5b97e39e704890aa953d746235b3c0",
              "IPY_MODEL_f0d42479562d487e967f778bf0fa0d2f"
            ],
            "layout": "IPY_MODEL_59bad872de36417ca3234ca34d134bef"
          }
        },
        "bb5b97e39e704890aa953d746235b3c0": {
          "model_module": "@jupyter-widgets/controls",
          "model_name": "FloatProgressModel",
          "state": {
            "_dom_classes": [],
            "_model_module": "@jupyter-widgets/controls",
            "_model_module_version": "1.5.0",
            "_model_name": "FloatProgressModel",
            "_view_count": null,
            "_view_module": "@jupyter-widgets/controls",
            "_view_module_version": "1.5.0",
            "_view_name": "ProgressView",
            "bar_style": "success",
            "description": "Downloading: 100%",
            "description_tooltip": null,
            "layout": "IPY_MODEL_5239b85cf97042deb762a1ebde2b6f60",
            "max": 28,
            "min": 0,
            "orientation": "horizontal",
            "style": "IPY_MODEL_8eb45b0c10cb42049d9f515da1aedffa",
            "value": 28
          }
        },
        "f0d42479562d487e967f778bf0fa0d2f": {
          "model_module": "@jupyter-widgets/controls",
          "model_name": "HTMLModel",
          "state": {
            "_dom_classes": [],
            "_model_module": "@jupyter-widgets/controls",
            "_model_module_version": "1.5.0",
            "_model_name": "HTMLModel",
            "_view_count": null,
            "_view_module": "@jupyter-widgets/controls",
            "_view_module_version": "1.5.0",
            "_view_name": "HTMLView",
            "description": "",
            "description_tooltip": null,
            "layout": "IPY_MODEL_29086f74c5f8406d93c1a7b74a4781e3",
            "placeholder": "​",
            "style": "IPY_MODEL_12b80ed356d346a48d3f8413b9d9765c",
            "value": " 28.0/28.0 [00:00&lt;00:00, 57.8B/s]"
          }
        },
        "59bad872de36417ca3234ca34d134bef": {
          "model_module": "@jupyter-widgets/base",
          "model_name": "LayoutModel",
          "state": {
            "_model_module": "@jupyter-widgets/base",
            "_model_module_version": "1.2.0",
            "_model_name": "LayoutModel",
            "_view_count": null,
            "_view_module": "@jupyter-widgets/base",
            "_view_module_version": "1.2.0",
            "_view_name": "LayoutView",
            "align_content": null,
            "align_items": null,
            "align_self": null,
            "border": null,
            "bottom": null,
            "display": null,
            "flex": null,
            "flex_flow": null,
            "grid_area": null,
            "grid_auto_columns": null,
            "grid_auto_flow": null,
            "grid_auto_rows": null,
            "grid_column": null,
            "grid_gap": null,
            "grid_row": null,
            "grid_template_areas": null,
            "grid_template_columns": null,
            "grid_template_rows": null,
            "height": null,
            "justify_content": null,
            "justify_items": null,
            "left": null,
            "margin": null,
            "max_height": null,
            "max_width": null,
            "min_height": null,
            "min_width": null,
            "object_fit": null,
            "object_position": null,
            "order": null,
            "overflow": null,
            "overflow_x": null,
            "overflow_y": null,
            "padding": null,
            "right": null,
            "top": null,
            "visibility": null,
            "width": null
          }
        },
        "5239b85cf97042deb762a1ebde2b6f60": {
          "model_module": "@jupyter-widgets/base",
          "model_name": "LayoutModel",
          "state": {
            "_model_module": "@jupyter-widgets/base",
            "_model_module_version": "1.2.0",
            "_model_name": "LayoutModel",
            "_view_count": null,
            "_view_module": "@jupyter-widgets/base",
            "_view_module_version": "1.2.0",
            "_view_name": "LayoutView",
            "align_content": null,
            "align_items": null,
            "align_self": null,
            "border": null,
            "bottom": null,
            "display": null,
            "flex": null,
            "flex_flow": null,
            "grid_area": null,
            "grid_auto_columns": null,
            "grid_auto_flow": null,
            "grid_auto_rows": null,
            "grid_column": null,
            "grid_gap": null,
            "grid_row": null,
            "grid_template_areas": null,
            "grid_template_columns": null,
            "grid_template_rows": null,
            "height": null,
            "justify_content": null,
            "justify_items": null,
            "left": null,
            "margin": null,
            "max_height": null,
            "max_width": null,
            "min_height": null,
            "min_width": null,
            "object_fit": null,
            "object_position": null,
            "order": null,
            "overflow": null,
            "overflow_x": null,
            "overflow_y": null,
            "padding": null,
            "right": null,
            "top": null,
            "visibility": null,
            "width": null
          }
        },
        "8eb45b0c10cb42049d9f515da1aedffa": {
          "model_module": "@jupyter-widgets/controls",
          "model_name": "ProgressStyleModel",
          "state": {
            "_model_module": "@jupyter-widgets/controls",
            "_model_module_version": "1.5.0",
            "_model_name": "ProgressStyleModel",
            "_view_count": null,
            "_view_module": "@jupyter-widgets/base",
            "_view_module_version": "1.2.0",
            "_view_name": "StyleView",
            "bar_color": null,
            "description_width": "initial"
          }
        },
        "29086f74c5f8406d93c1a7b74a4781e3": {
          "model_module": "@jupyter-widgets/base",
          "model_name": "LayoutModel",
          "state": {
            "_model_module": "@jupyter-widgets/base",
            "_model_module_version": "1.2.0",
            "_model_name": "LayoutModel",
            "_view_count": null,
            "_view_module": "@jupyter-widgets/base",
            "_view_module_version": "1.2.0",
            "_view_name": "LayoutView",
            "align_content": null,
            "align_items": null,
            "align_self": null,
            "border": null,
            "bottom": null,
            "display": null,
            "flex": null,
            "flex_flow": null,
            "grid_area": null,
            "grid_auto_columns": null,
            "grid_auto_flow": null,
            "grid_auto_rows": null,
            "grid_column": null,
            "grid_gap": null,
            "grid_row": null,
            "grid_template_areas": null,
            "grid_template_columns": null,
            "grid_template_rows": null,
            "height": null,
            "justify_content": null,
            "justify_items": null,
            "left": null,
            "margin": null,
            "max_height": null,
            "max_width": null,
            "min_height": null,
            "min_width": null,
            "object_fit": null,
            "object_position": null,
            "order": null,
            "overflow": null,
            "overflow_x": null,
            "overflow_y": null,
            "padding": null,
            "right": null,
            "top": null,
            "visibility": null,
            "width": null
          }
        },
        "12b80ed356d346a48d3f8413b9d9765c": {
          "model_module": "@jupyter-widgets/controls",
          "model_name": "DescriptionStyleModel",
          "state": {
            "_model_module": "@jupyter-widgets/controls",
            "_model_module_version": "1.5.0",
            "_model_name": "DescriptionStyleModel",
            "_view_count": null,
            "_view_module": "@jupyter-widgets/base",
            "_view_module_version": "1.2.0",
            "_view_name": "StyleView",
            "description_width": ""
          }
        },
        "18716029454e417884438700f5172053": {
          "model_module": "@jupyter-widgets/controls",
          "model_name": "HBoxModel",
          "state": {
            "_dom_classes": [],
            "_model_module": "@jupyter-widgets/controls",
            "_model_module_version": "1.5.0",
            "_model_name": "HBoxModel",
            "_view_count": null,
            "_view_module": "@jupyter-widgets/controls",
            "_view_module_version": "1.5.0",
            "_view_name": "HBoxView",
            "box_style": "",
            "children": [
              "IPY_MODEL_fe13b14126cc407bb777358e4bee45c5",
              "IPY_MODEL_992aa4f4eae74538a7276014e898bdd9"
            ],
            "layout": "IPY_MODEL_76be78a05ef94564afcbf246adaab2f4"
          }
        },
        "fe13b14126cc407bb777358e4bee45c5": {
          "model_module": "@jupyter-widgets/controls",
          "model_name": "FloatProgressModel",
          "state": {
            "_dom_classes": [],
            "_model_module": "@jupyter-widgets/controls",
            "_model_module_version": "1.5.0",
            "_model_name": "FloatProgressModel",
            "_view_count": null,
            "_view_module": "@jupyter-widgets/controls",
            "_view_module_version": "1.5.0",
            "_view_name": "ProgressView",
            "bar_style": "success",
            "description": "Downloading: 100%",
            "description_tooltip": null,
            "layout": "IPY_MODEL_6282f445dc98427dad60c400d813049a",
            "max": 466062,
            "min": 0,
            "orientation": "horizontal",
            "style": "IPY_MODEL_ec9c0898817f4e8eb6447a6a05bb81b8",
            "value": 466062
          }
        },
        "992aa4f4eae74538a7276014e898bdd9": {
          "model_module": "@jupyter-widgets/controls",
          "model_name": "HTMLModel",
          "state": {
            "_dom_classes": [],
            "_model_module": "@jupyter-widgets/controls",
            "_model_module_version": "1.5.0",
            "_model_name": "HTMLModel",
            "_view_count": null,
            "_view_module": "@jupyter-widgets/controls",
            "_view_module_version": "1.5.0",
            "_view_name": "HTMLView",
            "description": "",
            "description_tooltip": null,
            "layout": "IPY_MODEL_065a78f6c8774b2a9769e83c42e16743",
            "placeholder": "​",
            "style": "IPY_MODEL_7d37f06f29654c519ef7e33b0bd630f0",
            "value": " 466k/466k [00:00&lt;00:00, 2.25MB/s]"
          }
        },
        "76be78a05ef94564afcbf246adaab2f4": {
          "model_module": "@jupyter-widgets/base",
          "model_name": "LayoutModel",
          "state": {
            "_model_module": "@jupyter-widgets/base",
            "_model_module_version": "1.2.0",
            "_model_name": "LayoutModel",
            "_view_count": null,
            "_view_module": "@jupyter-widgets/base",
            "_view_module_version": "1.2.0",
            "_view_name": "LayoutView",
            "align_content": null,
            "align_items": null,
            "align_self": null,
            "border": null,
            "bottom": null,
            "display": null,
            "flex": null,
            "flex_flow": null,
            "grid_area": null,
            "grid_auto_columns": null,
            "grid_auto_flow": null,
            "grid_auto_rows": null,
            "grid_column": null,
            "grid_gap": null,
            "grid_row": null,
            "grid_template_areas": null,
            "grid_template_columns": null,
            "grid_template_rows": null,
            "height": null,
            "justify_content": null,
            "justify_items": null,
            "left": null,
            "margin": null,
            "max_height": null,
            "max_width": null,
            "min_height": null,
            "min_width": null,
            "object_fit": null,
            "object_position": null,
            "order": null,
            "overflow": null,
            "overflow_x": null,
            "overflow_y": null,
            "padding": null,
            "right": null,
            "top": null,
            "visibility": null,
            "width": null
          }
        },
        "6282f445dc98427dad60c400d813049a": {
          "model_module": "@jupyter-widgets/base",
          "model_name": "LayoutModel",
          "state": {
            "_model_module": "@jupyter-widgets/base",
            "_model_module_version": "1.2.0",
            "_model_name": "LayoutModel",
            "_view_count": null,
            "_view_module": "@jupyter-widgets/base",
            "_view_module_version": "1.2.0",
            "_view_name": "LayoutView",
            "align_content": null,
            "align_items": null,
            "align_self": null,
            "border": null,
            "bottom": null,
            "display": null,
            "flex": null,
            "flex_flow": null,
            "grid_area": null,
            "grid_auto_columns": null,
            "grid_auto_flow": null,
            "grid_auto_rows": null,
            "grid_column": null,
            "grid_gap": null,
            "grid_row": null,
            "grid_template_areas": null,
            "grid_template_columns": null,
            "grid_template_rows": null,
            "height": null,
            "justify_content": null,
            "justify_items": null,
            "left": null,
            "margin": null,
            "max_height": null,
            "max_width": null,
            "min_height": null,
            "min_width": null,
            "object_fit": null,
            "object_position": null,
            "order": null,
            "overflow": null,
            "overflow_x": null,
            "overflow_y": null,
            "padding": null,
            "right": null,
            "top": null,
            "visibility": null,
            "width": null
          }
        },
        "ec9c0898817f4e8eb6447a6a05bb81b8": {
          "model_module": "@jupyter-widgets/controls",
          "model_name": "ProgressStyleModel",
          "state": {
            "_model_module": "@jupyter-widgets/controls",
            "_model_module_version": "1.5.0",
            "_model_name": "ProgressStyleModel",
            "_view_count": null,
            "_view_module": "@jupyter-widgets/base",
            "_view_module_version": "1.2.0",
            "_view_name": "StyleView",
            "bar_color": null,
            "description_width": "initial"
          }
        },
        "065a78f6c8774b2a9769e83c42e16743": {
          "model_module": "@jupyter-widgets/base",
          "model_name": "LayoutModel",
          "state": {
            "_model_module": "@jupyter-widgets/base",
            "_model_module_version": "1.2.0",
            "_model_name": "LayoutModel",
            "_view_count": null,
            "_view_module": "@jupyter-widgets/base",
            "_view_module_version": "1.2.0",
            "_view_name": "LayoutView",
            "align_content": null,
            "align_items": null,
            "align_self": null,
            "border": null,
            "bottom": null,
            "display": null,
            "flex": null,
            "flex_flow": null,
            "grid_area": null,
            "grid_auto_columns": null,
            "grid_auto_flow": null,
            "grid_auto_rows": null,
            "grid_column": null,
            "grid_gap": null,
            "grid_row": null,
            "grid_template_areas": null,
            "grid_template_columns": null,
            "grid_template_rows": null,
            "height": null,
            "justify_content": null,
            "justify_items": null,
            "left": null,
            "margin": null,
            "max_height": null,
            "max_width": null,
            "min_height": null,
            "min_width": null,
            "object_fit": null,
            "object_position": null,
            "order": null,
            "overflow": null,
            "overflow_x": null,
            "overflow_y": null,
            "padding": null,
            "right": null,
            "top": null,
            "visibility": null,
            "width": null
          }
        },
        "7d37f06f29654c519ef7e33b0bd630f0": {
          "model_module": "@jupyter-widgets/controls",
          "model_name": "DescriptionStyleModel",
          "state": {
            "_model_module": "@jupyter-widgets/controls",
            "_model_module_version": "1.5.0",
            "_model_name": "DescriptionStyleModel",
            "_view_count": null,
            "_view_module": "@jupyter-widgets/base",
            "_view_module_version": "1.2.0",
            "_view_name": "StyleView",
            "description_width": ""
          }
        }
      }
    }
  },
  "cells": [
    {
      "cell_type": "markdown",
      "metadata": {
        "id": "4PyxWJ3ubgEa"
      },
      "source": [
        "# BERT Word Embeddings\n",
        "\n",
        "Three ways to obtain word embeddings from BERT:\n",
        "- context-free\n",
        "- context-averaged\n",
        "- "
      ]
    },
    {
      "cell_type": "code",
      "metadata": {
        "colab": {
          "base_uri": "https://localhost:8080/"
        },
        "id": "OmKX7S-8bgEj",
        "outputId": "8d722c1e-f2d3-44d4-8fdd-2b0e68b0c29a"
      },
      "source": [
        "!pip install torch\n",
        "!pip install transformers==3.5.1\n",
        "!pip install bert-for-tf2\n",
        "!pip install sentencepiece\n",
        "!pip install flair"
      ],
      "execution_count": null,
      "outputs": [
        {
          "output_type": "stream",
          "text": [
            "Requirement already satisfied: torch in /usr/local/lib/python3.7/dist-packages (1.8.1+cu101)\n",
            "Requirement already satisfied: numpy in /usr/local/lib/python3.7/dist-packages (from torch) (1.19.5)\n",
            "Requirement already satisfied: typing-extensions in /usr/local/lib/python3.7/dist-packages (from torch) (3.7.4.3)\n",
            "Collecting transformers==3.5.1\n",
            "\u001b[?25l  Downloading https://files.pythonhosted.org/packages/3a/83/e74092e7f24a08d751aa59b37a9fc572b2e4af3918cb66f7766c3affb1b4/transformers-3.5.1-py3-none-any.whl (1.3MB)\n",
            "\u001b[K     |████████████████████████████████| 1.3MB 5.0MB/s \n",
            "\u001b[?25hRequirement already satisfied: tqdm>=4.27 in /usr/local/lib/python3.7/dist-packages (from transformers==3.5.1) (4.41.1)\n",
            "Requirement already satisfied: filelock in /usr/local/lib/python3.7/dist-packages (from transformers==3.5.1) (3.0.12)\n",
            "Collecting sentencepiece==0.1.91\n",
            "\u001b[?25l  Downloading https://files.pythonhosted.org/packages/f2/e2/813dff3d72df2f49554204e7e5f73a3dc0f0eb1e3958a4cad3ef3fb278b7/sentencepiece-0.1.91-cp37-cp37m-manylinux1_x86_64.whl (1.1MB)\n",
            "\u001b[K     |████████████████████████████████| 1.1MB 20.0MB/s \n",
            "\u001b[?25hRequirement already satisfied: numpy in /usr/local/lib/python3.7/dist-packages (from transformers==3.5.1) (1.19.5)\n",
            "Requirement already satisfied: regex!=2019.12.17 in /usr/local/lib/python3.7/dist-packages (from transformers==3.5.1) (2019.12.20)\n",
            "Requirement already satisfied: packaging in /usr/local/lib/python3.7/dist-packages (from transformers==3.5.1) (20.9)\n",
            "Collecting sacremoses\n",
            "\u001b[?25l  Downloading https://files.pythonhosted.org/packages/75/ee/67241dc87f266093c533a2d4d3d69438e57d7a90abb216fa076e7d475d4a/sacremoses-0.0.45-py3-none-any.whl (895kB)\n",
            "\u001b[K     |████████████████████████████████| 901kB 22.4MB/s \n",
            "\u001b[?25hRequirement already satisfied: requests in /usr/local/lib/python3.7/dist-packages (from transformers==3.5.1) (2.23.0)\n",
            "Collecting tokenizers==0.9.3\n",
            "\u001b[?25l  Downloading https://files.pythonhosted.org/packages/7b/ac/f5ba028f0f097d855e1541301e946d4672eb0f30b6e25cb2369075f916d2/tokenizers-0.9.3-cp37-cp37m-manylinux1_x86_64.whl (2.9MB)\n",
            "\u001b[K     |████████████████████████████████| 2.9MB 33.2MB/s \n",
            "\u001b[?25hRequirement already satisfied: protobuf in /usr/local/lib/python3.7/dist-packages (from transformers==3.5.1) (3.12.4)\n",
            "Requirement already satisfied: pyparsing>=2.0.2 in /usr/local/lib/python3.7/dist-packages (from packaging->transformers==3.5.1) (2.4.7)\n",
            "Requirement already satisfied: click in /usr/local/lib/python3.7/dist-packages (from sacremoses->transformers==3.5.1) (7.1.2)\n",
            "Requirement already satisfied: joblib in /usr/local/lib/python3.7/dist-packages (from sacremoses->transformers==3.5.1) (1.0.1)\n",
            "Requirement already satisfied: six in /usr/local/lib/python3.7/dist-packages (from sacremoses->transformers==3.5.1) (1.15.0)\n",
            "Requirement already satisfied: chardet<4,>=3.0.2 in /usr/local/lib/python3.7/dist-packages (from requests->transformers==3.5.1) (3.0.4)\n",
            "Requirement already satisfied: idna<3,>=2.5 in /usr/local/lib/python3.7/dist-packages (from requests->transformers==3.5.1) (2.10)\n",
            "Requirement already satisfied: certifi>=2017.4.17 in /usr/local/lib/python3.7/dist-packages (from requests->transformers==3.5.1) (2020.12.5)\n",
            "Requirement already satisfied: urllib3!=1.25.0,!=1.25.1,<1.26,>=1.21.1 in /usr/local/lib/python3.7/dist-packages (from requests->transformers==3.5.1) (1.24.3)\n",
            "Requirement already satisfied: setuptools in /usr/local/lib/python3.7/dist-packages (from protobuf->transformers==3.5.1) (56.0.0)\n",
            "Installing collected packages: sentencepiece, sacremoses, tokenizers, transformers\n",
            "Successfully installed sacremoses-0.0.45 sentencepiece-0.1.91 tokenizers-0.9.3 transformers-3.5.1\n",
            "Collecting bert-for-tf2\n",
            "\u001b[?25l  Downloading https://files.pythonhosted.org/packages/a5/a1/acb891630749c56901e770a34d6bac8a509a367dd74a05daf7306952e910/bert-for-tf2-0.14.9.tar.gz (41kB)\n",
            "\u001b[K     |████████████████████████████████| 51kB 4.1MB/s \n",
            "\u001b[?25hCollecting py-params>=0.9.6\n",
            "  Downloading https://files.pythonhosted.org/packages/aa/e0/4f663d8abf83c8084b75b995bd2ab3a9512ebc5b97206fde38cef906ab07/py-params-0.10.2.tar.gz\n",
            "Collecting params-flow>=0.8.0\n",
            "  Downloading https://files.pythonhosted.org/packages/a9/95/ff49f5ebd501f142a6f0aaf42bcfd1c192dc54909d1d9eb84ab031d46056/params-flow-0.8.2.tar.gz\n",
            "Requirement already satisfied: numpy in /usr/local/lib/python3.7/dist-packages (from params-flow>=0.8.0->bert-for-tf2) (1.19.5)\n",
            "Requirement already satisfied: tqdm in /usr/local/lib/python3.7/dist-packages (from params-flow>=0.8.0->bert-for-tf2) (4.41.1)\n",
            "Building wheels for collected packages: bert-for-tf2, py-params, params-flow\n",
            "  Building wheel for bert-for-tf2 (setup.py) ... \u001b[?25l\u001b[?25hdone\n",
            "  Created wheel for bert-for-tf2: filename=bert_for_tf2-0.14.9-cp37-none-any.whl size=30535 sha256=d5923ff942225b5d2c32fbb9e6ffad6fe814c6768b697b4eb57b3539b5e0976b\n",
            "  Stored in directory: /root/.cache/pip/wheels/a1/04/ee/347bd9f5b821b637c76411d280271a857aece00358896a230f\n",
            "  Building wheel for py-params (setup.py) ... \u001b[?25l\u001b[?25hdone\n",
            "  Created wheel for py-params: filename=py_params-0.10.2-cp37-none-any.whl size=7912 sha256=cb2436203e1cb6d69c8d8ee1264fb96053b56ffa0ad2bd51c6a76a642cbb6027\n",
            "  Stored in directory: /root/.cache/pip/wheels/d0/4a/70/ff12450229ff1955abf01f365051d4faae1c20aef53ab4cf09\n",
            "  Building wheel for params-flow (setup.py) ... \u001b[?25l\u001b[?25hdone\n",
            "  Created wheel for params-flow: filename=params_flow-0.8.2-cp37-none-any.whl size=19472 sha256=2e4ca3f199db1857ab231e1f96fb6c6c42c4cb78aa58769c95231104e56b38ea\n",
            "  Stored in directory: /root/.cache/pip/wheels/08/c8/7f/81c86b9ff2b86e2c477e3914175be03e679e596067dc630c06\n",
            "Successfully built bert-for-tf2 py-params params-flow\n",
            "Installing collected packages: py-params, params-flow, bert-for-tf2\n",
            "Successfully installed bert-for-tf2-0.14.9 params-flow-0.8.2 py-params-0.10.2\n",
            "Requirement already satisfied: sentencepiece in /usr/local/lib/python3.7/dist-packages (0.1.91)\n",
            "Collecting flair\n",
            "\u001b[?25l  Downloading https://files.pythonhosted.org/packages/f0/3a/1b46a0220d6176b22bcb9336619d1731301bc2c75fa926a9ef953e6e4d58/flair-0.8.0.post1-py3-none-any.whl (284kB)\n",
            "\u001b[K     |████████████████████████████████| 286kB 5.7MB/s \n",
            "\u001b[?25hCollecting konoha<5.0.0,>=4.0.0\n",
            "  Downloading https://files.pythonhosted.org/packages/02/be/4dd30d56a0a19619deb9bf41ba8202709fa83b1b301b876572cd6dc38117/konoha-4.6.4-py3-none-any.whl\n",
            "Collecting gdown==3.12.2\n",
            "  Downloading https://files.pythonhosted.org/packages/50/21/92c3cfe56f5c0647145c4b0083d0733dd4890a057eb100a8eeddf949ffe9/gdown-3.12.2.tar.gz\n",
            "  Installing build dependencies ... \u001b[?25l\u001b[?25hdone\n",
            "  Getting requirements to build wheel ... \u001b[?25l\u001b[?25hdone\n",
            "    Preparing wheel metadata ... \u001b[?25l\u001b[?25hdone\n",
            "Collecting ftfy\n",
            "\u001b[?25l  Downloading https://files.pythonhosted.org/packages/ce/b5/5da463f9c7823e0e575e9908d004e2af4b36efa8d02d3d6dad57094fcb11/ftfy-6.0.1.tar.gz (63kB)\n",
            "\u001b[K     |████████████████████████████████| 71kB 4.5MB/s \n",
            "\u001b[?25hRequirement already satisfied: tqdm>=4.26.0 in /usr/local/lib/python3.7/dist-packages (from flair) (4.41.1)\n",
            "Collecting torch<=1.7.1,>=1.5.0\n",
            "\u001b[?25l  Downloading https://files.pythonhosted.org/packages/90/5d/095ddddc91c8a769a68c791c019c5793f9c4456a688ddd235d6670924ecb/torch-1.7.1-cp37-cp37m-manylinux1_x86_64.whl (776.8MB)\n",
            "\u001b[K     |████████████████████████████████| 776.8MB 22kB/s \n",
            "\u001b[?25hCollecting sentencepiece==0.1.95\n",
            "\u001b[?25l  Downloading https://files.pythonhosted.org/packages/f5/99/e0808cb947ba10f575839c43e8fafc9cc44e4a7a2c8f79c60db48220a577/sentencepiece-0.1.95-cp37-cp37m-manylinux2014_x86_64.whl (1.2MB)\n",
            "\u001b[K     |████████████████████████████████| 1.2MB 39.7MB/s \n",
            "\u001b[?25hRequirement already satisfied: scikit-learn>=0.21.3 in /usr/local/lib/python3.7/dist-packages (from flair) (0.22.2.post1)\n",
            "Collecting sqlitedict>=1.6.0\n",
            "  Downloading https://files.pythonhosted.org/packages/5c/2d/b1d99e9ad157dd7de9cd0d36a8a5876b13b55e4b75f7498bc96035fb4e96/sqlitedict-1.7.0.tar.gz\n",
            "Requirement already satisfied: regex in /usr/local/lib/python3.7/dist-packages (from flair) (2019.12.20)\n",
            "Collecting deprecated>=1.2.4\n",
            "  Downloading https://files.pythonhosted.org/packages/fb/73/994edfcba74443146c84b91921fcc269374354118d4f452fb0c54c1cbb12/Deprecated-1.2.12-py2.py3-none-any.whl\n",
            "Collecting transformers>=4.0.0\n",
            "\u001b[?25l  Downloading https://files.pythonhosted.org/packages/d8/b2/57495b5309f09fa501866e225c84532d1fd89536ea62406b2181933fb418/transformers-4.5.1-py3-none-any.whl (2.1MB)\n",
            "\u001b[K     |████████████████████████████████| 2.1MB 37.6MB/s \n",
            "\u001b[?25hRequirement already satisfied: lxml in /usr/local/lib/python3.7/dist-packages (from flair) (4.2.6)\n",
            "Collecting huggingface-hub\n",
            "  Downloading https://files.pythonhosted.org/packages/a1/88/7b1e45720ecf59c6c6737ff332f41c955963090a18e72acbcbeac6b25e86/huggingface_hub-0.0.8-py3-none-any.whl\n",
            "Requirement already satisfied: gensim<=3.8.3,>=3.4.0 in /usr/local/lib/python3.7/dist-packages (from flair) (3.6.0)\n",
            "Collecting bpemb>=0.3.2\n",
            "  Downloading https://files.pythonhosted.org/packages/f2/6f/9191b85109772636a8f8accb122900c34db26c091d2793218aa94954524c/bpemb-0.3.3-py3-none-any.whl\n",
            "Requirement already satisfied: matplotlib>=2.2.3 in /usr/local/lib/python3.7/dist-packages (from flair) (3.2.2)\n",
            "Requirement already satisfied: tabulate in /usr/local/lib/python3.7/dist-packages (from flair) (0.8.9)\n",
            "Collecting janome\n",
            "\u001b[?25l  Downloading https://files.pythonhosted.org/packages/a8/63/98858cbead27df7536c7e300c169da0999e9704d02220dc6700b804eeff0/Janome-0.4.1-py2.py3-none-any.whl (19.7MB)\n",
            "\u001b[K     |████████████████████████████████| 19.7MB 1.4MB/s \n",
            "\u001b[?25hCollecting segtok>=1.5.7\n",
            "  Downloading https://files.pythonhosted.org/packages/41/08/582dab5f4b1d5ca23bc6927b4bb977c8ff7f3a87a3b98844ef833e2f5623/segtok-1.5.10.tar.gz\n",
            "Requirement already satisfied: hyperopt>=0.1.1 in /usr/local/lib/python3.7/dist-packages (from flair) (0.1.2)\n",
            "Requirement already satisfied: numpy<1.20.0 in /usr/local/lib/python3.7/dist-packages (from flair) (1.19.5)\n",
            "Collecting langdetect\n",
            "\u001b[?25l  Downloading https://files.pythonhosted.org/packages/56/a3/8407c1e62d5980188b4acc45ef3d94b933d14a2ebc9ef3505f22cf772570/langdetect-1.0.8.tar.gz (981kB)\n",
            "\u001b[K     |████████████████████████████████| 983kB 31.1MB/s \n",
            "\u001b[?25hCollecting mpld3==0.3\n",
            "\u001b[?25l  Downloading https://files.pythonhosted.org/packages/91/95/a52d3a83d0a29ba0d6898f6727e9858fe7a43f6c2ce81a5fe7e05f0f4912/mpld3-0.3.tar.gz (788kB)\n",
            "\u001b[K     |████████████████████████████████| 798kB 31.2MB/s \n",
            "\u001b[?25hRequirement already satisfied: python-dateutil>=2.6.1 in /usr/local/lib/python3.7/dist-packages (from flair) (2.8.1)\n",
            "Collecting overrides<4.0.0,>=3.0.0\n",
            "  Downloading https://files.pythonhosted.org/packages/ff/b1/10f69c00947518e6676bbd43e739733048de64b8dd998e9c2d5a71f44c5d/overrides-3.1.0.tar.gz\n",
            "Requirement already satisfied: importlib-metadata<4.0.0,>=3.7.0 in /usr/local/lib/python3.7/dist-packages (from konoha<5.0.0,>=4.0.0->flair) (3.10.1)\n",
            "Collecting requests<3.0.0,>=2.25.1\n",
            "\u001b[?25l  Downloading https://files.pythonhosted.org/packages/29/c1/24814557f1d22c56d50280771a17307e6bf87b70727d975fd6b2ce6b014a/requests-2.25.1-py2.py3-none-any.whl (61kB)\n",
            "\u001b[K     |████████████████████████████████| 61kB 6.6MB/s \n",
            "\u001b[?25hRequirement already satisfied: six in /usr/local/lib/python3.7/dist-packages (from gdown==3.12.2->flair) (1.15.0)\n",
            "Requirement already satisfied: filelock in /usr/local/lib/python3.7/dist-packages (from gdown==3.12.2->flair) (3.0.12)\n",
            "Requirement already satisfied: wcwidth in /usr/local/lib/python3.7/dist-packages (from ftfy->flair) (0.2.5)\n",
            "Requirement already satisfied: typing-extensions in /usr/local/lib/python3.7/dist-packages (from torch<=1.7.1,>=1.5.0->flair) (3.7.4.3)\n",
            "Requirement already satisfied: scipy>=0.17.0 in /usr/local/lib/python3.7/dist-packages (from scikit-learn>=0.21.3->flair) (1.4.1)\n",
            "Requirement already satisfied: joblib>=0.11 in /usr/local/lib/python3.7/dist-packages (from scikit-learn>=0.21.3->flair) (1.0.1)\n",
            "Requirement already satisfied: wrapt<2,>=1.10 in /usr/local/lib/python3.7/dist-packages (from deprecated>=1.2.4->flair) (1.12.1)\n",
            "Collecting tokenizers<0.11,>=0.10.1\n",
            "\u001b[?25l  Downloading https://files.pythonhosted.org/packages/ae/04/5b870f26a858552025a62f1649c20d29d2672c02ff3c3fb4c688ca46467a/tokenizers-0.10.2-cp37-cp37m-manylinux2010_x86_64.whl (3.3MB)\n",
            "\u001b[K     |████████████████████████████████| 3.3MB 36.3MB/s \n",
            "\u001b[?25hRequirement already satisfied: sacremoses in /usr/local/lib/python3.7/dist-packages (from transformers>=4.0.0->flair) (0.0.45)\n",
            "Requirement already satisfied: packaging in /usr/local/lib/python3.7/dist-packages (from transformers>=4.0.0->flair) (20.9)\n",
            "Requirement already satisfied: smart-open>=1.2.1 in /usr/local/lib/python3.7/dist-packages (from gensim<=3.8.3,>=3.4.0->flair) (5.0.0)\n",
            "Requirement already satisfied: cycler>=0.10 in /usr/local/lib/python3.7/dist-packages (from matplotlib>=2.2.3->flair) (0.10.0)\n",
            "Requirement already satisfied: kiwisolver>=1.0.1 in /usr/local/lib/python3.7/dist-packages (from matplotlib>=2.2.3->flair) (1.3.1)\n",
            "Requirement already satisfied: pyparsing!=2.0.4,!=2.1.2,!=2.1.6,>=2.0.1 in /usr/local/lib/python3.7/dist-packages (from matplotlib>=2.2.3->flair) (2.4.7)\n",
            "Requirement already satisfied: pymongo in /usr/local/lib/python3.7/dist-packages (from hyperopt>=0.1.1->flair) (3.11.3)\n",
            "Requirement already satisfied: future in /usr/local/lib/python3.7/dist-packages (from hyperopt>=0.1.1->flair) (0.16.0)\n",
            "Requirement already satisfied: networkx in /usr/local/lib/python3.7/dist-packages (from hyperopt>=0.1.1->flair) (2.5.1)\n",
            "Requirement already satisfied: zipp>=0.5 in /usr/local/lib/python3.7/dist-packages (from importlib-metadata<4.0.0,>=3.7.0->konoha<5.0.0,>=4.0.0->flair) (3.4.1)\n",
            "Requirement already satisfied: certifi>=2017.4.17 in /usr/local/lib/python3.7/dist-packages (from requests<3.0.0,>=2.25.1->konoha<5.0.0,>=4.0.0->flair) (2020.12.5)\n",
            "Requirement already satisfied: chardet<5,>=3.0.2 in /usr/local/lib/python3.7/dist-packages (from requests<3.0.0,>=2.25.1->konoha<5.0.0,>=4.0.0->flair) (3.0.4)\n",
            "Requirement already satisfied: idna<3,>=2.5 in /usr/local/lib/python3.7/dist-packages (from requests<3.0.0,>=2.25.1->konoha<5.0.0,>=4.0.0->flair) (2.10)\n",
            "Requirement already satisfied: urllib3<1.27,>=1.21.1 in /usr/local/lib/python3.7/dist-packages (from requests<3.0.0,>=2.25.1->konoha<5.0.0,>=4.0.0->flair) (1.24.3)\n",
            "Requirement already satisfied: click in /usr/local/lib/python3.7/dist-packages (from sacremoses->transformers>=4.0.0->flair) (7.1.2)\n",
            "Requirement already satisfied: decorator<5,>=4.3 in /usr/local/lib/python3.7/dist-packages (from networkx->hyperopt>=0.1.1->flair) (4.4.2)\n",
            "Building wheels for collected packages: gdown\n",
            "  Building wheel for gdown (PEP 517) ... \u001b[?25l\u001b[?25hdone\n",
            "  Created wheel for gdown: filename=gdown-3.12.2-cp37-none-any.whl size=9693 sha256=3d7bcf827e75c74c74b0942a865c9b8e31da23b1f85ec6fafbae5d089ae3f2f4\n",
            "  Stored in directory: /root/.cache/pip/wheels/81/d0/d7/d9983facc6f2775411803e0e2d30ebf98efbf2fc6e57701e09\n",
            "Successfully built gdown\n",
            "Building wheels for collected packages: ftfy, sqlitedict, segtok, langdetect, mpld3, overrides\n",
            "  Building wheel for ftfy (setup.py) ... \u001b[?25l\u001b[?25hdone\n",
            "  Created wheel for ftfy: filename=ftfy-6.0.1-cp37-none-any.whl size=41573 sha256=2311e37dd9412565267d84685153989980429af681a4c5b5ffff56d5e423e64f\n",
            "  Stored in directory: /root/.cache/pip/wheels/ae/73/c7/9056e14b04919e5c262fe80b54133b1a88d73683d05d7ac65c\n",
            "  Building wheel for sqlitedict (setup.py) ... \u001b[?25l\u001b[?25hdone\n",
            "  Created wheel for sqlitedict: filename=sqlitedict-1.7.0-cp37-none-any.whl size=14376 sha256=cf76449694c5de0eaac0ed2f460501715b069f8578729d9d729e82e90e9cc442\n",
            "  Stored in directory: /root/.cache/pip/wheels/cf/c6/4f/2c64a43f041415eb8b8740bd80e15e92f0d46c5e464d8e4b9b\n",
            "  Building wheel for segtok (setup.py) ... \u001b[?25l\u001b[?25hdone\n",
            "  Created wheel for segtok: filename=segtok-1.5.10-cp37-none-any.whl size=25019 sha256=90eb38da4e149d56fcf99409dbf76e2c3d7ee7390f38b9418a1ea842747435e3\n",
            "  Stored in directory: /root/.cache/pip/wheels/b4/39/f6/9ca1c5cabde964d728023b5751c3a206a5c8cc40252321fb6b\n",
            "  Building wheel for langdetect (setup.py) ... \u001b[?25l\u001b[?25hdone\n",
            "  Created wheel for langdetect: filename=langdetect-1.0.8-cp37-none-any.whl size=993193 sha256=78d212bd3b17ea72e28b7da1749198a438b6ceec63b79b2380926f493c20e94f\n",
            "  Stored in directory: /root/.cache/pip/wheels/8d/b3/aa/6d99de9f3841d7d3d40a60ea06e6d669e8e5012e6c8b947a57\n",
            "  Building wheel for mpld3 (setup.py) ... \u001b[?25l\u001b[?25hdone\n",
            "  Created wheel for mpld3: filename=mpld3-0.3-cp37-none-any.whl size=116679 sha256=b063b75e6665c349a0baa9861ce6d7c2c6153b71df444e9ec3354891e040dec3\n",
            "  Stored in directory: /root/.cache/pip/wheels/c0/47/fb/8a64f89aecfe0059830479308ad42d62e898a3e3cefdf6ba28\n",
            "  Building wheel for overrides (setup.py) ... \u001b[?25l\u001b[?25hdone\n",
            "  Created wheel for overrides: filename=overrides-3.1.0-cp37-none-any.whl size=10174 sha256=7843473448c5de3890fa42072dc3e8933a23ddb7da65589286eb82487d0ed01e\n",
            "  Stored in directory: /root/.cache/pip/wheels/5c/24/13/6ef8600e6f147c95e595f1289a86a3cc82ed65df57582c65a9\n",
            "Successfully built ftfy sqlitedict segtok langdetect mpld3 overrides\n",
            "\u001b[31mERROR: torchvision 0.9.1+cu101 has requirement torch==1.8.1, but you'll have torch 1.7.1 which is incompatible.\u001b[0m\n",
            "\u001b[31mERROR: torchtext 0.9.1 has requirement torch==1.8.1, but you'll have torch 1.7.1 which is incompatible.\u001b[0m\n",
            "\u001b[31mERROR: google-colab 1.0.0 has requirement requests~=2.23.0, but you'll have requests 2.25.1 which is incompatible.\u001b[0m\n",
            "\u001b[31mERROR: datascience 0.10.6 has requirement folium==0.2.1, but you'll have folium 0.8.3 which is incompatible.\u001b[0m\n",
            "Installing collected packages: overrides, requests, konoha, gdown, ftfy, torch, sentencepiece, sqlitedict, deprecated, tokenizers, transformers, huggingface-hub, bpemb, janome, segtok, langdetect, mpld3, flair\n",
            "  Found existing installation: requests 2.23.0\n",
            "    Uninstalling requests-2.23.0:\n",
            "      Successfully uninstalled requests-2.23.0\n",
            "  Found existing installation: gdown 3.6.4\n",
            "    Uninstalling gdown-3.6.4:\n",
            "      Successfully uninstalled gdown-3.6.4\n",
            "  Found existing installation: torch 1.8.1+cu101\n",
            "    Uninstalling torch-1.8.1+cu101:\n"
          ],
          "name": "stdout"
        }
      ]
    },
    {
      "cell_type": "code",
      "metadata": {
        "id": "StvqiESoiSnG"
      },
      "source": [
        "try:\n",
        "    %tensorflow_version 2.x\n",
        "except Exception:\n",
        "    pass\n",
        "import tensorflow as tf\n",
        "\n",
        "import tensorflow_hub as hub\n",
        "\n",
        "from tensorflow.keras import layers\n",
        "import bert\n",
        "\n",
        "from flair.models import MultiTagger\n",
        "from flair.data import Sentence\n"
      ],
      "execution_count": null,
      "outputs": []
    },
    {
      "cell_type": "code",
      "metadata": {
        "id": "B6BDKSUjbgEl"
      },
      "source": [
        "from transformers import BertTokenizer, BertModel\n",
        "import pandas as pd\n",
        "import numpy as np\n",
        "import nltk\n",
        "import torch\n",
        "import re\n",
        "\n",
        "import pickle\n",
        "import json\n",
        "from collections import Counter\n",
        "\n",
        "import pandas as pd \n",
        "import pickle \n",
        "import re\n",
        "import numpy as np \n",
        "from collections import Counter, defaultdict, OrderedDict\n",
        "from nltk import word_tokenize, pos_tag\n",
        "import editdistance\n",
        "import csv \n",
        "from sklearn.metrics import f1_score\n",
        "import numpy as np\n",
        "import scipy.stats \n",
        "from nltk.corpus import names\n",
        "\n",
        "from sklearn.model_selection import train_test_split\n",
        "\n",
        "#from weighted_levenshtein import lev, osa, dam_lev\n",
        "\n",
        "#import langid\n",
        "from nltk.tokenize.treebank import TreebankWordDetokenizer\n",
        "\n",
        "import os"
      ],
      "execution_count": null,
      "outputs": []
    },
    {
      "cell_type": "code",
      "metadata": {
        "colab": {
          "base_uri": "https://localhost:8080/",
          "height": 265,
          "referenced_widgets": [
            "9f2f2182e59a40b7aae0d439ea257f80",
            "63a354022847486887356c575fbabe72",
            "b3f0d29f4e1e4a328f68fb22e5f8e8e1",
            "171a5ef3345e49ecb15f6f86618395b4",
            "4aa0643db0cc4256a5f1916925c30aea",
            "d81cfcb698c740bbb7e7f9d9bc68bed5",
            "8351e63a08484bedadbf0ef16591bc8f",
            "dd647fdd87ae4e43a4d2406a12f6d8c2",
            "36f30174580a41da83b58ed68ac5815a",
            "1497fb4804fa43f0bdcb5eb67a498c69",
            "d469fa6d5f7f43c1b07b9aed0d35b615",
            "63c34c07cecf4806899b93606eeccb1a",
            "31333711d6d5437a912d209915140847",
            "d7e1aa5e20574823b5941f89f55789ac",
            "8774b9d9a3494760b2f2854169afaf85",
            "f24c300f1fb14ae98f90aa2020bdae31",
            "8a1c97c11e6c43659e4b2de56f58141f",
            "0aa02c93ef594b9ba35126e58d67069d",
            "cc6318bb172f48fab05b7a0c3de30fce",
            "8c543be543b746da90d0e17be224f09a",
            "75adab823df04c0dbb2ac051cb6694f3",
            "666f5145ccac4228a81e4d68f5680627",
            "f6fd9aade2b24f3dbb723433119ff9bb",
            "df1f8d9f2c714a02b290daa00b4ca126",
            "5bcf24e42034460cb1df1d140b483fea",
            "bb5b97e39e704890aa953d746235b3c0",
            "f0d42479562d487e967f778bf0fa0d2f",
            "59bad872de36417ca3234ca34d134bef",
            "5239b85cf97042deb762a1ebde2b6f60",
            "8eb45b0c10cb42049d9f515da1aedffa",
            "29086f74c5f8406d93c1a7b74a4781e3",
            "12b80ed356d346a48d3f8413b9d9765c",
            "18716029454e417884438700f5172053",
            "fe13b14126cc407bb777358e4bee45c5",
            "992aa4f4eae74538a7276014e898bdd9",
            "76be78a05ef94564afcbf246adaab2f4",
            "6282f445dc98427dad60c400d813049a",
            "ec9c0898817f4e8eb6447a6a05bb81b8",
            "065a78f6c8774b2a9769e83c42e16743",
            "7d37f06f29654c519ef7e33b0bd630f0"
          ]
        },
        "id": "a0DJTg9qbgEl",
        "outputId": "3a7dbf93-e1bb-453a-ac6f-704be366eb4a"
      },
      "source": [
        "# Loading the pre-trained BERT model\n",
        "###################################\n",
        "# Embeddings will be derived from\n",
        "# the outputs of this model\n",
        "model = BertModel.from_pretrained('bert-base-uncased',\n",
        "                                  output_hidden_states = True,\n",
        "                                  )\n",
        "\n",
        "# Setting up the tokenizer\n",
        "###################################\n",
        "# This is the same tokenizer that\n",
        "# was used in the model to generate \n",
        "# embeddings to ensure consistency\n",
        "tokenizer = BertTokenizer.from_pretrained('bert-base-uncased')"
      ],
      "execution_count": null,
      "outputs": [
        {
          "output_type": "display_data",
          "data": {
            "application/vnd.jupyter.widget-view+json": {
              "model_id": "9f2f2182e59a40b7aae0d439ea257f80",
              "version_major": 2,
              "version_minor": 0
            },
            "text/plain": [
              "HBox(children=(FloatProgress(value=0.0, description='Downloading', max=570.0, style=ProgressStyle(description_…"
            ]
          },
          "metadata": {
            "tags": []
          }
        },
        {
          "output_type": "stream",
          "text": [
            "\n"
          ],
          "name": "stdout"
        },
        {
          "output_type": "display_data",
          "data": {
            "application/vnd.jupyter.widget-view+json": {
              "model_id": "36f30174580a41da83b58ed68ac5815a",
              "version_major": 2,
              "version_minor": 0
            },
            "text/plain": [
              "HBox(children=(FloatProgress(value=0.0, description='Downloading', max=440473133.0, style=ProgressStyle(descri…"
            ]
          },
          "metadata": {
            "tags": []
          }
        },
        {
          "output_type": "stream",
          "text": [
            "\n"
          ],
          "name": "stdout"
        },
        {
          "output_type": "display_data",
          "data": {
            "application/vnd.jupyter.widget-view+json": {
              "model_id": "8a1c97c11e6c43659e4b2de56f58141f",
              "version_major": 2,
              "version_minor": 0
            },
            "text/plain": [
              "HBox(children=(FloatProgress(value=0.0, description='Downloading', max=231508.0, style=ProgressStyle(descripti…"
            ]
          },
          "metadata": {
            "tags": []
          }
        },
        {
          "output_type": "stream",
          "text": [
            "\n"
          ],
          "name": "stdout"
        },
        {
          "output_type": "display_data",
          "data": {
            "application/vnd.jupyter.widget-view+json": {
              "model_id": "5bcf24e42034460cb1df1d140b483fea",
              "version_major": 2,
              "version_minor": 0
            },
            "text/plain": [
              "HBox(children=(FloatProgress(value=0.0, description='Downloading', max=28.0, style=ProgressStyle(description_w…"
            ]
          },
          "metadata": {
            "tags": []
          }
        },
        {
          "output_type": "stream",
          "text": [
            "\n"
          ],
          "name": "stdout"
        },
        {
          "output_type": "display_data",
          "data": {
            "application/vnd.jupyter.widget-view+json": {
              "model_id": "18716029454e417884438700f5172053",
              "version_major": 2,
              "version_minor": 0
            },
            "text/plain": [
              "HBox(children=(FloatProgress(value=0.0, description='Downloading', max=466062.0, style=ProgressStyle(descripti…"
            ]
          },
          "metadata": {
            "tags": []
          }
        },
        {
          "output_type": "stream",
          "text": [
            "\n"
          ],
          "name": "stdout"
        }
      ]
    },
    {
      "cell_type": "code",
      "metadata": {
        "id": "TPJ3Ya_QbgEn"
      },
      "source": [
        "jan = pd.read_csv(\"https://raw.githubusercontent.com/microsoft/BingCoronavirusQuerySet/master/data/2020/QueriesByState_2020-01-01_2020-01-31.tsv\", sep='\\t', header=0)\n",
        "\n",
        "#feb = pd.read_csv(\"https://raw.githubusercontent.com/microsoft/BingCoronavirusQuerySet/master/data/2020/QueriesByCountry_2020-02-01_2020-02-29.tsv\", sep='\\t', header=0)\n",
        "\n",
        "mar = pd.read_csv(\"https://raw.githubusercontent.com/microsoft/BingCoronavirusQuerySet/master/data/2020/QueriesByState_2020-03-01_2020-03-31.tsv\", sep='\\t', header=0)\n",
        "\n",
        "apr = pd.read_csv(\"https://raw.githubusercontent.com/microsoft/BingCoronavirusQuerySet/master/data/2020/QueriesByState_2020-04-01_2020-04-30.tsv\", sep='\\t', header=0)\n",
        "\n",
        "may = pd.read_csv(\"https://raw.githubusercontent.com/microsoft/BingCoronavirusQuerySet/master/data/2020/QueriesByState_2020-05-01_2020-05-31.tsv\", sep='\\t', header=0)\n",
        "\n",
        "jun = pd.read_csv(\"https://raw.githubusercontent.com/microsoft/BingCoronavirusQuerySet/master/data/2020/QueriesByState_2020-06-01_2020-06-30.tsv\", sep='\\t', header=0)\n",
        "\n",
        "#jul =pd.read_csv(\"https://raw.githubusercontent.com/microsoft/BingCoronavirusQuerySet/master/data/2020/QueriesByState_2020-07-01_2020-07-31.tsv\", sep='\\t', header=0)\n",
        "\n",
        "#aug = pd.read_csv(\"https://raw.githubusercontent.com/microsoft/BingCoronavirusQuerySet/master/data/2020/QueriesByState_2020-08-01_2020-08-31.tsv\", sep='\\t', header=0)\n",
        "\n",
        "#sep = pd.read_csv(\"https://raw.githubusercontent.com/microsoft/BingCoronavirusQuerySet/master/data/2020/QueriesByState_2020-09-01_2020-09-30.tsv\", sep='\\t', header=0)\n",
        "\n",
        "#oct = pd.read_csv(\"https://raw.githubusercontent.com/microsoft/BingCoronavirusQuerySet/master/data/2020/QueriesByState_2020-10-01_2020-10-31.tsv\", sep='\\t', header=0)\n",
        "\n",
        "#nov = pd.read_csv(\"https://raw.githubusercontent.com/microsoft/BingCoronavirusQuerySet/master/data/2020/QueriesByState_2020-11-01_2020-11-30.tsv\", sep='\\t', header=0)\n",
        "\n",
        "#dec = pd.read_csv(\"https://raw.githubusercontent.com/microsoft/BingCoronavirusQuerySet/master/data/2020/QueriesByState_2020-12-01_2020-12-31.tsv\", sep='\\t', header=0)\n",
        "\n",
        "jan21= pd.read_csv(\"https://raw.githubusercontent.com/microsoft/BingCoronavirusQuerySet/master/data/2021/QueriesByState_2021-01-01_2021-01-31.tsv\", sep='\\t', header=0)\n"
      ],
      "execution_count": null,
      "outputs": []
    },
    {
      "cell_type": "code",
      "metadata": {
        "id": "RZo1qXgehiPY"
      },
      "source": [
        "test_data = pd.concat([jan, mar, apr, may, jun, jan21], ignore_index=True)\n",
        "\n",
        "\n"
      ],
      "execution_count": null,
      "outputs": []
    },
    {
      "cell_type": "code",
      "metadata": {
        "colab": {
          "base_uri": "https://localhost:8080/"
        },
        "id": "gyDA--jYzVVX",
        "outputId": "751e05a7-26f8-4619-aec7-86f1002e9a5f"
      },
      "source": [
        "texts1 = test_data['Query']\n",
        "texts1\n",
        "type(texts1)"
      ],
      "execution_count": null,
      "outputs": [
        {
          "output_type": "execute_result",
          "data": {
            "text/plain": [
              "pandas.core.series.Series"
            ]
          },
          "metadata": {
            "tags": []
          },
          "execution_count": 16
        }
      ]
    },
    {
      "cell_type": "code",
      "metadata": {
        "id": "fgn8SacMzT4X"
      },
      "source": [
        ""
      ],
      "execution_count": null,
      "outputs": []
    },
    {
      "cell_type": "code",
      "metadata": {
        "colab": {
          "base_uri": "https://localhost:8080/"
        },
        "id": "j4BylZQgcfa9",
        "outputId": "d94ec0df-0d57-431c-c8ea-62bad5ec48ca"
      },
      "source": [
        "#texts1 = test_data['Query']\n",
        "#texts2 =texts1[1:100000]\n",
        "texts1 = test_data['Query']\n",
        "texts1\n",
        "texts2=list(filter(lambda k: \"how\"  in k, texts1))\n",
        "type(texts2)"
      ],
      "execution_count": null,
      "outputs": [
        {
          "output_type": "execute_result",
          "data": {
            "text/plain": [
              "list"
            ]
          },
          "metadata": {
            "tags": []
          },
          "execution_count": 17
        }
      ]
    },
    {
      "cell_type": "code",
      "metadata": {
        "colab": {
          "base_uri": "https://localhost:8080/"
        },
        "id": "WGWggxoq70Fx",
        "outputId": "107a937c-1e5a-4364-847c-cf64c044bc72"
      },
      "source": [
        "my_set = set(texts2)\n",
        "print(my_set)"
      ],
      "execution_count": null,
      "outputs": [
        {
          "output_type": "stream",
          "text": [
            "{'how do i clean and disinfect surfaces to prevent the spread of coronavirus?', 'how many cases of corona virus in florida', 'how many confirmed cases of coronavirus in idaho', 'how many cases of coronavirus in maine', 'how long does the coronavirus test take', 'how many coronavirus cases in the us', 'how many cases coronavirus in north carolina', 'how will coronavirus end', 'how long after exposure to get coronavirus', 'how to get a covid test', 'how safe is dental drilling during corona virus', 'how to get covid vaccine in georgia', 'how many people have died from coronavirus us', 'how many cases of coronavirus in nevada', 'how long does coronavirus symptoms last', 'how many people died from coronavirus', 'how many cases coronavirus in kentucky', 'how many cases of coronavirus in nova scotia', 'how to get stimulus check', 'how many people have the coronavirus in nj', 'showare covid vaccine', 'how to draw covid 19', 'how many confirmed cases of coronavirus in texas', 'how did coronavirus begin in china', 'how many cases of coronavirus in wales', 'how many cases of coronavirus in wyoming', 'how long does coronavirus live on cloth', 'how many coronavirus cases uk', 'how fast does coronavirus spread', 'how old is the coronavirus', 'how many people have the coronavirus in california', 'how many cases of corona virus in the uk', 'how many deaths from coronavirus 2020', 'how biden covid19 republicansyorktimes', 'how many coronavirus cases', 'how many cases of coronavirus in austin', 'how to file for unemployment in arkansas if your job is affected by coronavirus', 'how to register for covid vaccine in ca', 'how many cases of coronavirus are in illinois', 'how to apply for coronavirus funding', 'how many deaths in arizona from coronavirus', 'how are kids reacting to the stress of covid 19', 'how many covid 19 cases in maine', 'how europe covid19black', 'how long does covid survive on plastic', 'how many coronavirus cases in texas', 'how many cases of coronavirus are in missouri', 'how many coronavirus cases in el paso tx', 'how do i get my stimulus check', 'how many cases of coronavirus in new brunswick', 'how serious is the coronavirus', 'how do you get tested for coronavirus', 'how long after being exposed to coronavirus', 'howard county covid', 'how many people have coronavirus in michigan', 'how to sign up for covid vaccine in mo', 'how do i get tested for coronavirus', 'how many coronavirus deaths in the us', 'how many people have the coronavirus in colorado', 'how many cases of coronavirus in canada', 'how many cases of coronavirus in hawaii', 'india coronavirus: how a country of 1.3 billion people has around 1,000 deaths', 'how covid 19 test works explained for children', 'how long does it take for covid 19 symptoms', 'how long does it take for my appetite to return after covid19', 'how many cases of coronavirus in west virginia', 'how many covid cases in ontario today', 'how to register for covid vaccine in ny state', 'how many coronavirus cases in atlanta', 'how long does covid 19 live on surfaces', 'how many cases of covid 19 in fl', 'how many deaths from coronavirus in uk', 'how long does coronavirus live on fabric', 'how to know if you have coronavirus or a cold', 'how many cases of coronavirus in mississippi', 'how to register for covid vaccine in az', 'how to get covid vaccine in los angeles', 'how many people have coronavirus in florida', 'how many confirmed cases of coronavirus in wi', \"new york coronavirus crisis: how america's largest city is dealing with its dead\", 'how many people vaccinated for covid in uk', 'how many confirmed cases of coronavirus in kansas', 'how many cases of coronavirus in mi', 'howard county covid vaccine registration', 'how many coronavirus cases in japan', 'how many people have died from coronovirus', 'howard county coronavirus', 'how many coronavirus', 'how do you catch coronavirus', 'how many cases of coronavirus in austin texas', 'houston livestock show and rodeo coronavirus', 'how many coronavirus in ohio', 'how did coronavirus start', 'how many cases of coronavirus in newfoundland', 'how long has coronavirus been known', 'how many corona virus cases in new jersey', 'how many cases of coronavirus in mass', 'how many people have died from coronavirus in the us', 'how many children have the coronavirus', 'how many cases of coronavirus in alabama', 'how many covid deaths today', 'how to get tested for coronavirus in nj', 'how to get the covid vaccine in pa', 'how many coronavirus cases in houston tx', 'how many cases of coronavirus in ky', 'how long will the coronavirus outbreak last', 'how many strains of coronavirus are there', 'how many people have coronavirus in maryland', 'corona virus in howard county md', 'how long does coronavirus live on surfaces cdc', 'how long does coronavirus last', 'how many coronavirus cases in arizona today', 'how to apply for stimulus check', 'how many cases of coronavirus are in michigan', 'how many cases of coronavirus in london ontario', 'how many countries have coronavirus', 'how to sign up for covid vaccine in indiana', 'how many coronavirus cases in san francisco', 'how long does it take to recover from covid19', 'how many covid vaccinations per day uk', 'how long does the coronavirus live on objects', 'how many people have died from coronavirus uk', 'how many health care workers california with coronavirus', 'how many coronavirus in each state', 'how many coronavirus cases in mississippi', 'how long does corona virus last on paper', '1 million people infected: how coronavirus spread around the world', 'how many coronavirus cases ohio', 'how many covid 19 in texas', 'how many coronavirus cases in sacramento', 'how long to quarantine after positive test', 'how is the coronavirus treated', 'how many coronavirus case in ohio', 'how many coronavirus cases in nm', 'how many cases of coronavirus in massachuetts', 'how to get a covid vaccine in ny', 'how many coronavirus death', 'how many people have been infected in the usa with covid19', 'lord howe island', 'how to register for covid vaccine nj', 'how long are you sick with coronavirus', 'how many deaths from coronavirus in us', 'how long can corona virus live on surface', 'how many cases of coronavirus in ny', 'how will the coronavirus pandemic end', 'how many coronavirus cases are in texas', 'how many coronavirus cases in nevada', 'how many people have corona virus in china', 'coronavirus could infect human brain and replicate, us study shows', 'how long did it take for the corona virus to spread to 100 countries', 'how many americans have coronavirus', 'how many cases of coronavirus in uk today', 'how many confirmed cases of coronavirus in california', 'how to make face mask coronavirus', \"how china's using surveillance to fight coronavirus bbc news\", 'how many cases of coronavirus in ala', 'how can college students get help during coronavirus', 'how many coronavirus in wisconsin', 'how long does corona virus live on surfaces', 'how to apply for covid 19 relief', 'how long has the coronavirus existed', 'how many people have the coronavirus', 'how many cases of coronavirus are in minnesota', 'how many deaths from covid 19 in sc', 'howard stern bts coronavirus', 'how many people in illinois have coronavirus', 'how to make a covid 19 mask', 'how to sign up for covid vaccine in ma', 'how many cases of coronavirus', 'how many coronavirus cases in hawaii', 'how did the corona virus start', 'how to get an appointment for covid vaccine', 'how many corona virus cases in usa', 'how many people in minnesota have coronavirus', 'how long does coronavirus live on fabrics?', 'coronavirus how will it end', 'how to make a coronavirus mask', 'how is coronavirus transmitted', 'how many people have coronavirus in utah', 'how many cases coronavirus in california', 'how many coronavirus cases in louisiana', 'how long after exposure will i test positive', 'covid vaccine how soon after getting covid can oi receive vaccine', 'how many coronavirus in michigan', 'how many coronavirus cases in washington state', 'today show coronavirus', 'how many coronavirus casesin ohio', 'how is covid 19 affecting the u.s.?', 'how long does the coronavirus stay in the air after someone coughs', 'how many coronavirus cases are in new mexico', 'how to register for covid vaccine in ohio', 'how many coronavirus cases in ca', 'how long will coronavirus outbreak last', 'how many coronavirus cases have in europe bay the country', 'how to protect yourself from coronavirus', 'how is the coronavirus spread', 'how many confirmed cases of coronavirus in massachusetts', 'how many studies on remdesivir for covid', 'how to make an appointment for covid vaccine', 'how many coronavirus cases in canada', 'how is prince charles', 'how many people died from coronavirus in us', 'how many coronavirus casesin alabama', 'how many cases of coronavirus in ma', 'how to get covid vaccine', 'how many coronavirus cases in west virginia', 'how many cases of coronavirus in virginia', 'how many people have corna vires in wy', 'how long does the covid vaccine protect', 'how many corona virus cases in california', 'how many people have died from coronavirus in washington', 'how many cases of corona virus are in arizona', 'how many cases of corona virus in ma', 'how many people have died from coronavirus in washington state', 'how many dead from coronavirus', 'how many cases of coronavirus in alberta', 'how many cases coronavirus in wisconsin', \"california is days away from its projected coronavirus peak. here's how the state prepared to 'bend the curve.'\", 'how coronavirus could affect donald trump’s re-election', 'how to sign up for covid vaccine in pa', 'how many cases of coronavirus in fresno ca', 'how long does coronavirus last in the body', 'how therapeutic riding will continue with covid', 'how many cases of coronavirus is in alabama', 'how long does covid 19 live on paper surfaces', 'how long does the coronavirus live', 'how many people die from coronavirus', 'how many cases of coronavirus in russia', 'how did the coronavirus start', 'coronavirus - how to protect yourself', 'how many coronavirus in canada', 'how many cases of coronavirus in miami', 'how to kill coronavirus', 'how many people are affected by coronavirus', 'how many coronavirus cases in dallas tx', 'how many people have coronavirus in illinois', 'how to earn girl scout badges/patches at home during coronavirus', 'how many coronavirus cases in nc', 'how much alcohol in hand sanitizer', 'how many coronavirus cases in mo', 'how many people in uk have coronavirus', 'how long is coronavirus expected to last', 'how many people in maryland have coronavirus', 'how is mexico dealing with coronavirus', 'how many strains of coronavirus', 'how many cases of corona virus in ohio', 'how many coronavirus cases in wyoming', 'how many cases of coronavirus in las vegas', 'how many coronavirus cases in ontario', 'how long is covid contagious', 'how can i get tested for coronavirus', 'how dangerous is the coronavirus', 'white house report shows coronavirus rates spiking in heartland', 'how many covid 19 cases in idaho', 'how do iknow i have coronavirus', 'how many covid cases in mn', 'how many deaths from coronavirus in china', 'how coronavirus started', 'how many people have the coronavirus in maryland', 'how to schedule covid 19 vaccination', 'hows the cornavirus affect las vegas', 'how to apply for ei coronavirus', 'how many cases of the coronavirus in poland ?', 'how serious is the coronavirus and dialysis patients', 'how long does the flu virus live on surfaces', 'how long can coronavirus survive on paper', 'how many coronavirus cases in ky', 'how many people in michigan have coronavirus', 'how contagious is coronavirus', 'how many cases of coronavirus in wv', 'how many cases of corona virus in california', 'how safe is black market marajuna today with coronavisus', 'how is the coronavirus different from the flu', 'covid 19 wikihow', 'how to make a face mask', 'run to the sun car show 2020', 'how to protect yourself from corona virus', 'how did covid 19 start', 'how many confirmed cases of coronavirus in oregon', 'how many coronavirus cases are in alabama', 'how many people have died from coronavirus', 'how to get the coronavirus', 'how many cases of corona virus in new jersey', 'how to tell the difference between coronavirus and allergies', 'how to get a covid vaccine in michigan', 'how many deaths in michigan from coronavirus', 'how to access super coronavirus', 'how long will coronavirus last', 'how long does corona virus live on paper', 'how many coronavirus in texas', \"how many coronavirus's in pueblo co\", 'how many cases of corona virus in missouri', 'how did cornovirus spread from china to usa', 'how was the coronavirus started', 'how many coronavirus cases in washington', 'how did kenny rogers die', 'how does coronavirus affect humans', 'how many covid 19 cases in bedford county', 'how many people have coronavirus in the uk', 'how many people have died from coronavirus in china', 'how many have recovered from coronavirus', 'how many confirmed cases of coronavirus in uk', 'how to claim 80% wages', 'how prepared is the u.s. for a coronavirus outbreak?', 'how to get the covid vaccine in california', 'how serious is coronavirus', 'how to test for coronavirus', 'how many covid19 cases in texas', 'the coronavirus economy is exposing how easy it is to fall from the middle class into poverty', 'how many cases of coronavirus in san diego', 'how long is coronavirus contagious', 'how many cases of coronavirus in toronto', 'how many coronovirus cases in alaska', 'how many coronavirus cases are in michigan', 'how to register for covid vaccine in los angeles', 'how many coronavirus cases in uk', 'how to apply for bc covid $1000', 'how many cases of coronavirus in sacramento', 'how many confirmed corona virus cases in the world', 'how many cases of the coronavirus are in pa', 'how many coronavirus in the us', 'how many of coronavirus in michigan', 'how to get the covid vaccine in texas', 'how many coronavirus cases in russia', 'how far will stock market drop coronavirus', 'how europe covid19black the', 'how many have died in new york with the corona virus', 'how many corona virus cases in nj', 'how to get a covid vaccine in washington', 'how many cases of coronavirus on long island', 'how many coronavirus cases in each state', 'how many cases of corona virus in maine', 'how many corona virus cases in arizona', 'how many coronavirus cases in wa', 'love, marriage, and canceled honeymoons: how couples are adjusting amid coronavirus', 'how many coronavirus cases in north carolina', 'how many corona virus cases in texas', 'how many people died from corona virus in china', 'how many coronavirus cases in china', 'how many confirmed cases of coronavirus in indiana', 'coronavirus how to get it', 'how is california doing with the corona virus', 'how dangerous is coronavirus', 'how many coronavirus cases at boeing everett company', 'how many cases of coronavirus in oklahoma us', 'coronavirus how many cases in arizona', 'how many covid cases in nsw today', 'how many people inlogan utah have the corona virus', 'how many cases of coronavirus in nyc', 'how to defeat coronavirus', 'how many cases in ohio of coronavirus', 'how many cases of coronavirus in az', 'how to register for covid vaccine in nj', 'how is florida doing with coronavirus', 'howard county covid vaccine', 'how many cases of coronavirus in north dakota', 'how many coronavirus in washington state', 'how long does the coronavirus last in humans', 'how to claim super during coronavirus', 'how many cases of coronavirus in colorado', 'how many coronavirus cases in tennessee', 'how many cases of coronavirus in chicago', 'how many confirmed cases of coronavirus in ky', 'how to know if you have the coronavirus', 'how many cases of coronavirus in montreal', 'how to apply for unemployment in nc', 'how many new cases of coronavirus in michigan', 'how accurate is the coronavirus test', 'how many coronavirus cases in manitoba', 'how many coronavirus cases in my area', 'how many cases of coronavirus in bc', 'how to get covid vaccine in ohio', 'how many new cases of coronavirus', 'how to complete cvs covid shot form if tricare for life', 'how coronavirus kills', 'how many coronavirus cases in wisconsin today', 'how many coronavirus cases in erie county', 'how long coronavirus can survive on surface', 'how many coronavirus cases in knoxville tn', 'how many coronavirus cases in ireland', 'how many coronavirus cases in broward county', 'how many corona virus cases in connecticut', 'how long will it take to develop a vaccine for the coronavirus', 'how many coronavirus cases in sc', 'how is coronavirus spread', 'eisenhower medical center covid vaccine', 'how many states have closed schools', 'how many people have died from coronavirus in the united states', 'how many coronavirus cases in south africa', 'how many cases in ohio coronavirus', 'how many new covid cases in ontario today', 'how many deaths in ohio from coronavirus', 'coronavirus united states how many cases', 'how to get covid vaccine in nys', 'how does coronavirus kill', 'how many coronavirus cases in iowa', 'how many coronavirus cases in the world', 'how many cases of corona virus in russia', 'how many confirmed coronavirus in usa', 'how did the coronavirus spread to south korea', 'how many cases of coronavirus in cornwall', 'how many people have coronavirus in new york', 'how many cases of corona virus in idaho', 'how many cases of coronavirus in montana', 'how many new cases of coronavirus in pa', 'how many cases of covid19', 'how many coronavirus cases in maryland now', 'how many cases of coronavirus in ohio', 'how many people died in italy of corona virus', 'how do they test for coronavirus', 'how do you know if you have the coronavirus', 'how many cases of corona virus in san diego', 'how long has china had the corona virus', 'how to make mask for corna virus', 'how many cases of coronavirus in swindon', 'how many countries affected by corona virus', 'how ontario is responding', 'how to sign up for covid vaccine in nyc', 'how to sign up for covid vaccine at publix', 'how many cases of corona virus in nyc', 'how bad is the coronavirus', 'how to prepare for coronavirus', 'how many coronavirus cases in colorado today', 'how many cases of coronavirus in saskatchewan', 'how many coronavirus cases in charlotte nc', 'how many cases of coronavirus in san bernardino county', 'showare center kent', 'how the coronavirus started', 'how many covid vaccines have been administered in oiho', 'how many cases of coronavirus in coventry', 'how many coronovirus cases in wisconsin', 'how to make a face mask for coronavirus', 'how many people infected with coronavirus', 'how many coronavirus cases in maryland', 'how long coronavirus last', 'how many coronavirus cases in califirnia', 'how many deaths in new york from coronavirus', 'how many coronavirus cases in australia', 'how long after exposure to coronavirus', 'how many cases of coronavirus in philadelphia', 'how many cases of coronavirus in georgia usa', 'how many coronavirus cases in sonoma county', 'how many deaths from coronavirus in tacoma wa.', 'how many cases of coronavirus in kentucky', 'how many cases of coronavirus in monmouth county nj', 'how many cases in california of coronavirus', 'how many coronavirus cases in ny', 'how many corona virus cases in iowa', 'how long will lockdown last uk', 'how to get covid vaccine in nj', 'how is coronavirus treated', 'how many cases of coronavirus in dallas', 'how long can corona virus last on a surface', 'how many covid cases in my area', 'how to get a covid vaccination', 'coronavirus how many and where at in ky', 'how many people have the coronavirus in uk', 'how many deaths today', 'stithians showground covid', 'how many cases of coronavirus in va', 'how many cases of coronavirus in los angeles county', 'how many people in tennessee have coronavirus', 'how does covid 19 spread', 'how does caronavirus attack parkinsons?', 'how many cases of coronavirus in nc', 'how many cases of coronavirus are in colorado', 'how many coronavirus cases in ventura county', 'how many deaths from coronavirus', 'how many cases of the coronavirus in portugal ?', 'how to register for covid vaccine in ny', 'howard county covid vaccine schedule', 'how many people died today', 'how does coronavirus start', 'how many cases of coronavirus in illinois', 'how many coronavirous cases in racine, wi', 'how many cases of coronavirus in los angeles', 'how many coronavirus in wisconsin by county as of 3/30/20', 'how many cases of coronavirus in nm', 'how many cases of coronavirus in ottawa', 'how many coronavirus cases in us 2020', 'how long does covid virus survive on surfaces', 'how can you get the coronavirus', 'how many cases of coronavirus in us today', 'how long will schools be closed for', 'how long will coronavirus last on surfaces', 'how many coronavirus cases in chicago', 'how to kill coronavirus on surfaces', 'how coronavirus spreads', 'how many cases of coronavirus in victoria', 'howard county indiana corona virus', 'how many cases of coronavirus in my area bbc', 'how to make coronavirus face mask pattern pdf 2020', 'how many people have coronavirus in canada', 'how to sign up for covid vaccine in virginia', 'how to get coronavirus', 'how many cases of coronavirus in united states', 'howard county maryland coronavirus', 'how many cases of carona viras in illinoise', 'how many corona virus cases in michigan', 'how to get covid vaccine ny', 'how to make coronavirus mask', 'how many confirmed coronavirus cases in texas', 'how many covid 19 cases in canada', 'how many cases of coronavirus in scotland', 'how many corona virus cases in colorado', 'how do the droplets of coronavirus transferred', 'how many cases of covid 19 in canada', 'how do you test for coronavirus', 'coronavirus how to protect yourself', 'how many cases of coronavirus in pakistan', 'how to help during the coronavirus outbreak', 'how many cases of coronavirus in houston', 'how many fatilities in italy from coronavirud', 'how many cases of coronavirus in rhode island', 'how many people in arizona have coronavirus', 'how many cases coronavirus in alabama', 'how much cases of coronavirus', 'how many coronavirus cases on long island', 'how to apply for small business loans under the coronavirus stimulus bill', 'how many coronavirus cases in scotland', 'how many coronavirus cases in delaware', 'how many coronavirus cases in wv', 'how many people have coronavirus', 'how many cases of corona virus in arizona', 'how biden covid19 democrats republicansyorktimes', 'how many deaths from coronavirus in idaho', 'how many coronavirus in colorado', 'how many deaths in china from coronavirus', 'how long does the coronavirus live on fabrics', 'broadway shows and corona virus', 'how to recover from coronavirus', 'how to make your own mask', 'how many coronavirus cases in indiana', 'how many cases of coronavirus in melbourne', 'how many cases of coronavirus in iran', 'how many coronavirus cases in idaho', 'coronavirus how to prevent', \"ocean city's boardwalk is open and myrtle beach restaurants have resumed dine-in services. here's how some of the most popular us resort towns are welcoming back visitors after the coronavirus shutdow\", 'how many vaccines covid given in uk', 'how long does the coronavirus illness symptoms last', 'dr binocs show coronavirus', 'how long has it been since china started the corona virus 19', 'how many coronavirus cases in las vegas', 'how should we prepare for the coronavirus', 'how soon after exposure to coronavirus', 'how long will lockdown last', 'how man coronavirus cases in ohio', 'how to get tested for covid 19', 'how many corona virus cases in italy', 'how did corona virus start', 'how many states have coronavirus', 'how many coronavirus cases in il', 'how many coronavirus cases in missouri', 'how many cases of coronavirus are in ohio', 'how many cases of coronavirus in utah', 'how many confirmed cases of coronavirus in missouri', 'how many cases of coronavirus in the world', 'how many cases of corona virus in virginia', 'how many coronavirus cases in connecticut', 'how many cases of corona virus in louisiana', 'how many cases of coronavirus in canada today', 'how many cases of coronavirus in edmonton', 'how many cases of corona virus in ny', 'how many cases of coronavirus in sc', 'how did coronavirus begin', 'how many counties in ohio have coronavirus', 'how many coronavirus cases in new jersey', 'how many confirmed cases of coronavirus in alabama', 'how many cases of coronavirus in nh', 'how many cases of coronavirus in calgary', 'how many cases of coronavirus in tulsa ok', 'how long will public schools close for coronavirus', 'how many cases of coronavirus in ontario', 'how many cases of corona virus in georgia', 'how to self isolate from coronavirus', 'how do they treat coronavirus', 'how many cases of the coronavirus in nc', 'how many cases of coronavirus are in oklahoma', 'how many cases of coronavirus in new york', 'how many cases of coronavirus in new jersey', 'how many people have the coronavirus in usa', 'how is the coronavirus transmitted', 'how to sign up for covid vaccine', 'how many coronavirus cases in arizona', 'how to treat the coronavirus', 'how long can coronavirus live on surface', 'how long for coronavirus test results', 'how many americans have died from coronavirus', 'how many cases of coronavirus are in nc', 'how did coronavirus get started', 'how to get tested for coronavirus florida', 'how many cases in new york', 'how many cases of coronavirus in nj today', 'how many coronavirus cases in tennessee today', 'how many cases of corona virus in us', 'how long will covid 19 last', 'how many cases of coronavirus in butte montana', 'how is italy handling coronavirus', 'how many cases of coronavirus in south carolina', 'how many people in texas have coronavirus', 'how many deaths from coronavirus in usa', 'how many people in the world have have been infected by the coronavirus in the united states', 'how many cases of coronavirus in georgia', 'trade shows cancelled due to coronavirus', 'how many new cases of coronavirus today', 'how many cases of coronavirus in usa', 'how many cases of corona virus in texas', 'how many cases of the coronavirus', 'how many cornoavirus cases are in texas', 'how many cases of coronavirus in jackson county wv', 'how many cases of corona virus in wisconsin', 'how many cases of coronavirus in california', 'how to make a mask for coronavirus at home', 'how many cases of coronavirus in tennessee', 'how many cases of coronavirus in nsw', 'how many people have the coronavirus in utah', 'how long did china deal with the corona virus', 'how many coronavirus cases in us by state', 'how many cases of coronavirus in nj', 'how many corona virus in minnesota', 'how many cases of coronavirus in ontario today', 'how many coronavirus cases are in arizona', 'how to treat coronavirus at home', 'how many cases of coronavirus in idaho?', 'how many cases of corona virus in south africa', 'how many cases in caddo parish for coronovirus', 'how long does coronavirus test take', 'how to make face masks for coronavirus', 'how many coronavirus cases in california now', 'how to prepare coronavirus plane travel', 'how to make a face mask coronavirus', 'how many confirmed cases of coronavirus in fl', 'how many have died from coronavirus today', 'how to register for covid vaccine in ct', 'how does the covid vaccine work', 'how many deaths from coronavirus in uk today', 'howard county maryland covid vaccine schedule', 'how many people in wisconsin have coronavirus', 'how many new cases of coronavirus in victoria', 'interactive map shows florida coronavirus cases', 'how did the corona virus start in china', 'how many people have died from coronavirus in australia', 'how to schedule a covid vaccine shot', 'how to sign up for covid 19 vaccination', 'how many cases of corona virus in colorado', 'how does the corona virus spread', 'how many confirmed cases of coronavirus in georgia', 'how many coronavirus cases in arkansas', 'how to sign up for covid vaccine in mississippi', 'how many cases of coronavirus in bristol', 'how does coronavirus reproduce', 'how to get covid vaccine in pa', 'how long can coronavirus survive on surfaces', 'how many coronavirus cases in wi', 'how long does it take to get over coronavirus', 'how to sign up for publix covid vaccine', 'how many cases of coronavirus in oh', 'how many covid cases in ky', 'how many cases of coronavirus are in pa', 'how many coronavirus cases are in new jersey', 'how many people in us have coronavirus', \"how the coronavirus is hampering enforcement of california's air pollution rules\", 'how to get covid vaccine in orange county ca', 'how did the coronavirus get started', 'how to tell if you have coronavirus', 'how many cases of coronavirus in md', 'slideshow: 7 hidden signs you have coronavirus (etnt health)', 'how many cases of coronavirus in connecticut', 'how many coronavirus cases in new mexico', 'how many coronavirus cases in toronto', 'aerial images show streets, beaches and landmarks empty during coronavirus pandemic', 'cdc how many coronavirus tests done', 'how many people died in china coronavirus', 'how many cases in michigan coronavirus', 'how many cases of coronavirus in the us', 'how many coronavirus cases in new york state', 'how deadly is the coronavirus', 'how many cases of coronavirus in queensland', 'coronavirus how is it transmitted', 'how many cases of the coronavirus are in ohio', 'how many coronavirus cases in nj', 'how many cases of corona virus in nc', 'how many cases of coronavirus in iowa', 'how many cases of coronavirus in houston tx', 'how long does coronavirus last on paper', 'how many cases of coronavirus in bolingbrook il', 'how many coronavirus cases in san diego', 'how many coronovirus cases in south africa', 'broadway shows coronavirus', 'how many cases of coronavirus in the uk', 'broadway shows and coronavirus', 'how many coronavirus in indiana', 'how many cases of coronavirus in ct', 'how to get covid vaccine california', 'how to prevent corona virus', 'how is bank of america protect customers durin carona coronavirus', 'how do you die from coronavirus', 'covid show', 'how many coronavirus cases in oklahoma', 'how to stay safe from coronavirus', 'how many have died from coronavirus', 'how many cases of coronavirus in pa', 'how much was the first stimulus package', 'how to book a coronavirus test', 'how to get covid 19 vaccines', 'how many people in london have coronavirus', 'how new york’s coronavirus response made the pandemic worse', 'how to register for covid vaccine in maryland', 'how many deaths from coronavirus in canada', 'how did the coronavirus spread', 'how long does coronavirus droplet in the air', 'how is the tiger and the lions wih covid19 illness', 'how long does covid 19 live on paper', 'how many coronavirus cases are in nc', 'how many cases of coronavirus in ireland', 'coronavirus: how to fly during a global pandemic', 'how many people have the coronavirus in ny', 'how many coronavirus cases in italy', 'howard county health department covid vaccine', 'how to sign up for covid vaccine in ny', 'how many cases of the coronavirus in arizona', 'how many cases of coronavirus on vancouver island', 'how did coronavirus start in china', 'how many corona virus cases in missouri', 'how long does the coronavirus live on surface', 'how many deaths today uk', 'how many coronavirus cases in michign', 'how has the covid pandemic affected the number of people going on the hajj', 'how europe covid19black bureau...', 'squandered time: how the trump administration lost control of the coronavirus crisis', 'how many coronavirus cases in virginia', 'how many covid cases today in ontario', 'how many cases of coronavirus in wi', 'how many people have died from the coronavirus', 'how many people died from the coronavirus', 'how many coronavirus cases in pinellas county', 'how long after exposure do symptoms appear', 'how to register for covid vaccine in bc', 'how have different media outlets covered covid19', 'government tracking how people move around in coronavirus pandemic', 'how many coronavirus cases in houston', 'how many dead in china coronavirus', 'how many cases of corona virus in pa', 'how long do coronavirus symptoms last', 'how many coronavirus in iowa', 'how many coronavirus cases in michigan', 'how many people have died from coronavirus in usa', 'how has your life been impacted by the coronavirus outbreak', 'how long has corona virus existed', 'how many coronavirus cases in ri', 'how many coronavirus in arizona', 'how many people have coronavirus in uk', 'how many cases of coronavirus in china', 'how many coronavirus cases in pa', 'how many covid 19 cases in maryland', 'how many coronavirus cases in pennsylvania', 'how many cases of coronavirus are in virginia', 'coronavirus how did it start', 'how many coronavirus cases in illinois', 'how long coronavirus last on surfaces', 'how to prevent the coronavirus', 'majority of americans still concerned over coronavirus as country continues to reopen, survey shows', 'how long does the coronavirus last', 'how many coronavirus cases in colorado', 'how long does it take to get covid 19 results', 'how many cases of the coronavirus in indiana', 'how many cases of coronavirus in arizona', 'statistics show where patient tested positive but not where covid was acquired', 'how many new cases of coronavirus in florida', 'how to disinfect coronavirus', 'how to talk to your kids about the corona virus', 'how to make hand sanitizer', 'how many cases of coronavirus in minnesota', 'how many cases of coronavirus in pennsylvania', 'the corona virus pandemic certainly has short run and long-term economic effects on global aggregate demand and aggregate supply. use the ad/as model to show these effects.', 'how did tom hanks get coronavirus', 'how many cases of coronavirus in mecklenburg county', 'how many covid 19 deaths in us', 'how to get tested for coronavirus uk', 'how covid19black bureau...', 'how to prevent coronavirus', 'how long can a virus live on surfaces', 'how long does it take to test for coronavirus', 'how many people have the coronavirus in north carolina', 'how to make coronavirus face mask', 'how many people have recovered from corovirus', 'how to get tested for coronavirus in ontario', 'how to self quarantine', 'how to make face mask for coronavirus', 'how many people in idaho have coronavirus', 'how many confirmed cases of coronavirus in az', 'how many confirmed cases of coronavirus', 'how many corona virus cases in oklahoma', 'how many coronavirus cases in ct', 'how many coronavirus cases in florida', 'how to protect against coronavirus', 'how many coronavirus cases in mexico', 'how many coronavirus cases are in los angeles', 'how many cases of coronavirus in washington state', 'how long does coronavirus last on surface', 'coronavirus fever how high', 'once you have corona virus symptoms how long does it last', 'cdc how long can coronavirus live on surfaces', 'how many people in oklahoma have coronavirus', 'how many cases of coronavirus in arkansas', 'how many us cases of coronavirus', 'how biden covid19 democrats', 'how many new cases of covid in ontario today', 'how long does corona virus last', 'howard county covid vaccination', 'how many people are infected with coronavirus', 'howard county covid vaccine sign up', 'how many coronavirus cases in india', 'how many coronavirus cases in az', 'how many people have survived coronavirus', 'how long does coronavirus stay on surfaces', 'how many coronavirus cases in new york', 'how many corona virus cases in nyc', 'how many cases of corona virus', 'how many cases of coronavirus in south dakota', 'how many people in the us have coronavirus', 'how many cases coronavirus in south carolina', 'how many coronavirus in uk', 'how many coronavirus cases in ohio counties', 'how to sign up for covid vaccine in mn', 'how to sign up for covid vaccine in nj', 'how many confirmed cases of coronavirus in nc', 'how many cases of coronavirus in oklahoma', 'how did rudy gobert get coronavirus', 'how many cases of coronavirus in memphis tn', 'how does the coronavirus test work', 'how many cases of coronavirus in ms', 'cdc how to wear masks coronavirus', 'how to get covid vaccine in calif', 'how are they treating coronavirus', 'how many people have died from the covid vaccine', 'how many cases of coronavirus in spain', 'how to treat covid19 at home', 'how soon after exposure can covid testing be done', 'how many coronavirus cases in san bernardino', 'how many people have coronavirus in australia', 'how many people in ohio have the coronavirus', 'how many people have coronavirus in ohio', 'how to get a covid vaccine', 'how to register for covid vaccine', 'how many cases of coronavirus in texas today', 'how many cases of coronavirus in australia', 'how many coronavirus cases on vancouver island', 'how to avoid coronavirus', 'how many people have died from covid vacinne', 'eisenhower health', 'how many cases of cronavirus in laramie county wyoming', 'how many people in texas have the coronavirus', 'how did corona virus came', 'how many cases of coronavirus are in indiana', 'how many counties in texas have coronavirus', 'how to get a coronavirus test', 'how much zinc to take daily', 'how many coronaviruses in ohio', 'how many cases of coronavirus in u.s', 'how long does the coronavirus last on objects', 'how many corona virus cases in delaware', 'how many people will get the coronavirus', 'how many people in the uk have coronavirus', 'how many people have the coronavirus in ohio', 'how many covid 19 cases in california', 'how many coronavirus in new york', 'how bad will coronavirus get', 'how did australia flatten its coronavirus curve? restrictions easing as infection rate continues to fall', 'how to apply for stimulus check 2020', 'how abortion, guns and church closings made coronavirus a culture war', 'how many cases of coronavirus in mo', \"coronavirus tests are being fast-tracked by the fda, but it's unclear how accurate they are.\", 'how many cases of coronavirus in massachusetts', 'how dangerous is corona virus for an healthy person', 'how corona virus origin', 'how to swab for covid 19', 'how many coronavirus cases in georgia', 'how many coronavirus cases in alaska', 'how many covid cases in ontario', 'how does coronavirus spread', 'how to get the covid vaccine in ny', 'how many cases of coronavirus in oregon', 'how many corona virus cases in florida', 'how many cases of corona virus in illinois', 'how many coronavirus cases in california', 'how many people recovered from coronavirus', 'how many corona virus cases in ohio', 'how many people have coronavirus in pa', 'how was coronavirus made', 'how many types of coronavirus are there', 'how many cases of coronavirus in orange county', 'how many coronavirus deaths in new jersey', 'how covid19 democrats republicansyorktimes', 'coronavirus how to help', 'how many cases of corona virus in iowa', 'a sars-like cluster of circulating bat coronaviruses shows potential for human emergence', 'how many cases of coronavirus in bc canada', 'broadway shows cancelled coronavirus', 'how many coronavirus cases in south carolina', 'how many cases of coronavirus are in texas', 'how long can coronavirus live on surfaces', 'how many coronavirus in us', 'how many cases of coronavirus in london', 'how to sign up for covid vaccine at cvs', 'how many cases of coronavirus in delaware', 'how many cases of coronavirus in south australia', 'how many cases of the coronavirus in chicago', 'coronavirus howard county', 'how many confirmed cases of coronavirus in illinois', 'how many carona virus cases are in north carolinia', 'how to apply for ei covid', 'how many covid 19 cases in ohio', 'how long did it take for the coronavirus to expand across all 50 us states', 'how long does coronavirus live on surfaces', 'how many cases of coronavirus in usa today', 'how to get a covid vaccine california', 'how many cases of coronavirus in mn', 'how to file for unemployment due to corona virus', 'how many cases of coronavirus in milwaukee', 'how long are you contagious with coronavirus', 'how to sign up for covid vaccine florida', 'how many cases of coronavirus in duval county florida', 'how long can coronavirus live outside host', 'how dangerous is corona virus', 'how many people in nj have coronavirus', 'how many people have been tested for covid19', 'how to sign up for covid vaccine in az', 'how many coronavirus in montana', 'how long does coronavirus last on surfaces', 'how many people have covid in hamilton ontario', 'how many coronavirus cases in ga', 'the coronavirus chancellor: how rishi sunak took centre stage', 'how many people die from the flu each year', 'how to register for covid vacine in az', 'how many corona virus in massachusetts', 'how does coronavirus behave inside humans', 'how do you test for the coronavirus', 'howard county md coronavirus', 'how long does the coronavirus stay on objects', 'how many corona viruse caes in alska', 'how many coronavirus cases in orange county', 'how japan beat coronavirus', 'how many coronavirus cases in wisconsin', 'how to make covid19 mask', 'how did the coronavirus begin', 'how many coronavirus cases michigan', 'how many cases of corona virus in michigan', 'how long as italy shut down due to coronavirus', 'how many cases of coronavirus in florida', 'how many confirmed cases of coronavirus in ct', 'how to sign up for covid vaccine in california', 'how to register for the covid vaccine', 'how many deaths from coronavirus in washington state', 'how many coronavirus cases in san antonio tx', 'how many cases of coronavirus in tn', 'how many cases of the coronavirus in nm', 'how long does covid last', 'how to stop coronavirus', 'how long can the coronavirus last on surfaces', 'how many coronavirus cases are in ohio', 'how many cases of coronavirus in il', 'how many people in virginia have coronavirus', 'how many cases of coronavirus in wisconsin', 'how many cases of coronavirus in missouri', 'how many cases of coronavirus in manitoba', 'how many people have been vaccinated now', 'how many coronavirus cases in kansas', 'how many cases of coronavirus in italy', 'how many coronavirus cases in alabama', 'how long did corona virus last in china', 'how many coronavirus cases in birmingham', 'how is korea dealing with coronavirus', 'how many deaths from coronavirus in australia', 'how many coronavirus cases in nyc', 'how many cases of coronavirus in indiana now', 'how many coronavirus cases in georgia us', 'how many cases of coronavirus in quebec', 'how many cases of coronavirus is in illinois', 'how many coronavirus cases in va', 'how to stop the coronavirus', 'how many cases coronavirus in georgia', 'how many confirmed cases of coronavirus in michigan', 'how many people have died from corona virrus in china?', 'how many covid cases in victoria today', 'how many coronavirus cases in tn', 'how many coronavirus cases in kentucky', 'how long can the corona virus live on objects', 'how many people have survived the coronavirus', 'how many cases of the coronavirus in ohio', 'how many people have the coronavirus in new jersey', 'how many coronavirus cases in sa', 'how to make appointment for covid 19', 'how many people have died from corona virus', 'how many deaths in usa from coronavirus', 'how long does the covid vacine last', 'how many coronavirus cases in nebraska', 'coronavirus how long does it last', 'how covid19black the', 'how to explain corona virus to children', 'how many coronavirus cases are in maine', 'how can you get coronavirus', 'how many coronavirus cases in england', 'how many people in australia have coronavirus', 'how dentists aim to keep patients healthy and prevent coronavirus spread', 'how many cases of coronavirus is in ohio', 'how many cases of coronavirus in houston area', 'how many people will die from coronavirus', 'how many coronavirus cases in vermont', 'how many confirmed cases of coronavirus in colorado', 'how do you treat coronavirus', 'how many coronavirus cases in montana', 'how long coronavirus can live on surface', 'how iceland beat the coronavirus', 'how many corona virus in wyoming', 'how severe is coronavirus', 'how many have died in us from coronavirus', 'how many cases of coronavirus in ga', 'how many will die from coronavirus', 'how many coronavirus cases in south dakota', 'how many coronavirus cases usa', 'how many cases of coronavirus in uk', 'how to get covid vaccine in michigan', 'how many coronavirus cases in mn', 'how to know if you have coronavirus', 'how many people have coronavirus in california', 'how many cases of coronavirus in louisiana', 'how many coronavirus cases in ma', 'how many people died in ny from coronavirus', 'how to get covid vaccine in ct', 'moderna vaccine how many shots needed', 'how many cases of corona virus in oregon', 'how to register for covid vaccine in arizona', 'how long to get corona virus test results', 'how many cases of coronavirus in washington', 'how many coronavirus cases are in nj', 'how to register for publix covid vaccine', 'how to clean for coronavirus', 'coronavirus in howard county', 'how many coronavirus cases in minnesota', 'how long to recover from coronavirus', 'how many cases of coronavirus in mexico', 'how long does coronavirus live on clothing', 'how to test for corona virus', 'how many confirmed cases of coronavirus in maryland', 'how many coronavirus in australia', 'howmany coronavirus cases in ohio', 'how many cases in the usa of coronavirus', 'how many confirmed cases of coronavirus in us', 'how many coronavirus cases in oklahoma today', 'howard county indiana coronavirus', 'how many coronavirus in florida', 'how many coronavirus cases are in virginia', 'howard county health department', 'how long does coronavirus live on clothes', 'how many cases of corona virus in indiana', 'how many people in mn have coronavirus', 'how many deaths in canada from corona virus', 'how to register for covid vaccine in virginia', 'how to sign up for covid vaccine in texas', 'how many coronavirus cases in ottawa', 'how many coronavirus cases in brevard county', 'how long do coronavirus test results take', 'how to prep for coronavirus', 'how to get a covid test in manhattan', 'coronavirus spread around the world fast, new genetics analysis shows', 'how covid19black the bureau...', 'how many coronavirus cases in the uk', 'how many people in nc have coronavirus', 'how many coronavirus cases in north dakota', 'how is coronavirus different than flu', 'how many cases of coronavirus in virgina', 'how many coronaviruses are there', 'how to get tested for coronavirus', 'how many coronavirus cases 2020 al jazeera', 'how long before coronavirus symptoms', 'how many cases of coronavirus in new mexico', 'how to sign up for covid vaccine in va', 'how many cases of coronavirus in kansas', 'how to get covid vaccine in california', 'how many cases of coronavirus are in florida', 'how many people in nc have corona virus', 'how many coronavirus cases in springfield mo', 'how many cases of coronavirus in texas', 'how effective is oxford jab', 'how coronavirus is caused', 'how to sign up for covid vaccine in ky', 'how to book a covid test', 'how to make masks for coronavirus', 'how fast is the coronavirus spreading', 'how to make a mask for coronavirus', 'how many deaths in us from coronavirus', 'how many cases of coronavirus in suffolk county', 'coronavirus howard county indiana', 'how many coronavirus cases are in wv', 'how many coronavirus cases in usa', 'how to know if i have coronavirus', 'how many coronavirus cases in ohio', 'how many people have the coronavirus in ct', 'how many coronavirus cases in new york city', 'how does the coronavirus start', 'how many coronavirus cases in philadelphia', 'how many cases of coronavirus in michigan', 'how many coronavirus cases are in tennessee', 'how long after exposure should you be tested', 'how many coronavirus cases in london', 'how do people die from coronavirus', 'broadway shows corona virus', 'how many people in china have coronavirus', 'how many people have corona virus in nj', 'how to register for the covid vaccine in ny', 'how many cases of coronavirus in kent', 'how many coronavirus cases in mi', 'how to make a homemade mask for coronavirus', 'how many cases corona virus in california', 'how many children have died from coronavirus', 'how many new cases of coronavirus in ontario', 'how many cases of coronavirus in ca', 'how many coronavirus cases are in illinois', 'how long does coronavirus live on paper', 'how many coronavirus in pa', 'how many coronavirus cases in massachusetts', 'how many people have contracted the corona virus in china', 'how long did italys corona virus last', 'how many cases of the coronavirus in illinois', 'how many covid cases in md today', 'how to make mask for coronavirus', 'how many people died from covid vaccine', 'how many cases of corona virus in houston', 'how to recover from coronavirus spread', 'how many cases of coronavirus in maryland', 'how do i get covid 19 vaccine', 'how many infected with corona virus in jackson county oregon', 'how to sew face masks for coronavirus', 'how long does coronavirus live on plastic', 'how many people have coronavirus in south africa', 'how long does it take to recover from coronavirus', 'coronavirus in howard county indiana', 'how many covid cases in manitoba', 'how to file for unemployment', 'how to register for covid vaccine in pa', 'how does covid 19 reproduce', 'how many cases of corona virus in new mexico', 'how do you know if you have coronavirus', 'how many cases of coronavirus in us', 'how long do covid antibodies normally last', 'how many cases of corona virus in nj', 'how many people can attend a funeral', 'how the world will look after the coronavirus pandemic', 'how many people have died in china from coronavirus', 'how many people have coronavirus in alabama', 'how many corona virus cases in louisiana', 'how many coronavirus in oklahoma', 'how many cases of coronavirus in san bernardino', 'how long does corona virus stay on surfaces', 'how do i know if i have coronavirus', 'how many coronavirus cases by state', 'how to answer questions for unemployment if at risk for covid', 'how many deaths in italy from coronavirus', 'how to treat coronavirus', 'how do you get the coronavirus', 'how do you get coronavirus', 'how many coronavirus cases in spokane wa', 'how many have died in china from coronavirus', 'how many cases of coronavirus in my area', \"how the bronx became a coronavirus 'formula for disaster'\", 'how many confirmed cases of coronavirus in pa', 'how many cases of coronavirus are in arizona', 'covid 19 how long are you contagious', 'how long does it take for coronavirus to show', 'how many coronavirus cases are in ny', 'how many cruise ships are quarantined', 'how many corona virus cases in minnesota', 'how to sign up for covid vaccine in massachusetts', 'how long will the coronavirus last', 'how many people have coronavirus in the us', 'how many us deaths from coronavirus today', 'how to get a covid vaccine in pennsylvania', 'how many coronavirus cases in ms', 'how many cases of coronavirus in norfolk', 'how many coronavirus cases in nd', 'how many cases coronavirus in ohio', 'how many cases of coronavirus in winnipeg', 'how many cases of coronavirus in ri', 'how many coronavirus cases in md', 'how many cases of coronavirus in south africa', 'how does the coronavirus spread', 'how might epidemiologist collaborate with scientists who study viruses as they investigate coronavirus?', 'how many case of coronavirus in us', 'how many cases of coronavirus in nassau county', 'how many cases of coronavirus in fl', 'how many coronavirus cases in utah', 'how to get business loan due to covid 19', 'how does the coronavirus kill', 'how many cases of coronavirus in idaho', 'run to the sun car show myrtle beach 2020', 'how many people in canada have coronavirus', 'how long does the coronavirus live for', 'how many cases of coronavirus are in wisconsin', 'how to self test for covid lung issuies', 'how many cases of coronavirus in kern county', 'how many cases of coronavirus in north carolina', 'rodney howard-browne', 'how many cases of corona virus in utah', 'how did coronavirus came to europe', 'how many died from coronavirus', 'how is the corona virus spread', 'how ontario is responding to', 'how many confirmed cases of coronavirus in mn', 'how many people in florida have coronavirus', 'publix covid vaccines how to sign up', 'how many confirmed cases of coronavirus are in us', 'how many people have died from coronavirus in us', 'corona birus cases in oregon. showing each county', 'how many people in utah have coronavirus', 'how many people have the coronavirus in michigan', 'how many cases of coronavirus in', 'how long does coronavirus live on hands', 'how to make a covid mask', 'how many cases of coronavirus in rochester ny', 'how bad is coronavirus', 'how did the coronavirus start in italy', 'how many confirmed cases of coronavirus in ohio', 'how many confirmed cases of coronavirus in ma', 'how many cases of coronavirus in india', 'how long does covid19 remain on cloth, etc', 'how to make a mask for covid 19', 'how many coronavirus cases are in wisconsin', 'how many coronavirus cases in olmsted county', 'how to get covid vaccine in ny', 'how many vaccines covid given', 'how long the coronavirus last in air', 'how did coronavirus started', 'how long is quarantine for coronavirus', 'how many coronavirus cases in onondaga county', 'how many coronavirus cases in los angeles', \"photos show how china's novel coronavirus outbreak unfolded as wuhan's 76-day lockdown ends\", 'how many coronavirus cases are in arkansas', 'how do i sign up for covid vaccination', 'how to sew a face mask for coronavirus', 'how many us deaths coronavirus', 'how many cases of coronavirus in nebraska', 'how many cases of coronavirus in alaska', 'how do we protect ourselves from coronavirus?', 'how to get tested for coronavirus nyc', 'how many countries in the world are affected with corona virus', 'how many coronavirus cases in oregon', 'how many cases of coronavirus in indiana', 'how will america deal with china over coronavirus', 'how many coronavirus cases in us', 'coronavirus: how many are dying?', 'how to register for covid vaccine in texas', 'how to apply for unemployment', 'howard county md covid vaccinations', 'how is coronavirus tested', 'how long after covid vaccine until immunity', 'how many coronavirus cases in erie county ny', 'how many people have died from the corona virus', 'how many corona virus cases in orange county', 'how many cases of corona virus in ct', 'how many cases of coronavirus in pennslyvania', 'how many cases in russia of coronavirus', 'how worried should we be about coronavirus?', 'how many people in iowa have the corona virus', 'how many people are infected with the corona virus in three rivers ca', 'how many cases of coronavirus are in brockton ma', 'eisenhower corona virus', 'how to file for unemployment in california because of coronavirus', 'how europe covid19black the bureau...', 'how many coronavirus cases in oh', 'how does covid 19 kill', 'how to get rid of the coronavirus', 'how many people have coronavirus in texas', 'how corona virus started', 'how many coronavirus cases in los angeles ca', 'how to get covid vaccine in va', 'how many recovered from covid19 in missouri', 'how many coronavirus cases in maine', 'how many coronavirus cases in dallas', 'how long will coronavirus epidemic last', 'how many coronavirus cases in san diego ca', 'how far did the coronavirus spread in china', 'how long after exposure to covid 19 symptoms', 'how many kids have died from coronavirus', 'california curve showing coronovirus'}\n"
          ],
          "name": "stdout"
        }
      ]
    },
    {
      "cell_type": "code",
      "metadata": {
        "id": "_O_dgMoccqw3"
      },
      "source": [
        "def remove_punc (post): \n",
        "    temp = []\n",
        "    for word in post: \n",
        "        if re.fullmatch (r'[^\\w\\s]', word) == None: \n",
        "            temp.append (word)\n",
        "        else: \n",
        "            pass\n",
        "    return temp \n",
        "\n",
        "# (u\"\\2026\", '')\n",
        "\n",
        "def post_filter_char (msg):\n",
        "    final1 = msg.replace('Â', '')\n",
        "    final2= final1.replace('â€™', '')\n",
        "    final3 = final2.replace('â€œ', '')\n",
        "    final4 = final3.replace('â€“', '')\n",
        "    final5 = final4.replace('â€¦', '')\n",
        "    final6 = final5.replace('â€', '')\n",
        "    final7 = final6.replace('...', ' ')\n",
        "    final8 = final7.replace ('`', '')\n",
        "    final9 = final8.replace ('ðÿ˜', '')\n",
        "    final10 = final9.replace ('¡', '')\n",
        "    final11 = final10.replace ('©', '')\n",
        "    final12 = final11.replace ('👀🙄', '')\n",
        "    final13 = final12.replace ( '�', '')\n",
        "    final14 = final12.replace ('💩', '')\n",
        "    final15 = re.sub(r'(@ ?[a-zA-Z0-9-_]+[\\.: ]?)', '', final14)\n",
        "    final16 = re.sub(r'(@[A-Za-z0-9]+)|([^0-9A-Za-z \\t])|(\\w+:\\/\\/\\S+)', '', final15)\n",
        "    final17 = re.sub(r'([^\\x00-\\x7F])+', '', final16) # remove chinese character, remove non-English characters\n",
        "    final18 = final17.replace ('Quora', '')\n",
        "    return final18\n",
        "\n",
        "#texts3 = [remove_punc(m) for m in texts2]\n",
        "#d = TreebankWordDetokenizer ()\n",
        "#txt_norm4 = [d.detokenize(m) for m in txt_norm3]\n",
        "texts = [post_filter_char(m) for m in texts2]\n",
        "#texts =[d.detokenize(m) for m in txt_norm5]\n",
        "\n"
      ],
      "execution_count": null,
      "outputs": []
    },
    {
      "cell_type": "code",
      "metadata": {
        "colab": {
          "base_uri": "https://localhost:8080/"
        },
        "id": "llZ3I_dqu6vy",
        "outputId": "68c2345e-743c-4059-feeb-697a09a9c73a"
      },
      "source": [
        "\n",
        "# load tagger for POS and NER \n",
        "#tagger = MultiTagger.load(['pos', 'ner'])\n",
        "\n",
        "\n",
        "# make example sentence\n",
        "#sentence = Sentence(\"Unemployment Benefits\")\n",
        "\n",
        "# predict with both models\n",
        "#tagger.predict(sentence)\n",
        "\n",
        "#print(sentence)"
      ],
      "execution_count": null,
      "outputs": [
        {
          "output_type": "stream",
          "text": [
            "2021-04-30 16:12:23,689 --------------------------------------------------------------------------------\n",
            "2021-04-30 16:12:23,696 The model key 'pos' now maps to 'https://huggingface.co/flair/pos-english' on the HuggingFace ModelHub\n",
            "2021-04-30 16:12:23,700  - The most current version of the model is automatically downloaded from there.\n",
            "2021-04-30 16:12:23,702  - (you can alternatively manually download the original model at https://nlp.informatik.hu-berlin.de/resources/models/pos/en-pos-ontonotes-v0.5.pt)\n",
            "2021-04-30 16:12:23,706 --------------------------------------------------------------------------------\n",
            "2021-04-30 16:12:23,828 loading file /root/.flair/models/pos-english/a9a73f6cd878edce8a0fa518db76f441f1cc49c2525b2b4557af278ec2f0659e.121306ea62993d04cd1978398b68396931a39eb47754c8a06a87f325ea70ac63\n",
            "2021-04-30 16:12:24,294 --------------------------------------------------------------------------------\n",
            "2021-04-30 16:12:24,296 The model key 'ner' now maps to 'https://huggingface.co/flair/ner-english' on the HuggingFace ModelHub\n",
            "2021-04-30 16:12:24,300  - The most current version of the model is automatically downloaded from there.\n",
            "2021-04-30 16:12:24,302  - (you can alternatively manually download the original model at https://nlp.informatik.hu-berlin.de/resources/models/ner/en-ner-conll03-v0.4.pt)\n",
            "2021-04-30 16:12:24,304 --------------------------------------------------------------------------------\n",
            "2021-04-30 16:12:24,334 loading file /root/.flair/models/ner-english/4f4cdab26f24cb98b732b389e6cebc646c36f54cfd6e0b7d3b90b25656e4262f.8baa8ae8795f4df80b28e7f7b61d788ecbb057d1dc85aacb316f1bd02837a4a4\n",
            "Sentence: \"Unemployment Benefits\"   [− Tokens: 2  − Token-Labels: \"Unemployment <NN> Benefits <NNS>\"]\n"
          ],
          "name": "stdout"
        }
      ]
    },
    {
      "cell_type": "code",
      "metadata": {
        "id": "oRGeyRR-bgEo"
      },
      "source": [
        "def bert_text_preparation(text, tokenizer):\n",
        "    \"\"\"Preparing the input for BERT\n",
        "    \n",
        "    Takes a string argument and performs\n",
        "    pre-processing like adding special tokens,\n",
        "    tokenization, tokens to ids, and tokens to\n",
        "    segment ids. All tokens are mapped to seg-\n",
        "    ment id = 1.\n",
        "    \n",
        "    Args:\n",
        "        text (str): Text to be converted\n",
        "        tokenizer (obj): Tokenizer object\n",
        "            to convert text into BERT-re-\n",
        "            adable tokens and ids\n",
        "        \n",
        "    Returns:\n",
        "        list: List of BERT-readable tokens\n",
        "        obj: Torch tensor with token ids\n",
        "        obj: Torch tensor segment ids\n",
        "    \n",
        "    \n",
        "    \"\"\"\n",
        "    marked_text = \"[CLS] \" + text + \" [SEP]\"\n",
        "    tokenized_text = tokenizer.tokenize(marked_text)\n",
        "    indexed_tokens = tokenizer.convert_tokens_to_ids(tokenized_text)\n",
        "    segments_ids = [1]*len(indexed_tokens)\n",
        "\n",
        "    # Convert inputs to PyTorch tensors\n",
        "    tokens_tensor = torch.tensor([indexed_tokens])\n",
        "    segments_tensors = torch.tensor([segments_ids])\n",
        "\n",
        "    return tokenized_text, tokens_tensor, segments_tensors\n",
        "    \n",
        "def get_bert_embeddings(tokens_tensor, segments_tensors, model):\n",
        "    \"\"\"Get embeddings from an embedding model\n",
        "    \n",
        "    Args:\n",
        "        tokens_tensor (obj): Torch tensor size [n_tokens]\n",
        "            with token ids for each token in text\n",
        "        segments_tensors (obj): Torch tensor size [n_tokens]\n",
        "            with segment ids for each token in text\n",
        "        model (obj): Embedding model to generate embeddings\n",
        "            from token and segment ids\n",
        "    \n",
        "    Returns:\n",
        "        list: List of list of floats of size\n",
        "            [n_tokens, n_embedding_dimensions]\n",
        "            containing embeddings for each token\n",
        "    \n",
        "    \"\"\"\n",
        "    \n",
        "    # Gradient calculation id disabled\n",
        "    # Model is in inference mode\n",
        "    with torch.no_grad():\n",
        "        outputs = model(tokens_tensor, segments_tensors)\n",
        "        # Removing the first hidden state\n",
        "        # The first state is the input state\n",
        "        hidden_states = outputs[2][1:]\n",
        "\n",
        "    # Getting embeddings from the final BERT layer\n",
        "    token_embeddings = hidden_states[-2]\n",
        "    # Collapsing the tensor into 1-dimension\n",
        "    token_embeddings = torch.squeeze(token_embeddings, dim=0)\n",
        "    # Converting torchtensors to lists\n",
        "    list_token_embeddings = [token_embed.tolist() for token_embed in token_embeddings]\n",
        "\n",
        "    return list_token_embeddings"
      ],
      "execution_count": null,
      "outputs": []
    },
    {
      "cell_type": "code",
      "metadata": {
        "colab": {
          "background_save": true
        },
        "id": "tnpv7NZLg13x",
        "outputId": "3f8d8053-9e4c-4979-9318-6f45f14df923"
      },
      "source": [
        "# word in all given contexts\n",
        "\n",
        "for text in texts:\n",
        "      tokenized_text, tokens_tensor, segments_tensors = bert_text_preparation(text, tokenizer)\n",
        "      list_token_embeddings = get_bert_embeddings(tokens_tensor, segments_tensors, model)\n",
        " \n",
        "#Find the position 'bank' in list of tokens\n",
        "#target_word_embeddings = []\n",
        "#word_index = tokenized_text.index('virus')\n",
        "# Get the embedding for bank\n",
        "word_embedding = list_token_embeddings[word_index]\n",
        "\n",
        "len(list_token_embeddings)\n"
      ],
      "execution_count": null,
      "outputs": [
        {
          "output_type": "error",
          "ename": "NameError",
          "evalue": "ignored",
          "traceback": [
            "\u001b[0;31m---------------------------------------------------------------------------\u001b[0m",
            "\u001b[0;31mNameError\u001b[0m                                 Traceback (most recent call last)",
            "\u001b[0;32m<ipython-input-21-c1bd24ef8fd3>\u001b[0m in \u001b[0;36m<module>\u001b[0;34m()\u001b[0m\n\u001b[1;32m      9\u001b[0m \u001b[0;31m#word_index = tokenized_text.index('virus')\u001b[0m\u001b[0;34m\u001b[0m\u001b[0;34m\u001b[0m\u001b[0;34m\u001b[0m\u001b[0m\n\u001b[1;32m     10\u001b[0m \u001b[0;31m# Get the embedding for bank\u001b[0m\u001b[0;34m\u001b[0m\u001b[0;34m\u001b[0m\u001b[0;34m\u001b[0m\u001b[0m\n\u001b[0;32m---> 11\u001b[0;31m \u001b[0mword_embedding\u001b[0m \u001b[0;34m=\u001b[0m \u001b[0mlist_token_embeddings\u001b[0m\u001b[0;34m[\u001b[0m\u001b[0mword_index\u001b[0m\u001b[0;34m]\u001b[0m\u001b[0;34m\u001b[0m\u001b[0;34m\u001b[0m\u001b[0m\n\u001b[0m\u001b[1;32m     12\u001b[0m \u001b[0;34m\u001b[0m\u001b[0m\n\u001b[1;32m     13\u001b[0m \u001b[0mlen\u001b[0m\u001b[0;34m(\u001b[0m\u001b[0mlist_token_embeddings\u001b[0m\u001b[0;34m)\u001b[0m\u001b[0;34m\u001b[0m\u001b[0;34m\u001b[0m\u001b[0m\n",
            "\u001b[0;31mNameError\u001b[0m: name 'word_index' is not defined"
          ]
        }
      ]
    },
    {
      "cell_type": "code",
      "metadata": {
        "colab": {
          "base_uri": "https://localhost:8080/",
          "height": 238
        },
        "id": "rwZwaeguo0T7",
        "outputId": "4d9c7f81-a05d-4df1-9d42-12f6bff11cf9"
      },
      "source": [
        "\n",
        "target_word_embeddings.append(word_embedding)\n",
        "target_word_embeddings\n",
        "len(word_embedding)\n",
        "len(target_word_embeddings)"
      ],
      "execution_count": null,
      "outputs": [
        {
          "output_type": "error",
          "ename": "NameError",
          "evalue": "ignored",
          "traceback": [
            "\u001b[0;31m---------------------------------------------------------------------------\u001b[0m",
            "\u001b[0;31mNameError\u001b[0m                                 Traceback (most recent call last)",
            "\u001b[0;32m<ipython-input-3-3963782e9d0f>\u001b[0m in \u001b[0;36m<module>\u001b[0;34m()\u001b[0m\n\u001b[1;32m      1\u001b[0m \u001b[0;34m\u001b[0m\u001b[0m\n\u001b[0;32m----> 2\u001b[0;31m \u001b[0mtarget_word_embeddings\u001b[0m\u001b[0;34m.\u001b[0m\u001b[0mappend\u001b[0m\u001b[0;34m(\u001b[0m\u001b[0mword_embedding\u001b[0m\u001b[0;34m)\u001b[0m\u001b[0;34m\u001b[0m\u001b[0;34m\u001b[0m\u001b[0m\n\u001b[0m\u001b[1;32m      3\u001b[0m \u001b[0mtarget_word_embeddings\u001b[0m\u001b[0;34m\u001b[0m\u001b[0;34m\u001b[0m\u001b[0m\n\u001b[1;32m      4\u001b[0m \u001b[0mlen\u001b[0m\u001b[0;34m(\u001b[0m\u001b[0mword_embedding\u001b[0m\u001b[0;34m)\u001b[0m\u001b[0;34m\u001b[0m\u001b[0;34m\u001b[0m\u001b[0m\n\u001b[1;32m      5\u001b[0m \u001b[0mlen\u001b[0m\u001b[0;34m(\u001b[0m\u001b[0mtarget_word_embeddings\u001b[0m\u001b[0;34m)\u001b[0m\u001b[0;34m\u001b[0m\u001b[0;34m\u001b[0m\u001b[0m\n",
            "\u001b[0;31mNameError\u001b[0m: name 'target_word_embeddings' is not defined"
          ]
        }
      ]
    },
    {
      "cell_type": "code",
      "metadata": {
        "id": "q2Z1xllEbgEp"
      },
      "source": [
        "\n"
      ],
      "execution_count": null,
      "outputs": []
    },
    {
      "cell_type": "code",
      "metadata": {
        "id": "nfv-gl11Kvnd"
      },
      "source": [
        "from googleapiclient.discovery import build\n",
        "import pprint\n",
        " \n",
        "#define key\n",
        "api_key = \"\"\n",
        "cse_key = \"\"\n",
        " \n",
        "resource = build(\"customsearch\", 'v1', developerKey=api_key).cse()\n",
        "result = resource.list(q='How Did Coronavirus Start', cx=cse_key).execute()\n",
        " \n",
        "#pprint.pprint(result)\n",
        " "
      ],
      "execution_count": null,
      "outputs": []
    },
    {
      "cell_type": "markdown",
      "metadata": {
        "id": "ykjbTNjkLBdc"
      },
      "source": [
        ""
      ]
    },
    {
      "cell_type": "code",
      "metadata": {
        "colab": {
          "base_uri": "https://localhost:8080/"
        },
        "id": "e0pJrH5DAym_",
        "outputId": "fbbc461e-8192-4526-ee19-31c2c5fa113e"
      },
      "source": [
        "for item in result['items']:\n",
        "    print(item['title'], item['link'])\n"
      ],
      "execution_count": null,
      "outputs": [
        {
          "output_type": "stream",
          "text": [
            "Facts about coronavirus https://medium.com/@juandavidsilva5546/important-facts-about-the-coronavirus-e2755eb4e78d\n",
            "Inslee signs new COVID-19 order for phased re-opening of ... https://medium.com/wagovernor/inslee-signs-new-covid-19-order-for-phased-re-opening-of-washingtons-economy-ad5ea919ab56\n",
            "How did Twitter react to the Coronavirus pandemic? | by fylim ... https://medium.com/@fylim/how-did-twitter-react-to-the-coronavirus-pandemic-2857592b449a\n",
            "Coronavirus Symptoms: How COVID-19 Progresses Day by Day https://medium.com/business-insider/a-day-by-day-breakdown-of-coronavirus-symptoms-shows-how-covid-19-goes-from-bad-to-worse-540a6b8ce6d2\n",
            "What COVID-19 Did for Zoom.us & What Zoom.us did for COVID-19 ... https://medium.com/swlh/what-covid-19-did-for-zoom-us-what-zoom-us-did-for-covid-19-c3b766a6c723\n",
            "Even if you are virus-free, COVID-19 is affecting your health. Here's ... https://medium.com/scope-stanford-medicine/even-if-you-are-virus-free-covid-19-is-affecting-your-health-heres-what-to-do-b74e36700a6d\n",
            "How John Burn-Murdoch's Influential Dataviz Helped The World ... https://medium.com/nightingale/how-john-burn-murdochs-influential-dataviz-helped-the-world-understand-coronavirus-6cb4a09795ae\n",
            "How did the Coronavirus start? - Quora https://www.quora.com/How-did-the-Coronavirus-start\n",
            "Coronavirus: The End of the Sharing Economy, or a New Beginning ... https://medium.com/swlh/coronavirus-the-end-of-the-sharing-economy-or-a-new-beginning-a142acbb7130\n",
            "Why Mexico got a slow start in stopping COVID-19 | by Gisela Pérez ... https://medium.com/@gisela.pdea/why-mexico-got-a-slow-start-in-stopping-covid19-c822a273a8b2\n"
          ],
          "name": "stdout"
        }
      ]
    },
    {
      "cell_type": "code",
      "metadata": {
        "colab": {
          "base_uri": "https://localhost:8080/",
          "height": 347
        },
        "id": "flIGfiYfJ3pR",
        "outputId": "b43b7dab-aec4-402b-a18c-faac4f88454c"
      },
      "source": [
        "medium =[]\n",
        "link =[]\n",
        "for item in result['items']:\n",
        "     title1= item['title']\n",
        "     link1= item['link']\n",
        "     medium.append([title1, link1])\n",
        "\n",
        "mediuim_df = pd.DataFrame(medium, columns=['title', 'link'])\n",
        "mediuim_df\n",
        "\n"
      ],
      "execution_count": null,
      "outputs": [
        {
          "output_type": "execute_result",
          "data": {
            "text/html": [
              "<div>\n",
              "<style scoped>\n",
              "    .dataframe tbody tr th:only-of-type {\n",
              "        vertical-align: middle;\n",
              "    }\n",
              "\n",
              "    .dataframe tbody tr th {\n",
              "        vertical-align: top;\n",
              "    }\n",
              "\n",
              "    .dataframe thead th {\n",
              "        text-align: right;\n",
              "    }\n",
              "</style>\n",
              "<table border=\"1\" class=\"dataframe\">\n",
              "  <thead>\n",
              "    <tr style=\"text-align: right;\">\n",
              "      <th></th>\n",
              "      <th>title</th>\n",
              "      <th>link</th>\n",
              "    </tr>\n",
              "  </thead>\n",
              "  <tbody>\n",
              "    <tr>\n",
              "      <th>0</th>\n",
              "      <td>Facts about coronavirus</td>\n",
              "      <td>https://medium.com/@juandavidsilva5546/importa...</td>\n",
              "    </tr>\n",
              "    <tr>\n",
              "      <th>1</th>\n",
              "      <td>Inslee signs new COVID-19 order for phased re-...</td>\n",
              "      <td>https://medium.com/wagovernor/inslee-signs-new...</td>\n",
              "    </tr>\n",
              "    <tr>\n",
              "      <th>2</th>\n",
              "      <td>How did Twitter react to the Coronavirus pande...</td>\n",
              "      <td>https://medium.com/@fylim/how-did-twitter-reac...</td>\n",
              "    </tr>\n",
              "    <tr>\n",
              "      <th>3</th>\n",
              "      <td>Coronavirus Symptoms: How COVID-19 Progresses ...</td>\n",
              "      <td>https://medium.com/business-insider/a-day-by-d...</td>\n",
              "    </tr>\n",
              "    <tr>\n",
              "      <th>4</th>\n",
              "      <td>What COVID-19 Did for Zoom.us &amp; What Zoom.us d...</td>\n",
              "      <td>https://medium.com/swlh/what-covid-19-did-for-...</td>\n",
              "    </tr>\n",
              "    <tr>\n",
              "      <th>5</th>\n",
              "      <td>Even if you are virus-free, COVID-19 is affect...</td>\n",
              "      <td>https://medium.com/scope-stanford-medicine/eve...</td>\n",
              "    </tr>\n",
              "    <tr>\n",
              "      <th>6</th>\n",
              "      <td>How John Burn-Murdoch's Influential Dataviz He...</td>\n",
              "      <td>https://medium.com/nightingale/how-john-burn-m...</td>\n",
              "    </tr>\n",
              "    <tr>\n",
              "      <th>7</th>\n",
              "      <td>How did the Coronavirus start? - Quora</td>\n",
              "      <td>https://www.quora.com/How-did-the-Coronavirus-...</td>\n",
              "    </tr>\n",
              "    <tr>\n",
              "      <th>8</th>\n",
              "      <td>Coronavirus: The End of the Sharing Economy, o...</td>\n",
              "      <td>https://medium.com/swlh/coronavirus-the-end-of...</td>\n",
              "    </tr>\n",
              "    <tr>\n",
              "      <th>9</th>\n",
              "      <td>Why Mexico got a slow start in stopping COVID-...</td>\n",
              "      <td>https://medium.com/@gisela.pdea/why-mexico-got...</td>\n",
              "    </tr>\n",
              "  </tbody>\n",
              "</table>\n",
              "</div>"
            ],
            "text/plain": [
              "                                               title                                               link\n",
              "0                            Facts about coronavirus  https://medium.com/@juandavidsilva5546/importa...\n",
              "1  Inslee signs new COVID-19 order for phased re-...  https://medium.com/wagovernor/inslee-signs-new...\n",
              "2  How did Twitter react to the Coronavirus pande...  https://medium.com/@fylim/how-did-twitter-reac...\n",
              "3  Coronavirus Symptoms: How COVID-19 Progresses ...  https://medium.com/business-insider/a-day-by-d...\n",
              "4  What COVID-19 Did for Zoom.us & What Zoom.us d...  https://medium.com/swlh/what-covid-19-did-for-...\n",
              "5  Even if you are virus-free, COVID-19 is affect...  https://medium.com/scope-stanford-medicine/eve...\n",
              "6  How John Burn-Murdoch's Influential Dataviz He...  https://medium.com/nightingale/how-john-burn-m...\n",
              "7             How did the Coronavirus start? - Quora  https://www.quora.com/How-did-the-Coronavirus-...\n",
              "8  Coronavirus: The End of the Sharing Economy, o...  https://medium.com/swlh/coronavirus-the-end-of...\n",
              "9  Why Mexico got a slow start in stopping COVID-...  https://medium.com/@gisela.pdea/why-mexico-got..."
            ]
          },
          "metadata": {
            "tags": []
          },
          "execution_count": 42
        }
      ]
    },
    {
      "cell_type": "code",
      "metadata": {
        "colab": {
          "base_uri": "https://localhost:8080/"
        },
        "id": "41ZAQqi7EEwb",
        "outputId": "4f31ac2f-7748-4333-b4cd-f95533e9c6d7"
      },
      "source": [
        "for text in mediuim_df['title']:\n",
        "      tokenized_text1, tokens_tensor1, segments_tensors1 = bert_text_preparation(text, tokenizer)\n",
        "      list_token_embeddings1 = get_bert_embeddings(tokens_tensor1, segments_tensors1, model)\n",
        " \n",
        "\n",
        "len(list_token_embeddings1)\n"
      ],
      "execution_count": null,
      "outputs": [
        {
          "output_type": "execute_result",
          "data": {
            "text/plain": [
              "23"
            ]
          },
          "metadata": {
            "tags": []
          },
          "execution_count": 43
        }
      ]
    },
    {
      "cell_type": "code",
      "metadata": {
        "colab": {
          "base_uri": "https://localhost:8080/",
          "height": 347
        },
        "id": "-uWWsMy_ITsY",
        "outputId": "96b10b38-c6a6-43aa-956b-d4b04c6ad7e1"
      },
      "source": [
        "from scipy.spatial.distance import cosine\n",
        "\n",
        "# Calculating the distance between the\n",
        "# embeddings of 'bank' in all the\n",
        "# given contexts of the word\n",
        "\n",
        "list_of_distances = []\n",
        "for text1, embed1 in zip(texts, list_token_embeddings):\n",
        "    for text2, embed2 in zip(mediuim_df['title'], list_token_embeddings1):\n",
        "        cos_dist =1- cosine(embed1, embed2)\n",
        "        list_of_distances.append([text1, text2, cos_dist])\n",
        "\n",
        "distances_df = pd.DataFrame(list_of_distances, columns=['text1', 'text2', 'distance'])\n",
        "distances_df\n",
        "distances_df[distances_df.text1 == 'how did the coronavirus start'].sort_values('distance')\n"
      ],
      "execution_count": null,
      "outputs": [
        {
          "output_type": "execute_result",
          "data": {
            "text/html": [
              "<div>\n",
              "<style scoped>\n",
              "    .dataframe tbody tr th:only-of-type {\n",
              "        vertical-align: middle;\n",
              "    }\n",
              "\n",
              "    .dataframe tbody tr th {\n",
              "        vertical-align: top;\n",
              "    }\n",
              "\n",
              "    .dataframe thead th {\n",
              "        text-align: right;\n",
              "    }\n",
              "</style>\n",
              "<table border=\"1\" class=\"dataframe\">\n",
              "  <thead>\n",
              "    <tr style=\"text-align: right;\">\n",
              "      <th></th>\n",
              "      <th>text1</th>\n",
              "      <th>text2</th>\n",
              "      <th>distance</th>\n",
              "    </tr>\n",
              "  </thead>\n",
              "  <tbody>\n",
              "    <tr>\n",
              "      <th>2</th>\n",
              "      <td>how did the coronavirus start</td>\n",
              "      <td>How did Twitter react to the Coronavirus pande...</td>\n",
              "      <td>0.336630</td>\n",
              "    </tr>\n",
              "    <tr>\n",
              "      <th>6</th>\n",
              "      <td>how did the coronavirus start</td>\n",
              "      <td>How John Burn-Murdoch's Influential Dataviz He...</td>\n",
              "      <td>0.360784</td>\n",
              "    </tr>\n",
              "    <tr>\n",
              "      <th>9</th>\n",
              "      <td>how did the coronavirus start</td>\n",
              "      <td>Why Mexico got a slow start in stopping COVID-...</td>\n",
              "      <td>0.369360</td>\n",
              "    </tr>\n",
              "    <tr>\n",
              "      <th>1</th>\n",
              "      <td>how did the coronavirus start</td>\n",
              "      <td>Inslee signs new COVID-19 order for phased re-...</td>\n",
              "      <td>0.398761</td>\n",
              "    </tr>\n",
              "    <tr>\n",
              "      <th>7</th>\n",
              "      <td>how did the coronavirus start</td>\n",
              "      <td>How did the Coronavirus start? - Quora</td>\n",
              "      <td>0.400738</td>\n",
              "    </tr>\n",
              "    <tr>\n",
              "      <th>3</th>\n",
              "      <td>how did the coronavirus start</td>\n",
              "      <td>Coronavirus Symptoms: How COVID-19 Progresses ...</td>\n",
              "      <td>0.401686</td>\n",
              "    </tr>\n",
              "    <tr>\n",
              "      <th>4</th>\n",
              "      <td>how did the coronavirus start</td>\n",
              "      <td>What COVID-19 Did for Zoom.us &amp; What Zoom.us d...</td>\n",
              "      <td>0.403141</td>\n",
              "    </tr>\n",
              "    <tr>\n",
              "      <th>5</th>\n",
              "      <td>how did the coronavirus start</td>\n",
              "      <td>Even if you are virus-free, COVID-19 is affect...</td>\n",
              "      <td>0.422951</td>\n",
              "    </tr>\n",
              "    <tr>\n",
              "      <th>8</th>\n",
              "      <td>how did the coronavirus start</td>\n",
              "      <td>Coronavirus: The End of the Sharing Economy, o...</td>\n",
              "      <td>0.433296</td>\n",
              "    </tr>\n",
              "    <tr>\n",
              "      <th>0</th>\n",
              "      <td>how did the coronavirus start</td>\n",
              "      <td>Facts about coronavirus</td>\n",
              "      <td>0.685020</td>\n",
              "    </tr>\n",
              "  </tbody>\n",
              "</table>\n",
              "</div>"
            ],
            "text/plain": [
              "                           text1  ...  distance\n",
              "2  how did the coronavirus start  ...  0.336630\n",
              "6  how did the coronavirus start  ...  0.360784\n",
              "9  how did the coronavirus start  ...  0.369360\n",
              "1  how did the coronavirus start  ...  0.398761\n",
              "7  how did the coronavirus start  ...  0.400738\n",
              "3  how did the coronavirus start  ...  0.401686\n",
              "4  how did the coronavirus start  ...  0.403141\n",
              "5  how did the coronavirus start  ...  0.422951\n",
              "8  how did the coronavirus start  ...  0.433296\n",
              "0  how did the coronavirus start  ...  0.685020\n",
              "\n",
              "[10 rows x 3 columns]"
            ]
          },
          "metadata": {
            "tags": []
          },
          "execution_count": 45
        }
      ]
    },
    {
      "cell_type": "code",
      "metadata": {
        "id": "xJGmQa-cIIey"
      },
      "source": [
        ""
      ],
      "execution_count": null,
      "outputs": []
    },
    {
      "cell_type": "code",
      "metadata": {
        "colab": {
          "base_uri": "https://localhost:8080/",
          "height": 185
        },
        "id": "241qPpmvbgEr",
        "outputId": "62ca874e-f8bc-4ccc-f840-f363a6aaeca4"
      },
      "source": [
        "cos_dist = 1 - cosine(target_word_embeddings1[0], np.sum(target_word_embeddings1, axis=0))\n",
        "print(f'Distance between context-free and context-averaged = {cos_dist}')"
      ],
      "execution_count": null,
      "outputs": [
        {
          "output_type": "error",
          "ename": "NameError",
          "evalue": "ignored",
          "traceback": [
            "\u001b[0;31m---------------------------------------------------------------------------\u001b[0m",
            "\u001b[0;31mNameError\u001b[0m                                 Traceback (most recent call last)",
            "\u001b[0;32m<ipython-input-151-8dbcb7db7674>\u001b[0m in \u001b[0;36m<module>\u001b[0;34m()\u001b[0m\n\u001b[0;32m----> 1\u001b[0;31m \u001b[0mcos_dist\u001b[0m \u001b[0;34m=\u001b[0m \u001b[0;36m1\u001b[0m \u001b[0;34m-\u001b[0m \u001b[0mcosine\u001b[0m\u001b[0;34m(\u001b[0m\u001b[0mtarget_word_embeddings1\u001b[0m\u001b[0;34m[\u001b[0m\u001b[0;36m0\u001b[0m\u001b[0;34m]\u001b[0m\u001b[0;34m,\u001b[0m \u001b[0mnp\u001b[0m\u001b[0;34m.\u001b[0m\u001b[0msum\u001b[0m\u001b[0;34m(\u001b[0m\u001b[0mtarget_word_embeddings1\u001b[0m\u001b[0;34m,\u001b[0m \u001b[0maxis\u001b[0m\u001b[0;34m=\u001b[0m\u001b[0;36m0\u001b[0m\u001b[0;34m)\u001b[0m\u001b[0;34m)\u001b[0m\u001b[0;34m\u001b[0m\u001b[0;34m\u001b[0m\u001b[0m\n\u001b[0m\u001b[1;32m      2\u001b[0m \u001b[0mprint\u001b[0m\u001b[0;34m(\u001b[0m\u001b[0;34mf'Distance between context-free and context-averaged = {cos_dist}'\u001b[0m\u001b[0;34m)\u001b[0m\u001b[0;34m\u001b[0m\u001b[0;34m\u001b[0m\u001b[0m\n",
            "\u001b[0;31mNameError\u001b[0m: name 'target_word_embeddings1' is not defined"
          ]
        }
      ]
    }
  ]
}