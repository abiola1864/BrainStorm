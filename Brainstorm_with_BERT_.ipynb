{
  "nbformat": 4,
  "nbformat_minor": 0,
  "metadata": {
    "accelerator": "GPU",
    "colab": {
      "name": "Brainstorm_with_BERT_.ipynb",
      "provenance": [],
      "collapsed_sections": []
    },
    "kernelspec": {
      "display_name": "Python 3",
      "name": "python3"
    },
    "language_info": {
      "name": "python"
    }
  },
  "cells": [
    {
      "cell_type": "code",
      "metadata": {
        "colab": {
          "base_uri": "https://localhost:8080/"
        },
        "id": "b6QkKBnBzm3E",
        "outputId": "14a1de79-2507-4913-9961-9825577c9f12"
      },
      "source": [
        "import sklearn\n",
        "import keras\n",
        "import nltk\n",
        "import pandas as pd\n",
        "import numpy as np\n",
        "import re\n",
        "import codecs\n",
        "import nltk\n",
        "import re\n",
        "import pprint\n",
        "nltk.download('punkt')\n",
        "nltk.download('averaged_perceptron_tagger')\n",
        "\n",
        "\n",
        "\n",
        "\n",
        "\n"
      ],
      "execution_count": null,
      "outputs": [
        {
          "output_type": "stream",
          "text": [
            "[nltk_data] Downloading package punkt to /root/nltk_data...\n",
            "[nltk_data]   Package punkt is already up-to-date!\n",
            "[nltk_data] Downloading package averaged_perceptron_tagger to\n",
            "[nltk_data]     /root/nltk_data...\n",
            "[nltk_data]   Package averaged_perceptron_tagger is already up-to-\n",
            "[nltk_data]       date!\n"
          ],
          "name": "stdout"
        },
        {
          "output_type": "execute_result",
          "data": {
            "text/plain": [
              "True"
            ]
          },
          "metadata": {
            "tags": []
          },
          "execution_count": 3
        }
      ]
    },
    {
      "cell_type": "code",
      "metadata": {
        "id": "mDPOngX3dpoF",
        "colab": {
          "base_uri": "https://localhost:8080/"
        },
        "outputId": "5b425a6a-ca16-4b30-ea90-d4119330b80e"
      },
      "source": [
        "import gensim.downloader as api\n",
        "\n",
        "word2vec= api.load('word2vec-google-news-300')\n"
      ],
      "execution_count": null,
      "outputs": [
        {
          "output_type": "stream",
          "text": [
            "[==================================================] 100.0% 1662.8/1662.8MB downloaded\n"
          ],
          "name": "stdout"
        }
      ]
    },
    {
      "cell_type": "code",
      "metadata": {
        "colab": {
          "base_uri": "https://localhost:8080/"
        },
        "id": "2dw69gS7Hw-f",
        "outputId": "39ea8bb8-1ece-4236-dc7c-06d25e98820d"
      },
      "source": [
        "from google.colab import drive\n",
        "drive.mount('/content/drive')\n"
      ],
      "execution_count": null,
      "outputs": [
        {
          "output_type": "stream",
          "text": [
            "Mounted at /content/drive\n"
          ],
          "name": "stdout"
        }
      ]
    },
    {
      "cell_type": "code",
      "metadata": {
        "id": "aJd0peXoHch5"
      },
      "source": [
        "jan = pd.read_csv(\"https://raw.githubusercontent.com/microsoft/BingCoronavirusQuerySet/master/data/2020/QueriesByState_2020-01-01_2020-01-31.tsv\", sep='\\t', header=0)\n",
        "\n",
        "#feb = pd.read_csv(\"https://raw.githubusercontent.com/microsoft/BingCoronavirusQuerySet/master/data/2020/QueriesByCountry_2020-02-01_2020-02-29.tsv\", sep='\\t', header=0)\n",
        "\n",
        "mar = pd.read_csv(\"https://raw.githubusercontent.com/microsoft/BingCoronavirusQuerySet/master/data/2020/QueriesByState_2020-03-01_2020-03-31.tsv\", sep='\\t', header=0)\n",
        "\n",
        "apr = pd.read_csv(\"https://raw.githubusercontent.com/microsoft/BingCoronavirusQuerySet/master/data/2020/QueriesByState_2020-04-01_2020-04-30.tsv\", sep='\\t', header=0)\n",
        "\n",
        "may = pd.read_csv(\"https://raw.githubusercontent.com/microsoft/BingCoronavirusQuerySet/master/data/2020/QueriesByState_2020-05-01_2020-05-31.tsv\", sep='\\t', header=0)\n",
        "\n",
        "jun = pd.read_csv(\"https://raw.githubusercontent.com/microsoft/BingCoronavirusQuerySet/master/data/2020/QueriesByState_2020-06-01_2020-06-30.tsv\", sep='\\t', header=0)\n",
        "\n",
        "#jul =pd.read_csv(\"https://raw.githubusercontent.com/microsoft/BingCoronavirusQuerySet/master/data/2020/QueriesByState_2020-07-01_2020-07-31.tsv\", sep='\\t', header=0)\n",
        "\n",
        "#aug = pd.read_csv(\"https://raw.githubusercontent.com/microsoft/BingCoronavirusQuerySet/master/data/2020/QueriesByState_2020-08-01_2020-08-31.tsv\", sep='\\t', header=0)\n",
        "\n",
        "#sep = pd.read_csv(\"https://raw.githubusercontent.com/microsoft/BingCoronavirusQuerySet/master/data/2020/QueriesByState_2020-09-01_2020-09-30.tsv\", sep='\\t', header=0)\n",
        "\n",
        "#oct = pd.read_csv(\"https://raw.githubusercontent.com/microsoft/BingCoronavirusQuerySet/master/data/2020/QueriesByState_2020-10-01_2020-10-31.tsv\", sep='\\t', header=0)\n",
        "\n",
        "#nov = pd.read_csv(\"https://raw.githubusercontent.com/microsoft/BingCoronavirusQuerySet/master/data/2020/QueriesByState_2020-11-01_2020-11-30.tsv\", sep='\\t', header=0)\n",
        "\n",
        "#dec = pd.read_csv(\"https://raw.githubusercontent.com/microsoft/BingCoronavirusQuerySet/master/data/2020/QueriesByState_2020-12-01_2020-12-31.tsv\", sep='\\t', header=0)\n",
        "\n",
        "#jan21= pd.read_csv(\"https://raw.githubusercontent.com/microsoft/BingCoronavirusQuerySet/master/data/2021/QueriesByState_2021-01-01_2021-01-31.tsv\", sep='\\t', header=0)\n"
      ],
      "execution_count": null,
      "outputs": []
    },
    {
      "cell_type": "code",
      "metadata": {
        "id": "4ljau_f6MuTR"
      },
      "source": [
        "df = pd.concat([jan, mar, apr, may, jun], ignore_index=True)\n",
        "\n",
        "\n",
        "\n"
      ],
      "execution_count": null,
      "outputs": []
    },
    {
      "cell_type": "code",
      "metadata": {
        "colab": {
          "base_uri": "https://localhost:8080/"
        },
        "id": "MI6ulLrXJKS4",
        "outputId": "7826a303-e9f7-4ff0-a57c-e07a3078eba2"
      },
      "source": [
        "print(df.sample(5))"
      ],
      "execution_count": null,
      "outputs": [
        {
          "output_type": "stream",
          "text": [
            "               Date  ... PopularityScore\n",
            "752240   2020-03-21  ...             100\n",
            "120175   2020-03-05  ...               1\n",
            "2496345  2020-06-03  ...               2\n",
            "628084   2020-03-18  ...              16\n",
            "1602871  2020-04-15  ...               1\n",
            "\n",
            "[5 rows x 6 columns]\n"
          ],
          "name": "stdout"
        }
      ]
    },
    {
      "cell_type": "code",
      "metadata": {
        "id": "q8WzqbciNwlZ"
      },
      "source": [
        "def standardize_text(df, text_field):\n",
        "    df[text_field] = df[text_field].str.replace(r\"http\\S+\", \"\")\n",
        "    df[text_field] = df[text_field].str.replace(r\"http\", \"\")\n",
        "    df[text_field] = df[text_field].str.replace(r\"@\\S+\", \"\")\n",
        "    df[text_field] = df[text_field].str.replace(r\"[^A-Za-z0-9(),!?@\\'\\`\\\"\\_\\n]\", \" \")\n",
        "    df[text_field] = df[text_field].str.replace(r\"@\", \"at\")\n",
        "    df[text_field] = df[text_field].str.lower()\n",
        "    df[text_field] = df[text_field].str.replace(r\"[^a-zA-Z]\", \" \")# Search for all non-letters,  Replace all non-letters with spaces\n",
        "    return df\n",
        "\n"
      ],
      "execution_count": null,
      "outputs": []
    },
    {
      "cell_type": "code",
      "metadata": {
        "colab": {
          "base_uri": "https://localhost:8080/",
          "height": 197
        },
        "id": "uBXdcwknOtp8",
        "outputId": "2fb58f35-c3b4-4f0e-e51f-f0fe01314430"
      },
      "source": [
        "questions = standardize_text(df, \"Query\")\n",
        "\n",
        "questions.to_csv(\"clean_data.csv\")\n",
        "questions.head()"
      ],
      "execution_count": null,
      "outputs": [
        {
          "output_type": "execute_result",
          "data": {
            "text/html": [
              "<div>\n",
              "<style scoped>\n",
              "    .dataframe tbody tr th:only-of-type {\n",
              "        vertical-align: middle;\n",
              "    }\n",
              "\n",
              "    .dataframe tbody tr th {\n",
              "        vertical-align: top;\n",
              "    }\n",
              "\n",
              "    .dataframe thead th {\n",
              "        text-align: right;\n",
              "    }\n",
              "</style>\n",
              "<table border=\"1\" class=\"dataframe\">\n",
              "  <thead>\n",
              "    <tr style=\"text-align: right;\">\n",
              "      <th></th>\n",
              "      <th>Date</th>\n",
              "      <th>Query</th>\n",
              "      <th>IsImplicitIntent</th>\n",
              "      <th>State</th>\n",
              "      <th>Country</th>\n",
              "      <th>PopularityScore</th>\n",
              "    </tr>\n",
              "  </thead>\n",
              "  <tbody>\n",
              "    <tr>\n",
              "      <th>0</th>\n",
              "      <td>2020-01-01</td>\n",
              "      <td>coronavirus</td>\n",
              "      <td>False</td>\n",
              "      <td>Michigan</td>\n",
              "      <td>United States</td>\n",
              "      <td>1</td>\n",
              "    </tr>\n",
              "    <tr>\n",
              "      <th>1</th>\n",
              "      <td>2020-01-01</td>\n",
              "      <td>coronavirus</td>\n",
              "      <td>False</td>\n",
              "      <td>Pennsylvania</td>\n",
              "      <td>United States</td>\n",
              "      <td>1</td>\n",
              "    </tr>\n",
              "    <tr>\n",
              "      <th>2</th>\n",
              "      <td>2020-01-01</td>\n",
              "      <td>p  masks</td>\n",
              "      <td>True</td>\n",
              "      <td>Australian Capital Territory</td>\n",
              "      <td>Australia</td>\n",
              "      <td>1</td>\n",
              "    </tr>\n",
              "    <tr>\n",
              "      <th>3</th>\n",
              "      <td>2020-01-01</td>\n",
              "      <td>ausw rtiges amt</td>\n",
              "      <td>True</td>\n",
              "      <td>North Rhine-Westphalia</td>\n",
              "      <td>Germany</td>\n",
              "      <td>1</td>\n",
              "    </tr>\n",
              "    <tr>\n",
              "      <th>4</th>\n",
              "      <td>2020-01-01</td>\n",
              "      <td>p  masks</td>\n",
              "      <td>True</td>\n",
              "      <td>New South Wales</td>\n",
              "      <td>Australia</td>\n",
              "      <td>1</td>\n",
              "    </tr>\n",
              "  </tbody>\n",
              "</table>\n",
              "</div>"
            ],
            "text/plain": [
              "         Date            Query  ...        Country PopularityScore\n",
              "0  2020-01-01      coronavirus  ...  United States               1\n",
              "1  2020-01-01      coronavirus  ...  United States               1\n",
              "2  2020-01-01         p  masks  ...      Australia               1\n",
              "3  2020-01-01  ausw rtiges amt  ...        Germany               1\n",
              "4  2020-01-01         p  masks  ...      Australia               1\n",
              "\n",
              "[5 rows x 6 columns]"
            ]
          },
          "metadata": {
            "tags": []
          },
          "execution_count": 9
        }
      ]
    },
    {
      "cell_type": "code",
      "metadata": {
        "colab": {
          "base_uri": "https://localhost:8080/",
          "height": 197
        },
        "id": "kM4A24FWRUWL",
        "outputId": "a67a9a3c-441c-467c-f9e3-c77dd775da33"
      },
      "source": [
        "clean_questions1= pd.read_csv(\"clean_data.csv\")\n",
        "clean_questions1.tail()\n",
        "\n"
      ],
      "execution_count": null,
      "outputs": [
        {
          "output_type": "execute_result",
          "data": {
            "text/html": [
              "<div>\n",
              "<style scoped>\n",
              "    .dataframe tbody tr th:only-of-type {\n",
              "        vertical-align: middle;\n",
              "    }\n",
              "\n",
              "    .dataframe tbody tr th {\n",
              "        vertical-align: top;\n",
              "    }\n",
              "\n",
              "    .dataframe thead th {\n",
              "        text-align: right;\n",
              "    }\n",
              "</style>\n",
              "<table border=\"1\" class=\"dataframe\">\n",
              "  <thead>\n",
              "    <tr style=\"text-align: right;\">\n",
              "      <th></th>\n",
              "      <th>Unnamed: 0</th>\n",
              "      <th>Date</th>\n",
              "      <th>Query</th>\n",
              "      <th>IsImplicitIntent</th>\n",
              "      <th>State</th>\n",
              "      <th>Country</th>\n",
              "      <th>PopularityScore</th>\n",
              "    </tr>\n",
              "  </thead>\n",
              "  <tbody>\n",
              "    <tr>\n",
              "      <th>2949623</th>\n",
              "      <td>2949623</td>\n",
              "      <td>2020-06-30</td>\n",
              "      <td>nzta</td>\n",
              "      <td>True</td>\n",
              "      <td>Waikato</td>\n",
              "      <td>New Zealand</td>\n",
              "      <td>1</td>\n",
              "    </tr>\n",
              "    <tr>\n",
              "      <th>2949624</th>\n",
              "      <td>2949624</td>\n",
              "      <td>2020-06-30</td>\n",
              "      <td>virginia coronavirus</td>\n",
              "      <td>False</td>\n",
              "      <td>Virginia</td>\n",
              "      <td>United States</td>\n",
              "      <td>46</td>\n",
              "    </tr>\n",
              "    <tr>\n",
              "      <th>2949625</th>\n",
              "      <td>2949625</td>\n",
              "      <td>2020-06-30</td>\n",
              "      <td>de morgen</td>\n",
              "      <td>True</td>\n",
              "      <td>Brussels Region</td>\n",
              "      <td>Belgium</td>\n",
              "      <td>26</td>\n",
              "    </tr>\n",
              "    <tr>\n",
              "      <th>2949626</th>\n",
              "      <td>2949626</td>\n",
              "      <td>2020-06-30</td>\n",
              "      <td>kdhe covid</td>\n",
              "      <td>False</td>\n",
              "      <td>Kansas</td>\n",
              "      <td>United States</td>\n",
              "      <td>2</td>\n",
              "    </tr>\n",
              "    <tr>\n",
              "      <th>2949627</th>\n",
              "      <td>2949627</td>\n",
              "      <td>2020-06-30</td>\n",
              "      <td>nationwide building society</td>\n",
              "      <td>True</td>\n",
              "      <td>Lanarkshire</td>\n",
              "      <td>United Kingdom</td>\n",
              "      <td>13</td>\n",
              "    </tr>\n",
              "  </tbody>\n",
              "</table>\n",
              "</div>"
            ],
            "text/plain": [
              "         Unnamed: 0        Date  ...         Country  PopularityScore\n",
              "2949623     2949623  2020-06-30  ...     New Zealand                1\n",
              "2949624     2949624  2020-06-30  ...   United States               46\n",
              "2949625     2949625  2020-06-30  ...         Belgium               26\n",
              "2949626     2949626  2020-06-30  ...   United States                2\n",
              "2949627     2949627  2020-06-30  ...  United Kingdom               13\n",
              "\n",
              "[5 rows x 7 columns]"
            ]
          },
          "metadata": {
            "tags": []
          },
          "execution_count": 11
        }
      ]
    },
    {
      "cell_type": "code",
      "metadata": {
        "id": "mycCrTpCAu8J"
      },
      "source": [
        "clean_questions = clean_questions1.loc[clean_questions1.Query.str.contains(\"how\", na=False)]"
      ],
      "execution_count": null,
      "outputs": []
    },
    {
      "cell_type": "code",
      "metadata": {
        "colab": {
          "base_uri": "https://localhost:8080/"
        },
        "id": "cbiLuYFcSy9g",
        "outputId": "6a089a06-2dcc-4c13-e7ae-f4da022c4743"
      },
      "source": [
        "clean_questions['Query']=clean_questions['Query'].apply(str)"
      ],
      "execution_count": null,
      "outputs": [
        {
          "output_type": "stream",
          "text": [
            "/usr/local/lib/python3.7/dist-packages/ipykernel_launcher.py:1: SettingWithCopyWarning: \n",
            "A value is trying to be set on a copy of a slice from a DataFrame.\n",
            "Try using .loc[row_indexer,col_indexer] = value instead\n",
            "\n",
            "See the caveats in the documentation: https://pandas.pydata.org/pandas-docs/stable/user_guide/indexing.html#returning-a-view-versus-a-copy\n",
            "  \"\"\"Entry point for launching an IPython kernel.\n"
          ],
          "name": "stderr"
        }
      ]
    },
    {
      "cell_type": "code",
      "metadata": {
        "id": "8KtwDpEbFtjL"
      },
      "source": [
        "corpus = clean_questions.loc[(clean_questions.Country== \"United States\") & (clean_questions.Country== \"United Kingdom\")]"
      ],
      "execution_count": null,
      "outputs": []
    },
    {
      "cell_type": "code",
      "metadata": {
        "colab": {
          "base_uri": "https://localhost:8080/",
          "height": 304
        },
        "id": "71Fs4xVGPnHY",
        "outputId": "4e0d1541-5a1e-472f-f001-c680dacc83ce"
      },
      "source": [
        "from nltk.tokenize import RegexpTokenizer\n",
        "\n",
        "tokenizer = RegexpTokenizer(r'\\w+')\n",
        "\n",
        "clean_questions[\"tokens\"] = clean_questions['Query'].apply(tokenizer.tokenize)\n",
        "clean_questions.head()"
      ],
      "execution_count": null,
      "outputs": [
        {
          "output_type": "stream",
          "text": [
            "/usr/local/lib/python3.7/dist-packages/ipykernel_launcher.py:5: SettingWithCopyWarning: \n",
            "A value is trying to be set on a copy of a slice from a DataFrame.\n",
            "Try using .loc[row_indexer,col_indexer] = value instead\n",
            "\n",
            "See the caveats in the documentation: https://pandas.pydata.org/pandas-docs/stable/user_guide/indexing.html#returning-a-view-versus-a-copy\n",
            "  \"\"\"\n"
          ],
          "name": "stderr"
        },
        {
          "output_type": "execute_result",
          "data": {
            "text/html": [
              "<div>\n",
              "<style scoped>\n",
              "    .dataframe tbody tr th:only-of-type {\n",
              "        vertical-align: middle;\n",
              "    }\n",
              "\n",
              "    .dataframe tbody tr th {\n",
              "        vertical-align: top;\n",
              "    }\n",
              "\n",
              "    .dataframe thead th {\n",
              "        text-align: right;\n",
              "    }\n",
              "</style>\n",
              "<table border=\"1\" class=\"dataframe\">\n",
              "  <thead>\n",
              "    <tr style=\"text-align: right;\">\n",
              "      <th></th>\n",
              "      <th>Unnamed: 0</th>\n",
              "      <th>Date</th>\n",
              "      <th>Query</th>\n",
              "      <th>IsImplicitIntent</th>\n",
              "      <th>State</th>\n",
              "      <th>Country</th>\n",
              "      <th>PopularityScore</th>\n",
              "      <th>tokens</th>\n",
              "    </tr>\n",
              "  </thead>\n",
              "  <tbody>\n",
              "    <tr>\n",
              "      <th>8347</th>\n",
              "      <td>8347</td>\n",
              "      <td>2020-01-24</td>\n",
              "      <td>how did the coronavirus start</td>\n",
              "      <td>False</td>\n",
              "      <td>Texas</td>\n",
              "      <td>United States</td>\n",
              "      <td>1</td>\n",
              "      <td>[how, did, the, coronavirus, start]</td>\n",
              "    </tr>\n",
              "    <tr>\n",
              "      <th>9111</th>\n",
              "      <td>9111</td>\n",
              "      <td>2020-01-24</td>\n",
              "      <td>how is coronavirus spread</td>\n",
              "      <td>False</td>\n",
              "      <td>New York</td>\n",
              "      <td>United States</td>\n",
              "      <td>1</td>\n",
              "      <td>[how, is, coronavirus, spread]</td>\n",
              "    </tr>\n",
              "    <tr>\n",
              "      <th>9116</th>\n",
              "      <td>9116</td>\n",
              "      <td>2020-01-24</td>\n",
              "      <td>how is the coronavirus transmitted</td>\n",
              "      <td>False</td>\n",
              "      <td>New York</td>\n",
              "      <td>United States</td>\n",
              "      <td>1</td>\n",
              "      <td>[how, is, the, coronavirus, transmitted]</td>\n",
              "    </tr>\n",
              "    <tr>\n",
              "      <th>9346</th>\n",
              "      <td>9346</td>\n",
              "      <td>2020-01-24</td>\n",
              "      <td>how is coronavirus spread</td>\n",
              "      <td>False</td>\n",
              "      <td>Illinois</td>\n",
              "      <td>United States</td>\n",
              "      <td>1</td>\n",
              "      <td>[how, is, coronavirus, spread]</td>\n",
              "    </tr>\n",
              "    <tr>\n",
              "      <th>9356</th>\n",
              "      <td>9356</td>\n",
              "      <td>2020-01-24</td>\n",
              "      <td>how is coronavirus transmitted</td>\n",
              "      <td>False</td>\n",
              "      <td>Illinois</td>\n",
              "      <td>United States</td>\n",
              "      <td>1</td>\n",
              "      <td>[how, is, coronavirus, transmitted]</td>\n",
              "    </tr>\n",
              "  </tbody>\n",
              "</table>\n",
              "</div>"
            ],
            "text/plain": [
              "      Unnamed: 0  ...                                    tokens\n",
              "8347        8347  ...       [how, did, the, coronavirus, start]\n",
              "9111        9111  ...            [how, is, coronavirus, spread]\n",
              "9116        9116  ...  [how, is, the, coronavirus, transmitted]\n",
              "9346        9346  ...            [how, is, coronavirus, spread]\n",
              "9356        9356  ...       [how, is, coronavirus, transmitted]\n",
              "\n",
              "[5 rows x 8 columns]"
            ]
          },
          "metadata": {
            "tags": []
          },
          "execution_count": 15
        }
      ]
    },
    {
      "cell_type": "code",
      "metadata": {
        "colab": {
          "base_uri": "https://localhost:8080/"
        },
        "id": "s-ixlU4-TDww",
        "outputId": "dd9276b3-5de7-46df-b4e9-718687e639f4"
      },
      "source": [
        "from keras.preprocessing.text import Tokenizer\n",
        "from keras.preprocessing.sequence import pad_sequences\n",
        "from keras.utils import to_categorical\n",
        "\n",
        "all_words = [word for tokens in clean_questions[\"tokens\"] for word in tokens]\n",
        "sentence_lengths = [len(tokens) for tokens in clean_questions[\"tokens\"]]\n",
        "VOCAB = sorted(list(set(all_words)))\n",
        "print(\"%s words total, with a vocabulary size of %s\" % (len(all_words), len(VOCAB)))\n",
        "print(\"Max sentence length is %s\" % max(sentence_lengths))"
      ],
      "execution_count": null,
      "outputs": [
        {
          "output_type": "stream",
          "text": [
            "305112 words total, with a vocabulary size of 757\n",
            "Max sentence length is 34\n"
          ],
          "name": "stdout"
        }
      ]
    },
    {
      "cell_type": "code",
      "metadata": {
        "colab": {
          "base_uri": "https://localhost:8080/",
          "height": 605
        },
        "id": "JuJm6sStTXBy",
        "outputId": "daaf68b7-85c0-4846-c140-bf614f632565"
      },
      "source": [
        "import matplotlib.pyplot as plt\n",
        "\n",
        "fig = plt.figure(figsize=(10, 10)) \n",
        "plt.xlabel('Sentence length')\n",
        "plt.ylabel('Number of sentences')\n",
        "plt.hist(sentence_lengths)\n",
        "plt.show()\n"
      ],
      "execution_count": null,
      "outputs": [
        {
          "output_type": "display_data",
          "data": {
            "image/png": "[encoded data removed]",
            "text/plain": [
              "<Figure size 720x720 with 1 Axes>"
            ]
          },
          "metadata": {
            "tags": [],
            "needs_background": "light"
          }
        }
      ]
    },
    {
      "cell_type": "code",
      "metadata": {
        "id": "j90G_4kRWkVP"
      },
      "source": [
        "from sklearn.model_selection import train_test_split\n",
        "from sklearn.feature_extraction.text import CountVectorizer, TfidfVectorizer\n",
        "\n",
        "def cv(data):\n",
        "    Tfidf_vectorizer = TfidfVectorizer()\n",
        "\n",
        "    emb = Tfidf_vectorizer.fit_transform(data)\n",
        "\n",
        "    return emb, Tfidf_vectorizer\n",
        "\n",
        "list_corpus = clean_questions[\"Query\"].tolist()\n",
        "list_labels = clean_questions[\"IsImplicitIntent\"].tolist()\n",
        "\n",
        "X_train, X_test, y_train, y_test = train_test_split(list_corpus, list_labels, test_size=0.2, \n",
        "                                                                                random_state=40)\n",
        "\n",
        "X_train_counts, Tfidf_vectorizer = cv(X_train)\n",
        "X_test_counts = Tfidf_vectorizer.transform(X_test)"
      ],
      "execution_count": null,
      "outputs": []
    },
    {
      "cell_type": "code",
      "metadata": {
        "colab": {
          "base_uri": "https://localhost:8080/",
          "height": 917
        },
        "id": "kV-N6VtAW8-0",
        "outputId": "ba39b01e-af6b-4012-f201-e29fb179ead0"
      },
      "source": [
        "from sklearn.decomposition import PCA, TruncatedSVD\n",
        "import matplotlib\n",
        "import matplotlib.patches as mpatches\n",
        "\n",
        "\n",
        "def plot_LSA(test_data, test_labels, savepath=\"PCA_demo.csv\", plot=True):\n",
        "        lsa = TruncatedSVD(n_components=2)\n",
        "        lsa.fit(test_data)\n",
        "        lsa_scores = lsa.transform(test_data)\n",
        "        color_mapper = {label:idx for idx,label in enumerate(set(test_labels))}\n",
        "        color_column = [color_mapper[label] for label in test_labels]\n",
        "        colors = ['orange','blue','blue']\n",
        "        if plot:\n",
        "            plt.scatter(lsa_scores[:,0], lsa_scores[:,1], s=8, alpha=.8, c=test_labels, cmap=matplotlib.colors.ListedColormap(colors))\n",
        "            red_patch = mpatches.Patch(color='orange', label='Irrelevant')\n",
        "            green_patch = mpatches.Patch(color='blue', label='Corona')\n",
        "            plt.legend(handles=[red_patch, green_patch], prop={'size': 30})\n",
        "\n",
        "\n",
        "fig = plt.figure(figsize=(16, 16))          \n",
        "plot_LSA(X_train_counts, y_train)\n",
        "plt.show()\n"
      ],
      "execution_count": null,
      "outputs": [
        {
          "output_type": "display_data",
          "data": {
            "image/png": "[encoded data removed]",
            "text/plain": [
              "<Figure size 1152x1152 with 1 Axes>"
            ]
          },
          "metadata": {
            "tags": [],
            "needs_background": "light"
          }
        }
      ]
    },
    {
      "cell_type": "code",
      "metadata": {
        "id": "BfCnTDNxYZsD"
      },
      "source": [
        "from sklearn.linear_model import LogisticRegression\n",
        "\n",
        "clf = LogisticRegression(C=30.0, class_weight='balanced', solver='newton-cg', \n",
        "                         multi_class='multinomial', \n",
        "                         #n_jobs=-1,\n",
        "                         random_state=40)\n",
        "clf.fit(X_train_counts, y_train)\n",
        "\n",
        "y_predicted_counts = clf.predict(X_test_counts)\n"
      ],
      "execution_count": null,
      "outputs": []
    },
    {
      "cell_type": "code",
      "metadata": {
        "colab": {
          "base_uri": "https://localhost:8080/"
        },
        "id": "-ajCUit_Yw9X",
        "outputId": "ce1cb79e-ea12-42f7-c494-ae2b8fa6b91e"
      },
      "source": [
        "from sklearn.metrics import accuracy_score, f1_score, precision_score, recall_score, classification_report\n",
        "\n",
        "def get_metrics(y_test, y_predicted):  \n",
        "    # true positives / (true positives+false positives)\n",
        "    precision = precision_score(y_test, y_predicted, pos_label=None,\n",
        "                                    average='weighted')             \n",
        "    # true positives / (true positives + false negatives)\n",
        "    recall = recall_score(y_test, y_predicted, pos_label=None,\n",
        "                              average='weighted')\n",
        "    \n",
        "    # harmonic mean of precision and recall\n",
        "    f1 = f1_score(y_test, y_predicted, pos_label=None, average='weighted')\n",
        "    \n",
        "    # true positives + true negatives/ total\n",
        "    accuracy = accuracy_score(y_test, y_predicted)\n",
        "    return accuracy, precision, recall, f1\n",
        "\n",
        "accuracy, precision, recall, f1 = get_metrics(y_test, y_predicted_counts)\n",
        "print(\"accuracy = %.3f, precision = %.3f, recall = %.3f, f1 = %.3f\" % (accuracy, precision, recall, f1))"
      ],
      "execution_count": null,
      "outputs": [
        {
          "output_type": "stream",
          "text": [
            "accuracy = 1.000, precision = 1.000, recall = 1.000, f1 = 1.000\n"
          ],
          "name": "stdout"
        }
      ]
    },
    {
      "cell_type": "code",
      "metadata": {
        "id": "Esj-_-enB20q"
      },
      "source": [
        "import numpy as np\n",
        "import itertools\n",
        "from sklearn.metrics import confusion_matrix\n",
        "\n",
        "def plot_confusion_matrix(cm, classes,\n",
        "                          normalize=False,\n",
        "                          title='Confusion matrix',\n",
        "                          cmap=plt.cm.winter):\n",
        "    if normalize:\n",
        "        cm = cm.astype('float') / cm.sum(axis=1)[:, np.newaxis]\n",
        "    plt.imshow(cm, interpolation='nearest', cmap=cmap)\n",
        "    plt.title(title, fontsize=30)\n",
        "    plt.colorbar()\n",
        "    tick_marks = np.arange(len(classes))\n",
        "    plt.xticks(tick_marks, classes, fontsize=20)\n",
        "    plt.yticks(tick_marks, classes, fontsize=20)\n",
        "    \n",
        "    fmt = '.2f' if normalize else 'd'\n",
        "    thresh = cm.max() / 2.\n",
        "\n",
        "    for i, j in itertools.product(range(cm.shape[0]), range(cm.shape[1])):\n",
        "        plt.text(j, i, format(cm[i, j], fmt), horizontalalignment=\"center\", \n",
        "                 color=\"white\" if cm[i, j] < thresh else \"black\", fontsize=40)\n",
        "    \n",
        "    plt.tight_layout()\n",
        "    plt.ylabel('True label', fontsize=30)\n",
        "    plt.xlabel('Predicted label', fontsize=30)\n",
        "\n",
        "    return plt"
      ],
      "execution_count": null,
      "outputs": []
    },
    {
      "cell_type": "code",
      "metadata": {
        "colab": {
          "base_uri": "https://localhost:8080/",
          "height": 764
        },
        "id": "lMJ34Hb7CMDL",
        "outputId": "6485e90f-1402-46f3-fa14-968ba52a5ee5"
      },
      "source": [
        "cm = confusion_matrix(y_test, y_predicted_counts)\n",
        "fig = plt.figure(figsize=(10, 10))\n",
        "plot = plot_confusion_matrix(cm, classes=['Irrelevant','COVID','Unsure'], normalize=False, title='Confusion matrix')\n",
        "plt.show()\n",
        "print(cm)"
      ],
      "execution_count": null,
      "outputs": [
        {
          "output_type": "display_data",
          "data": {
            "image/png": "[encoded data removed]",
            "text/plain": [
              "<Figure size 720x720 with 2 Axes>"
            ]
          },
          "metadata": {
            "tags": [],
            "needs_background": "light"
          }
        },
        {
          "output_type": "stream",
          "text": [
            "[[8129    0]\n",
            " [   1 2162]]\n"
          ],
          "name": "stdout"
        }
      ]
    },
    {
      "cell_type": "code",
      "metadata": {
        "id": "DKyLMUpqCaBX"
      },
      "source": [
        "def get_most_important_features(vectorizer, model, n=5):\n",
        "    index_to_word = {v:k for k,v in vectorizer.vocabulary_.items()}\n",
        "    \n",
        "    # loop for each class\n",
        "    classes ={}\n",
        "    for class_index in range(model.coef_.shape[0]):\n",
        "        word_importances = [(el, index_to_word[i]) for i,el in enumerate(model.coef_[class_index])]\n",
        "        sorted_coeff = sorted(word_importances, key = lambda x : x[0], reverse=True)\n",
        "        tops = sorted(sorted_coeff[-n:], key = lambda x : x[0])\n",
        "        bottom = sorted_coeff[:n]\n",
        "        classes[class_index] = {\n",
        "            'tops':tops,\n",
        "            'bottom':bottom\n",
        "        }\n",
        "    return classes\n",
        "\n",
        "importance = get_most_important_features(Tfidf_vectorizer, clf, 15)"
      ],
      "execution_count": null,
      "outputs": []
    },
    {
      "cell_type": "code",
      "metadata": {
        "colab": {
          "base_uri": "https://localhost:8080/"
        },
        "id": "8zrJBNmPGV2S",
        "outputId": "e17d9394-57c0-4496-9be7-27154c36b9da"
      },
      "source": [
        "importance\n"
      ],
      "execution_count": null,
      "outputs": [
        {
          "output_type": "execute_result",
          "data": {
            "text/plain": [
              "{0: {'bottom': [(5.502266189580958, 'unemployment'),\n",
              "   (4.265551931868567, 'lockdown'),\n",
              "   (3.797783846448928, 'flu'),\n",
              "   (3.7205852756478563, 'to'),\n",
              "   (3.540845724089874, 'check'),\n",
              "   (3.288088229978159, 'stimulus'),\n",
              "   (3.258524613693463, 'apply'),\n",
              "   (2.909784352803488, 'die'),\n",
              "   (2.8942064868523403, 'file'),\n",
              "   (2.876451364840668, 'closed'),\n",
              "   (2.813923344014836, 'hand'),\n",
              "   (2.813923344014836, 'sanitizer'),\n",
              "   (2.7631700660240415, 'browne'),\n",
              "   (2.7631700660240415, 'rodney'),\n",
              "   (2.6139153204802725, 'schools')],\n",
              "  'tops': [(-26.955124532514922, 'coronavirus'),\n",
              "   (-5.8095265878602005, 'covid'),\n",
              "   (-5.630802591519913, 'corona'),\n",
              "   (-2.550986901069695, 'for'),\n",
              "   (-2.410087829247664, 'due'),\n",
              "   (-2.2638232483939404, 'in'),\n",
              "   (-2.102405804966886, 'corna'),\n",
              "   (-1.745713488845286, 'cases'),\n",
              "   (-1.7310631823547429, 'from'),\n",
              "   (-1.5902564160240054, 'survive'),\n",
              "   (-1.5190779282256188, 'of'),\n",
              "   (-1.511560446430542, 'does'),\n",
              "   (-1.418605810340414, 'objects'),\n",
              "   (-1.2932967361828016, 'corovirus'),\n",
              "   (-1.2689958645774422, 'outbreak')]}}"
            ]
          },
          "metadata": {
            "tags": []
          },
          "execution_count": 27
        }
      ]
    },
    {
      "cell_type": "code",
      "metadata": {
        "id": "dYhYrdFUCjQL"
      },
      "source": [
        "  def plot_important_words(top_scores, top_words, bottom_scores, bottom_words, name):\n",
        "    y_pos = np.arange(len(top_words))\n",
        "    top_pairs = [(a,b) for a,b in zip(top_words, top_scores)]\n",
        "    top_pairs = sorted(top_pairs, key=lambda x: x[1])\n",
        "    \n",
        "    bottom_pairs = [(a,b) for a,b in zip(bottom_words, bottom_scores)]\n",
        "    bottom_pairs = sorted(bottom_pairs, key=lambda x: x[1], reverse=True)\n",
        "    \n",
        "    top_words = [a[0] for a in top_pairs]\n",
        "    top_scores = [a[1] for a in top_pairs]\n",
        "    \n",
        "    bottom_words = [a[0] for a in bottom_pairs]\n",
        "    bottom_scores = [a[1] for a in bottom_pairs]\n",
        "    \n",
        "    fig = plt.figure(figsize=(10, 10))  \n",
        "\n",
        "    plt.subplot(121)\n",
        "    plt.barh(y_pos,bottom_scores, align='center', alpha=0.5)\n",
        "    plt.title('Relevant', fontsize=20)\n",
        "    plt.yticks(y_pos, bottom_words, fontsize=14)\n",
        "    plt.suptitle('Key words', fontsize=16)\n",
        "    plt.xlabel('Importance', fontsize=20)\n",
        "    \n",
        "    plt.subplot(122)\n",
        "    plt.barh(y_pos,top_scores, align='center', alpha=0.5)\n",
        "    plt.title('Irrelevant', fontsize=20)\n",
        "    plt.yticks(y_pos, top_words, fontsize=14)\n",
        "    plt.suptitle(name, fontsize=16)\n",
        "    plt.xlabel('Importance', fontsize=20)\n",
        "    \n",
        "    plt.subplots_adjust(wspace=0.8)\n",
        "    plt.show()\n",
        "\n"
      ],
      "execution_count": null,
      "outputs": []
    },
    {
      "cell_type": "code",
      "metadata": {
        "colab": {
          "base_uri": "https://localhost:8080/",
          "height": 685
        },
        "id": "PX8HxO07DZCq",
        "outputId": "ef5cb9df-4364-41d2-edad-79c37384ae53"
      },
      "source": [
        "top_scores = [a[0] for a in importance[0]['tops']]\n",
        "top_words = [a[1] for a in importance[0]['tops']]\n",
        "bottom_scores = [a[0] for a in importance[0]['bottom']]\n",
        "bottom_words = [a[1] for a in importance[0]['bottom']]\n",
        "\n",
        "plot_important_words(top_scores, top_words, bottom_scores, bottom_words, \"Most important words for relevance\")"
      ],
      "execution_count": null,
      "outputs": [
        {
          "output_type": "display_data",
          "data": {
            "image/png": "[encoded data removed]",
            "text/plain": [
              "<Figure size 720x720 with 2 Axes>"
            ]
          },
          "metadata": {
            "tags": [],
            "needs_background": "light"
          }
        }
      ]
    },
    {
      "cell_type": "code",
      "metadata": {
        "colab": {
          "base_uri": "https://localhost:8080/"
        },
        "id": "DT9F5DraojLx",
        "outputId": "168b590e-7806-47fc-83eb-9f1e801cb0f8"
      },
      "source": [
        "#define vocab\n",
        "from collections import Counter\n",
        "vocab = Counter()\n",
        "\n",
        "min_occurane = 2\n",
        "tokens = [k for k,c in vocab.items() if c >= min_occurane]\n",
        "print(len(clean_questions['tokens']))"
      ],
      "execution_count": null,
      "outputs": [
        {
          "output_type": "stream",
          "text": [
            "51456\n"
          ],
          "name": "stdout"
        }
      ]
    },
    {
      "cell_type": "code",
      "metadata": {
        "id": "B3XJExy2MZ5e"
      },
      "source": [
        "def get_average_word2vec(tokens_list, vector, generate_missing=False, k=300):\n",
        "    if len(tokens_list)<1:\n",
        "        return np.zeros(k)\n",
        "    if generate_missing:\n",
        "        vectorized = [vector[word] if word in vector else np.random.rand(k) for word in tokens_list]\n",
        "    else:\n",
        "        vectorized = [vector[word] if word in vector else np.zeros(k) for word in tokens_list]\n",
        "    length = len(vectorized)\n",
        "    summed = np.sum(vectorized, axis=0)\n",
        "    averaged = np.divide(summed, length)\n",
        "    return averaged\n",
        "\n",
        "def get_word2vec_embeddings(vectors, clean_questions, generate_missing=False):\n",
        "    embeddings = clean_questions['tokens'].apply(lambda x: get_average_word2vec(x, vectors, \n",
        "                                                                                generate_missing=generate_missing))\n",
        "    return list(embeddings)"
      ],
      "execution_count": null,
      "outputs": []
    },
    {
      "cell_type": "markdown",
      "metadata": {
        "id": "9OqXnJDZENKF"
      },
      "source": [
        "**embedding search query **"
      ]
    },
    {
      "cell_type": "code",
      "metadata": {
        "id": "atfrU4mZMZ0t"
      },
      "source": [
        "#embeddings = get_word2vec_embeddings(word2vec, clean_questions)\n",
        "#X_train_word2vec, X_test_word2vec, y_train_word2vec, y_test_word2vec = train_test_split(embeddings, list_labels, \n",
        "                                                                                        test_size=0.2, random_state=40)"
      ],
      "execution_count": null,
      "outputs": []
    },
    {
      "cell_type": "code",
      "metadata": {
        "id": "UlZGoSYBF7g7"
      },
      "source": [
        "embeddings = get_word2vec_embeddings(word2vec, clean_questions)\n",
        "\n"
      ],
      "execution_count": null,
      "outputs": []
    },
    {
      "cell_type": "markdown",
      "metadata": {
        "id": "LKmci7RYEWQ5"
      },
      "source": [
        "**embedding news data **"
      ]
    },
    {
      "cell_type": "code",
      "metadata": {
        "id": "8zOFQjunElEI"
      },
      "source": [
        "import os\n",
        "import tweepy as tw\n",
        "import pandas as pd\n",
        "import tweepy,json"
      ],
      "execution_count": null,
      "outputs": []
    },
    {
      "cell_type": "code",
      "metadata": {
        "id": "aMJsFixTElRp",
        "outputId": "287e1a76-8eb9-4854-fe3a-bf02572e1881",
        "colab": {
          "base_uri": "https://localhost:8080/",
          "height": 221
        }
      },
      "source": [
        "consumer_key= ''\n",
        "consumer_secret= ''\n",
        "access_token= ''\n",
        "access_token_secret= ''\n",
        "\n",
        "auth= tweepy.OAuthHandler(consumer_key,consumer_secret)\n",
        "auth.set_access_token(access_token,access_token_secret)"
      ],
      "execution_count": 1,
      "outputs": [
        {
          "output_type": "error",
          "ename": "NameError",
          "evalue": "ignored",
          "traceback": [
            "\u001b[0;31m---------------------------------------------------------------------------\u001b[0m",
            "\u001b[0;31mNameError\u001b[0m                                 Traceback (most recent call last)",
            "\u001b[0;32m<ipython-input-1-be6349ee78a0>\u001b[0m in \u001b[0;36m<module>\u001b[0;34m()\u001b[0m\n\u001b[1;32m      4\u001b[0m \u001b[0maccess_token_secret\u001b[0m\u001b[0;34m=\u001b[0m \u001b[0;34m''\u001b[0m\u001b[0;34m\u001b[0m\u001b[0;34m\u001b[0m\u001b[0m\n\u001b[1;32m      5\u001b[0m \u001b[0;34m\u001b[0m\u001b[0m\n\u001b[0;32m----> 6\u001b[0;31m \u001b[0mauth\u001b[0m\u001b[0;34m=\u001b[0m \u001b[0mtweepy\u001b[0m\u001b[0;34m.\u001b[0m\u001b[0mOAuthHandler\u001b[0m\u001b[0;34m(\u001b[0m\u001b[0mconsumer_key\u001b[0m\u001b[0;34m,\u001b[0m\u001b[0mconsumer_secret\u001b[0m\u001b[0;34m)\u001b[0m\u001b[0;34m\u001b[0m\u001b[0;34m\u001b[0m\u001b[0m\n\u001b[0m\u001b[1;32m      7\u001b[0m \u001b[0mauth\u001b[0m\u001b[0;34m.\u001b[0m\u001b[0mset_access_token\u001b[0m\u001b[0;34m(\u001b[0m\u001b[0maccess_token\u001b[0m\u001b[0;34m,\u001b[0m\u001b[0maccess_token_secret\u001b[0m\u001b[0;34m)\u001b[0m\u001b[0;34m\u001b[0m\u001b[0;34m\u001b[0m\u001b[0m\n",
            "\u001b[0;31mNameError\u001b[0m: name 'tweepy' is not defined"
          ]
        }
      ]
    },
    {
      "cell_type": "code",
      "metadata": {
        "id": "ES_daqsuElb2"
      },
      "source": [
        "auth = tw.OAuthHandler(consumer_key, consumer_secret)\n",
        "auth.set_access_token(access_token, access_token_secret)\n",
        "api = tw.API(auth, wait_on_rate_limit=True)"
      ],
      "execution_count": null,
      "outputs": []
    },
    {
      "cell_type": "code",
      "metadata": {
        "id": "hqMdPWTvElgT"
      },
      "source": [
        "# Define the search term and the date_since date as variables\n",
        "search_words= \"coronavirus OR covid OR corona OR covid19 OR facemask OR sanitizer OR social-distancing -filter:retweets\"\n",
        "date_since = \"2021-01-01\""
      ],
      "execution_count": null,
      "outputs": []
    },
    {
      "cell_type": "code",
      "metadata": {
        "id": "kPuj6L6xEljZ"
      },
      "source": [
        "# Collect tweets\n",
        "tweets = tw.Cursor(api.search,\n",
        "                       q=search_words,\n",
        "                       lang=\"en\",\n",
        "                      \n",
        "                       since=date_since).items(5)\n",
        "\n",
        "# Collect a list of tweets\n",
        "tweett =[tweet.text for tweet in tweets]\n",
        "\n"
      ],
      "execution_count": null,
      "outputs": []
    },
    {
      "cell_type": "code",
      "metadata": {
        "id": "ue6GlBVfElmU"
      },
      "source": [
        "tweets = tw.Cursor(api.search, \n",
        "                           q=search_words,\n",
        "                           lang=\"en\",\n",
        "                           since=date_since).items(1000)\n",
        "\n",
        "tweett = [[tweet.user.screen_name, tweet.user.location, tweet.created_at, tweet.text] for tweet in tweets]\n"
      ],
      "execution_count": null,
      "outputs": []
    },
    {
      "cell_type": "code",
      "metadata": {
        "id": "gj_KX3msElo0"
      },
      "source": [
        "tweet_text = pd.DataFrame(data=tweett, \n",
        "                    columns=['user', 'location', 'date', 'text'])\n",
        "\n",
        "\n",
        "\n"
      ],
      "execution_count": null,
      "outputs": []
    },
    {
      "cell_type": "code",
      "metadata": {
        "id": "0_izAx8oFQAE"
      },
      "source": [
        " from pandas import Series\n",
        "  \n",
        "#tweet_text['text'].str.split('((?:<a href=\")?https?://\\S+[^\\s,.:;])').apply(Series, 1).stack()\n",
        "def faster(df):\n",
        "    s = tweet_text['text'].str.split('((?:<a href=\")?https?://\\S+[^\\s,.:;])', expand=True).stack()\n",
        "    i = s.index.get_level_values(0)\n",
        "    df2 = df.loc[i].copy()\n",
        "    df2[\"link\"] = s.values\n",
        "    return df2\n",
        "\n",
        "new=faster(tweet_text)\n",
        "new\n",
        "tweet_text1=new[new['link'].str.contains(\"https\")]\n",
        "tweet_text1 = standardize_text(tweet_text1, \"text\")\n"
      ],
      "execution_count": null,
      "outputs": []
    },
    {
      "cell_type": "code",
      "metadata": {
        "colab": {
          "base_uri": "https://localhost:8080/",
          "height": 406
        },
        "id": "ja0pBZsZeJqm",
        "outputId": "914b339c-25c7-4081-fb3f-2190d0d136bf"
      },
      "source": [
        "\n",
        "tweet_text1"
      ],
      "execution_count": null,
      "outputs": [
        {
          "output_type": "execute_result",
          "data": {
            "text/html": [
              "<div>\n",
              "<style scoped>\n",
              "    .dataframe tbody tr th:only-of-type {\n",
              "        vertical-align: middle;\n",
              "    }\n",
              "\n",
              "    .dataframe tbody tr th {\n",
              "        vertical-align: top;\n",
              "    }\n",
              "\n",
              "    .dataframe thead th {\n",
              "        text-align: right;\n",
              "    }\n",
              "</style>\n",
              "<table border=\"1\" class=\"dataframe\">\n",
              "  <thead>\n",
              "    <tr style=\"text-align: right;\">\n",
              "      <th></th>\n",
              "      <th>user</th>\n",
              "      <th>location</th>\n",
              "      <th>date</th>\n",
              "      <th>text</th>\n",
              "      <th>link</th>\n",
              "    </tr>\n",
              "  </thead>\n",
              "  <tbody>\n",
              "    <tr>\n",
              "      <th>0</th>\n",
              "      <td>sharmankdee</td>\n",
              "      <td></td>\n",
              "      <td>2021-05-04 12:52:44</td>\n",
              "      <td>sir we appreciate dp efforts but same time ...</td>\n",
              "      <td>https://t.co/dmJlkoRInj</td>\n",
              "    </tr>\n",
              "    <tr>\n",
              "      <th>1</th>\n",
              "      <td>ESPNFC</td>\n",
              "      <td></td>\n",
              "      <td>2021-05-04 12:52:44</td>\n",
              "      <td>la liga has opened an investigation into wheth...</td>\n",
              "      <td>https://t.co/70UJX0AqvX</td>\n",
              "    </tr>\n",
              "    <tr>\n",
              "      <th>2</th>\n",
              "      <td>JonLS53</td>\n",
              "      <td>East Anglia</td>\n",
              "      <td>2021-05-04 12:52:44</td>\n",
              "      <td>not much sign of labour here  not even a lea...</td>\n",
              "      <td>https://t.co/b6PbMEOBr1</td>\n",
              "    </tr>\n",
              "    <tr>\n",
              "      <th>3</th>\n",
              "      <td>CDNewsDispatch</td>\n",
              "      <td></td>\n",
              "      <td>2021-05-04 12:52:44</td>\n",
              "      <td>madrid voters go to the polls in covid influen...</td>\n",
              "      <td>https://t.co/dWljVJN7z3</td>\n",
              "    </tr>\n",
              "    <tr>\n",
              "      <th>4</th>\n",
              "      <td>bihar__students</td>\n",
              "      <td></td>\n",
              "      <td>2021-05-04 12:52:43</td>\n",
              "      <td>try to understand the situation here   ipl is ...</td>\n",
              "      <td>https://t.co/UudypKpvGe</td>\n",
              "    </tr>\n",
              "    <tr>\n",
              "      <th>...</th>\n",
              "      <td>...</td>\n",
              "      <td>...</td>\n",
              "      <td>...</td>\n",
              "      <td>...</td>\n",
              "      <td>...</td>\n",
              "    </tr>\n",
              "    <tr>\n",
              "      <th>996</th>\n",
              "      <td>trentchambers4</td>\n",
              "      <td></td>\n",
              "      <td>2021-05-04 12:49:33</td>\n",
              "      <td>bureaucratic delays in distributing foreign me...</td>\n",
              "      <td>https://t.co/yDkG95eA74</td>\n",
              "    </tr>\n",
              "    <tr>\n",
              "      <th>997</th>\n",
              "      <td>Robert_Andrew9</td>\n",
              "      <td>U.S</td>\n",
              "      <td>2021-05-04 12:49:33</td>\n",
              "      <td>launchzone is the flagship project on  bsc   ...</td>\n",
              "      <td>https://t.co/OCM2LUHeg5</td>\n",
              "    </tr>\n",
              "    <tr>\n",
              "      <th>998</th>\n",
              "      <td>Slabodkin</td>\n",
              "      <td></td>\n",
              "      <td>2021-05-04 12:49:32</td>\n",
              "      <td>mit technology review put   at home  covid  te...</td>\n",
              "      <td>https://t.co/XMFzqzcGqX…</td>\n",
              "    </tr>\n",
              "    <tr>\n",
              "      <th>998</th>\n",
              "      <td>Slabodkin</td>\n",
              "      <td></td>\n",
              "      <td>2021-05-04 12:49:32</td>\n",
              "      <td>mit technology review put   at home  covid  te...</td>\n",
              "      <td>https://t.co/8CWwXkoTp2</td>\n",
              "    </tr>\n",
              "    <tr>\n",
              "      <th>999</th>\n",
              "      <td>DrawingRoomNYC</td>\n",
              "      <td>Manhattan, NY</td>\n",
              "      <td>2021-05-04 12:49:32</td>\n",
              "      <td>proud to announce a new short film today  made...</td>\n",
              "      <td>https://t.co/VZ8HCwLyqL</td>\n",
              "    </tr>\n",
              "  </tbody>\n",
              "</table>\n",
              "<p>889 rows × 5 columns</p>\n",
              "</div>"
            ],
            "text/plain": [
              "                user  ...                      link\n",
              "0        sharmankdee  ...   https://t.co/dmJlkoRInj\n",
              "1             ESPNFC  ...   https://t.co/70UJX0AqvX\n",
              "2            JonLS53  ...   https://t.co/b6PbMEOBr1\n",
              "3     CDNewsDispatch  ...   https://t.co/dWljVJN7z3\n",
              "4    bihar__students  ...   https://t.co/UudypKpvGe\n",
              "..               ...  ...                       ...\n",
              "996   trentchambers4  ...   https://t.co/yDkG95eA74\n",
              "997   Robert_Andrew9  ...   https://t.co/OCM2LUHeg5\n",
              "998        Slabodkin  ...  https://t.co/XMFzqzcGqX…\n",
              "998        Slabodkin  ...   https://t.co/8CWwXkoTp2\n",
              "999   DrawingRoomNYC  ...   https://t.co/VZ8HCwLyqL\n",
              "\n",
              "[889 rows x 5 columns]"
            ]
          },
          "metadata": {
            "tags": []
          },
          "execution_count": 93
        }
      ]
    },
    {
      "cell_type": "code",
      "metadata": {
        "colab": {
          "base_uri": "https://localhost:8080/",
          "height": 513
        },
        "id": "zxHZzXKIJRAX",
        "outputId": "3d6b59d9-b962-4655-e475-43e29770cc80"
      },
      "source": [
        "from nltk.tokenize import RegexpTokenizer\n",
        "\n",
        "tokenizer = RegexpTokenizer(r'\\w+')\n",
        "\n",
        "tweet_text1 [\"tokens\"] = tweet_text1 [\"text\"].apply(tokenizer.tokenize)\n",
        "\n",
        "tweet_text1 "
      ],
      "execution_count": null,
      "outputs": [
        {
          "output_type": "stream",
          "text": [
            "/usr/local/lib/python3.7/dist-packages/ipykernel_launcher.py:5: SettingWithCopyWarning: \n",
            "A value is trying to be set on a copy of a slice from a DataFrame.\n",
            "Try using .loc[row_indexer,col_indexer] = value instead\n",
            "\n",
            "See the caveats in the documentation: https://pandas.pydata.org/pandas-docs/stable/user_guide/indexing.html#returning-a-view-versus-a-copy\n",
            "  \"\"\"\n"
          ],
          "name": "stderr"
        },
        {
          "output_type": "execute_result",
          "data": {
            "text/html": [
              "<div>\n",
              "<style scoped>\n",
              "    .dataframe tbody tr th:only-of-type {\n",
              "        vertical-align: middle;\n",
              "    }\n",
              "\n",
              "    .dataframe tbody tr th {\n",
              "        vertical-align: top;\n",
              "    }\n",
              "\n",
              "    .dataframe thead th {\n",
              "        text-align: right;\n",
              "    }\n",
              "</style>\n",
              "<table border=\"1\" class=\"dataframe\">\n",
              "  <thead>\n",
              "    <tr style=\"text-align: right;\">\n",
              "      <th></th>\n",
              "      <th>user</th>\n",
              "      <th>location</th>\n",
              "      <th>date</th>\n",
              "      <th>text</th>\n",
              "      <th>link</th>\n",
              "      <th>tokens</th>\n",
              "    </tr>\n",
              "  </thead>\n",
              "  <tbody>\n",
              "    <tr>\n",
              "      <th>0</th>\n",
              "      <td>sharmankdee</td>\n",
              "      <td></td>\n",
              "      <td>2021-05-04 12:52:44</td>\n",
              "      <td>sir we appreciate dp efforts but same time ...</td>\n",
              "      <td>https://t.co/dmJlkoRInj</td>\n",
              "      <td>[sir, we, appreciate, dp, efforts, but, same, ...</td>\n",
              "    </tr>\n",
              "    <tr>\n",
              "      <th>1</th>\n",
              "      <td>ESPNFC</td>\n",
              "      <td></td>\n",
              "      <td>2021-05-04 12:52:44</td>\n",
              "      <td>la liga has opened an investigation into wheth...</td>\n",
              "      <td>https://t.co/70UJX0AqvX</td>\n",
              "      <td>[la, liga, has, opened, an, investigation, int...</td>\n",
              "    </tr>\n",
              "    <tr>\n",
              "      <th>2</th>\n",
              "      <td>JonLS53</td>\n",
              "      <td>East Anglia</td>\n",
              "      <td>2021-05-04 12:52:44</td>\n",
              "      <td>not much sign of labour here  not even a lea...</td>\n",
              "      <td>https://t.co/b6PbMEOBr1</td>\n",
              "      <td>[not, much, sign, of, labour, here, not, even,...</td>\n",
              "    </tr>\n",
              "    <tr>\n",
              "      <th>3</th>\n",
              "      <td>CDNewsDispatch</td>\n",
              "      <td></td>\n",
              "      <td>2021-05-04 12:52:44</td>\n",
              "      <td>madrid voters go to the polls in covid influen...</td>\n",
              "      <td>https://t.co/dWljVJN7z3</td>\n",
              "      <td>[madrid, voters, go, to, the, polls, in, covid...</td>\n",
              "    </tr>\n",
              "    <tr>\n",
              "      <th>4</th>\n",
              "      <td>bihar__students</td>\n",
              "      <td></td>\n",
              "      <td>2021-05-04 12:52:43</td>\n",
              "      <td>try to understand the situation here   ipl is ...</td>\n",
              "      <td>https://t.co/UudypKpvGe</td>\n",
              "      <td>[try, to, understand, the, situation, here, ip...</td>\n",
              "    </tr>\n",
              "    <tr>\n",
              "      <th>...</th>\n",
              "      <td>...</td>\n",
              "      <td>...</td>\n",
              "      <td>...</td>\n",
              "      <td>...</td>\n",
              "      <td>...</td>\n",
              "      <td>...</td>\n",
              "    </tr>\n",
              "    <tr>\n",
              "      <th>996</th>\n",
              "      <td>trentchambers4</td>\n",
              "      <td></td>\n",
              "      <td>2021-05-04 12:49:33</td>\n",
              "      <td>bureaucratic delays in distributing foreign me...</td>\n",
              "      <td>https://t.co/yDkG95eA74</td>\n",
              "      <td>[bureaucratic, delays, in, distributing, forei...</td>\n",
              "    </tr>\n",
              "    <tr>\n",
              "      <th>997</th>\n",
              "      <td>Robert_Andrew9</td>\n",
              "      <td>U.S</td>\n",
              "      <td>2021-05-04 12:49:33</td>\n",
              "      <td>launchzone is the flagship project on  bsc   ...</td>\n",
              "      <td>https://t.co/OCM2LUHeg5</td>\n",
              "      <td>[launchzone, is, the, flagship, project, on, b...</td>\n",
              "    </tr>\n",
              "    <tr>\n",
              "      <th>998</th>\n",
              "      <td>Slabodkin</td>\n",
              "      <td></td>\n",
              "      <td>2021-05-04 12:49:32</td>\n",
              "      <td>mit technology review put   at home  covid  te...</td>\n",
              "      <td>https://t.co/XMFzqzcGqX…</td>\n",
              "      <td>[mit, technology, review, put, at, home, covid...</td>\n",
              "    </tr>\n",
              "    <tr>\n",
              "      <th>998</th>\n",
              "      <td>Slabodkin</td>\n",
              "      <td></td>\n",
              "      <td>2021-05-04 12:49:32</td>\n",
              "      <td>mit technology review put   at home  covid  te...</td>\n",
              "      <td>https://t.co/8CWwXkoTp2</td>\n",
              "      <td>[mit, technology, review, put, at, home, covid...</td>\n",
              "    </tr>\n",
              "    <tr>\n",
              "      <th>999</th>\n",
              "      <td>DrawingRoomNYC</td>\n",
              "      <td>Manhattan, NY</td>\n",
              "      <td>2021-05-04 12:49:32</td>\n",
              "      <td>proud to announce a new short film today  made...</td>\n",
              "      <td>https://t.co/VZ8HCwLyqL</td>\n",
              "      <td>[proud, to, announce, a, new, short, film, tod...</td>\n",
              "    </tr>\n",
              "  </tbody>\n",
              "</table>\n",
              "<p>889 rows × 6 columns</p>\n",
              "</div>"
            ],
            "text/plain": [
              "                user  ...                                             tokens\n",
              "0        sharmankdee  ...  [sir, we, appreciate, dp, efforts, but, same, ...\n",
              "1             ESPNFC  ...  [la, liga, has, opened, an, investigation, int...\n",
              "2            JonLS53  ...  [not, much, sign, of, labour, here, not, even,...\n",
              "3     CDNewsDispatch  ...  [madrid, voters, go, to, the, polls, in, covid...\n",
              "4    bihar__students  ...  [try, to, understand, the, situation, here, ip...\n",
              "..               ...  ...                                                ...\n",
              "996   trentchambers4  ...  [bureaucratic, delays, in, distributing, forei...\n",
              "997   Robert_Andrew9  ...  [launchzone, is, the, flagship, project, on, b...\n",
              "998        Slabodkin  ...  [mit, technology, review, put, at, home, covid...\n",
              "998        Slabodkin  ...  [mit, technology, review, put, at, home, covid...\n",
              "999   DrawingRoomNYC  ...  [proud, to, announce, a, new, short, film, tod...\n",
              "\n",
              "[889 rows x 6 columns]"
            ]
          },
          "metadata": {
            "tags": []
          },
          "execution_count": 94
        }
      ]
    },
    {
      "cell_type": "code",
      "metadata": {
        "id": "OlradVq2J19e"
      },
      "source": [
        ""
      ],
      "execution_count": null,
      "outputs": []
    },
    {
      "cell_type": "markdown",
      "metadata": {
        "id": "FhuuSvjcGGNg"
      },
      "source": [
        "**bold text** embedding both data"
      ]
    },
    {
      "cell_type": "code",
      "metadata": {
        "id": "dGVjB3_aINu7"
      },
      "source": [
        "def get_average_word2vec(tokens_list, vector, generate_missing=False, k=300):\n",
        "    if len(tokens_list)<1:\n",
        "        return np.zeros(k)\n",
        "    if generate_missing:\n",
        "        vectorized = [vector[word] if word in vector else np.random.rand(k) for word in tokens_list]\n",
        "    else:\n",
        "        vectorized = [vector[word] if word in vector else np.zeros(k) for word in tokens_list]\n",
        "    length = len(vectorized)\n",
        "    summed = np.sum(vectorized, axis=0)\n",
        "    averaged = np.divide(summed, length)\n",
        "    return averaged\n",
        "\n",
        "\n",
        "def get_word2vec_embeddings1(vectors, mediuim_df, generate_missing=False):\n",
        "    embeddings1 = mediuim_df['tokens'].apply(lambda x: get_average_word2vec(x, vectors, \n",
        "                                                                                generate_missing=generate_missing))\n",
        "    return list(embeddings1)"
      ],
      "execution_count": null,
      "outputs": []
    },
    {
      "cell_type": "code",
      "metadata": {
        "id": "MzjLypcYISPL"
      },
      "source": [
        "embeddings2= get_word2vec_embeddings1(word2vec, tweet_text1)\n",
        "#embeddings2"
      ],
      "execution_count": null,
      "outputs": []
    },
    {
      "cell_type": "code",
      "metadata": {
        "colab": {
          "base_uri": "https://localhost:8080/"
        },
        "id": "_X1QavzdF7x_",
        "outputId": "ebc0a18b-33b3-4b2c-c567-cd6fdc208313"
      },
      "source": [
        "from scipy.spatial.distance import cosine\n",
        "\n",
        "# Calculating the distance between the\n",
        "# embeddings of 'bank' in all the\n",
        "# given contexts of the word\n",
        "\n",
        "list_of_distances = []\n",
        "for text1, embed1 in zip(clean_questions[\"Query\"], embeddings):\n",
        "    for text2, embed2, link in zip(tweet_text1['text'], embeddings2, tweet_text1[\"link\"]):\n",
        "        cos_dist =1- cosine(embed1, embed2)\n",
        "      \n",
        "        list_of_distances.append([text1, text2, cos_dist, link])\n",
        "\n",
        "distances_df = pd.DataFrame(list_of_distances, columns=['text1', 'text2', 'distance', \"link\"]).dropna()\n",
        "diss = distances_df.sort_values(\n",
        "     by=\"distance\",\n",
        "     ascending=False\n",
        " )\n",
        "\n",
        "\n",
        "diss"
      ],
      "execution_count": null,
      "outputs": [
        {
          "output_type": "stream",
          "text": [
            "/usr/local/lib/python3.7/dist-packages/scipy/spatial/distance.py:720: RuntimeWarning: invalid value encountered in double_scalars\n",
            "  dist = 1.0 - uv / np.sqrt(uu * vv)\n"
          ],
          "name": "stderr"
        }
      ]
    },
    {
      "cell_type": "code",
      "metadata": {
        "colab": {
          "base_uri": "https://localhost:8080/",
          "height": 185
        },
        "id": "sJzV1JitF8QL",
        "outputId": "76df506e-4672-4633-add4-749ca1c6e3c0"
      },
      "source": [
        "result_df = diss.drop_duplicates(subset='text2')\n",
        "result_df"
      ],
      "execution_count": null,
      "outputs": [
        {
          "output_type": "error",
          "ename": "NameError",
          "evalue": "ignored",
          "traceback": [
            "\u001b[0;31m---------------------------------------------------------------------------\u001b[0m",
            "\u001b[0;31mNameError\u001b[0m                                 Traceback (most recent call last)",
            "\u001b[0;32m<ipython-input-1-33a7fec65ada>\u001b[0m in \u001b[0;36m<module>\u001b[0;34m()\u001b[0m\n\u001b[0;32m----> 1\u001b[0;31m \u001b[0mresult_df\u001b[0m \u001b[0;34m=\u001b[0m \u001b[0mdiss\u001b[0m\u001b[0;34m.\u001b[0m\u001b[0mdrop_duplicates\u001b[0m\u001b[0;34m(\u001b[0m\u001b[0msubset\u001b[0m\u001b[0;34m=\u001b[0m\u001b[0;34m'text2'\u001b[0m\u001b[0;34m)\u001b[0m\u001b[0;34m\u001b[0m\u001b[0;34m\u001b[0m\u001b[0m\n\u001b[0m\u001b[1;32m      2\u001b[0m \u001b[0mresult_df\u001b[0m\u001b[0;34m\u001b[0m\u001b[0;34m\u001b[0m\u001b[0m\n",
            "\u001b[0;31mNameError\u001b[0m: name 'diss' is not defined"
          ]
        }
      ]
    },
    {
      "cell_type": "code",
      "metadata": {
        "colab": {
          "base_uri": "https://localhost:8080/",
          "height": 917
        },
        "id": "VFvhQKZ1MZwX",
        "outputId": "7a59b879-a849-4e67-acc5-ed4f73e23d45"
      },
      "source": [
        "fig = plt.figure(figsize=(16, 16))          \n",
        "plot_LSA(embeddings, list_labels)\n",
        "plt.show()"
      ],
      "execution_count": null,
      "outputs": [
        {
          "output_type": "display_data",
          "data": {
            "image/png": "[encoded data removed]",
            "text/plain": [
              "<Figure size 1152x1152 with 1 Axes>"
            ]
          },
          "metadata": {
            "tags": []
          }
        }
      ]
    },
    {
      "cell_type": "code",
      "metadata": {
        "colab": {
          "base_uri": "https://localhost:8080/"
        },
        "id": "imgGUU7wKJRm",
        "outputId": "91420352-45f6-474c-f877-515c9a371eb0"
      },
      "source": [
        "from keras.preprocessing.text import Tokenizer\n",
        "from keras.preprocessing.sequence import pad_sequences\n",
        "from keras.utils import to_categorical\n",
        "\n",
        "EMBEDDING_DIM = 300\n",
        "MAX_SEQUENCE_LENGTH = 35\n",
        "VOCAB_SIZE = len(VOCAB)\n",
        "\n",
        "VALIDATION_SPLIT=.2\n",
        "tokenizer = Tokenizer(num_words=VOCAB_SIZE)\n",
        "tokenizer.fit_on_texts(clean_questions[\"Query\"].tolist())\n",
        "sequences = tokenizer.texts_to_sequences(clean_questions[\"Query\"].tolist())\n",
        "\n",
        "word_index = tokenizer.word_index\n",
        "print('Found %s unique tokens.' % len(word_index))\n",
        "\n",
        "cnn_data = pad_sequences(sequences, maxlen=MAX_SEQUENCE_LENGTH)\n",
        "labels = to_categorical(np.asarray(clean_questions[\"IsImplicitIntent\"]))\n",
        "\n",
        "indices = np.arange(cnn_data.shape[0])\n",
        "np.random.shuffle(indices)\n",
        "cnn_data = cnn_data[indices]\n",
        "labels = labels[indices]\n",
        "num_validation_samples = int(VALIDATION_SPLIT * cnn_data.shape[0])\n",
        "\n",
        "embedding_weights = np.zeros((len(word_index)+1, EMBEDDING_DIM))\n",
        "for word,index in word_index.items():\n",
        "    embedding_weights[index,:] = word2vec[word] if word in word2vec else np.random.rand(EMBEDDING_DIM)\n",
        "print(embedding_weights.shape)"
      ],
      "execution_count": null,
      "outputs": [
        {
          "output_type": "stream",
          "text": [
            "Found 514 unique tokens.\n",
            "(515, 300)\n"
          ],
          "name": "stdout"
        }
      ]
    },
    {
      "cell_type": "code",
      "metadata": {
        "id": "mZoudqilMVhy"
      },
      "source": [
        ""
      ],
      "execution_count": null,
      "outputs": []
    }
  ]
}